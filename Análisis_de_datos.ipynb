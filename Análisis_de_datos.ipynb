{
  "nbformat": 4,
  "nbformat_minor": 0,
  "metadata": {
    "colab": {
      "provenance": [],
      "collapsed_sections": [],
      "include_colab_link": true
    },
    "kernelspec": {
      "name": "python3",
      "display_name": "Python 3"
    },
    "language_info": {
      "name": "python"
    },
    "accelerator": "GPU"
  },
  "cells": [
    {
      "cell_type": "markdown",
      "metadata": {
        "id": "view-in-github",
        "colab_type": "text"
      },
      "source": [
        "<a href=\"https://colab.research.google.com/github/Davixino/Trabajo-Final/blob/main/An%C3%A1lisis_de_datos.ipynb\" target=\"_parent\"><img src=\"https://colab.research.google.com/assets/colab-badge.svg\" alt=\"Open In Colab\"/></a>"
      ]
    },
    {
      "cell_type": "markdown",
      "source": [
        "# TFM - Análisis de datos de accidentes tráfico en España\n",
        "\n",
        "\n",
        "\n",
        "\n",
        "\n",
        "**NOMBRE**: Ronald Jiménez"
      ],
      "metadata": {
        "id": "gwBLR4KjRRZw"
      }
    },
    {
      "cell_type": "markdown",
      "source": [
        "##PREPROCESAMIENTO Y CALIDAD DE DATOS"
      ],
      "metadata": {
        "id": "g3wtM4xNRabe"
      }
    },
    {
      "cell_type": "markdown",
      "source": [
        "## **LIBRERIAS**"
      ],
      "metadata": {
        "id": "HtrWKpIuLkED"
      }
    },
    {
      "cell_type": "markdown",
      "source": [
        "Aplicar las librerias necesarias para el proceso de preprocesado y calidad de datos. "
      ],
      "metadata": {
        "id": "ecvwMd0FRc32"
      }
    },
    {
      "cell_type": "code",
      "execution_count": null,
      "metadata": {
        "id": "1hMum9moA-D4"
      },
      "outputs": [],
      "source": [
        "import numpy as np\n",
        "import pandas as pd\n",
        "import seaborn as sns\n",
        "import matplotlib.pyplot as plt\n",
        "import matplotlib.mlab as mlab\n",
        "import matplotlib\n",
        "%matplotlib inline\n",
        "sns.set(style='darkgrid')\n",
        "plt.rcParams['figure.figsize'] = (16, 9)\n",
        "plt.style.use('ggplot')"
      ]
    },
    {
      "cell_type": "markdown",
      "source": [
        "### ETAPA 1: INTEGRACION Y RECOPILACION DE DATOS \n"
      ],
      "metadata": {
        "id": "7FFZXEjS3_UR"
      }
    },
    {
      "cell_type": "markdown",
      "source": [
        "Importar ficheros en formato xlsx"
      ],
      "metadata": {
        "id": "dIxfDH-sRfMO"
      }
    },
    {
      "cell_type": "markdown",
      "source": [
        "LEER DATOS INICIALES"
      ],
      "metadata": {
        "id": "ifzZJlk62bYo"
      }
    },
    {
      "cell_type": "code",
      "source": [
        "df = pd.read_excel(\"Dataset.xlsx\") "
      ],
      "metadata": {
        "id": "ONGk_k-qLm8S"
      },
      "execution_count": null,
      "outputs": []
    },
    {
      "cell_type": "markdown",
      "source": [
        "LEER DATOS DE COORDENADAS DE ESPAÑA"
      ],
      "metadata": {
        "id": "No2QGYXL2eQf"
      }
    },
    {
      "cell_type": "code",
      "source": [
        "df2 = pd.read_excel(\"coordenadas.xlsx\") "
      ],
      "metadata": {
        "id": "oJB44wi6ZjDs"
      },
      "execution_count": null,
      "outputs": []
    },
    {
      "cell_type": "markdown",
      "source": [
        "Fusionar dos datasets (DATOS INICIALES DGT Y DATOS DE COORDENADAS DE ESPAÑA)"
      ],
      "metadata": {
        "id": "8UKyY48R2mU5"
      }
    },
    {
      "cell_type": "code",
      "source": [
        "df_merge = pd.merge(df, df2, left_on='COD_PROVINCIA', right_on='Codigo')"
      ],
      "metadata": {
        "id": "KgpjCkJHaLHD"
      },
      "execution_count": null,
      "outputs": []
    },
    {
      "cell_type": "markdown",
      "source": [
        "Eliminar la instancia Geo Shape que no aporta información"
      ],
      "metadata": {
        "id": "sygy3ULb4l_P"
      }
    },
    {
      "cell_type": "code",
      "source": [
        "cols_to_drop = ['Geo Shape']\n",
        "df_merge = df_merge.drop(cols_to_drop, axis=1)"
      ],
      "metadata": {
        "id": "DyaHIBDmD7TW"
      },
      "execution_count": null,
      "outputs": []
    },
    {
      "cell_type": "markdown",
      "source": [
        "LEER DATOS POSTALES DE ESPAÑA"
      ],
      "metadata": {
        "id": "9AptuABa67s1"
      }
    },
    {
      "cell_type": "code",
      "source": [
        "df_cod = pd.read_excel(\"codigos postales.xlsx\") "
      ],
      "metadata": {
        "id": "jSlmtvgJfhry"
      },
      "execution_count": null,
      "outputs": []
    },
    {
      "cell_type": "markdown",
      "source": [
        "Fusionar TRES datasets (DATOS INICIALES DGT, DATOS DE COORDENADAS Y DATOS POSTALES DE ESPAÑA)"
      ],
      "metadata": {
        "id": "5xydQv-e7C8A"
      }
    },
    {
      "cell_type": "code",
      "source": [
        "df_cod = pd.merge(df_merge, df_cod, left_on='COD_MUNICIPIO', right_on='Código Municipio')"
      ],
      "metadata": {
        "id": "T88HdL6FgM9R"
      },
      "execution_count": null,
      "outputs": []
    },
    {
      "cell_type": "markdown",
      "source": [
        "### ETAPA 2: PREPROCESAMIENTO: LIMPIEZA DE DATOS"
      ],
      "metadata": {
        "id": "8dLQ3yEA7Qgt"
      }
    },
    {
      "cell_type": "markdown",
      "source": [
        "Ejecutar el conjunto de datos recopilados "
      ],
      "metadata": {
        "id": "arqUkpsx7JHs"
      }
    },
    {
      "cell_type": "code",
      "source": [
        "from google.colab.data_table import DataTable\n",
        "DataTable.max_columns = 100\n",
        "df_cod"
      ],
      "metadata": {
        "colab": {
          "base_uri": "https://localhost:8080/",
          "height": 592
        },
        "id": "LVtdHWZnggzJ",
        "outputId": "2877e5e0-d834-4627-b69f-68bbbba72c41"
      },
      "execution_count": null,
      "outputs": [
        {
          "output_type": "execute_result",
          "data": {
            "text/plain": [
              "       SECUENCIAL     ID_ACCIDENTE  ANYO  MES  DIA_SEMANA  HORA  \\\n",
              "0               3  202001002900213  2020    1           5    20   \n",
              "1               4  202001002900757  2020    2           6    21   \n",
              "2               5  202001002900789  2020    2           7     0   \n",
              "3               6  202001002900841  2020    2           2    17   \n",
              "4               7  202001002900957  2020    2           7    10   \n",
              "...           ...              ...   ...  ...         ...   ...   \n",
              "63379       72955  202152001000006  2020   12           1    15   \n",
              "63380       72956  202152001000007  2020   12           4     9   \n",
              "63381       72957  202152001000008  2020   12           5    17   \n",
              "63382       72958  202152001000009  2020   12           4    21   \n",
              "63383       72959  202152001000010  2020   12           3    17   \n",
              "\n",
              "       COD_PROVINCIA  COD_MUNICIPIO  ISLA  ZONA  ...  ACERA TRAZADO_PLANTA  \\\n",
              "0                  1           1002   NaN     1  ...    998              2   \n",
              "1                  1           1002   NaN     1  ...    998              3   \n",
              "2                  1           1002   NaN     1  ...    998              1   \n",
              "3                  1           1002   NaN     1  ...    998              2   \n",
              "4                  1           1002   NaN     1  ...    998              2   \n",
              "...              ...            ...   ...   ...  ...    ...            ...   \n",
              "63379             52          52001   NaN     3  ...    998            998   \n",
              "63380             52          52001   NaN     3  ...      4            998   \n",
              "63381             52          52001   NaN     3  ...      4            998   \n",
              "63382             52          52001   NaN     3  ...      4            998   \n",
              "63383             52          52001   NaN     3  ...      4            998   \n",
              "\n",
              "                          Geo Point        CCAA  Cod_CCAA  Provincia    Texto  \\\n",
              "0      42.8351264353,-2.72060346921  País Vasco        16      Araba    Álava   \n",
              "1      42.8351264353,-2.72060346921  País Vasco        16      Araba    Álava   \n",
              "2      42.8351264353,-2.72060346921  País Vasco        16      Araba    Álava   \n",
              "3      42.8351264353,-2.72060346921  País Vasco        16      Araba    Álava   \n",
              "4      42.8351264353,-2.72060346921  País Vasco        16      Araba    Álava   \n",
              "...                             ...         ...       ...        ...      ...   \n",
              "63379  35.2908279949,-2.95053552337     Melilla        19    Melilla  Melilla   \n",
              "63380  35.2908279949,-2.95053552337     Melilla        19    Melilla  Melilla   \n",
              "63381  35.2908279949,-2.95053552337     Melilla        19    Melilla  Melilla   \n",
              "63382  35.2908279949,-2.95053552337     Melilla        19    Melilla  Melilla   \n",
              "63383  35.2908279949,-2.95053552337     Melilla        19    Melilla  Melilla   \n",
              "\n",
              "      Codigo  Código Municipio  Municipio  \n",
              "0          1              1002    AMURRIO  \n",
              "1          1              1002    AMURRIO  \n",
              "2          1              1002    AMURRIO  \n",
              "3          1              1002    AMURRIO  \n",
              "4          1              1002    AMURRIO  \n",
              "...      ...               ...        ...  \n",
              "63379     52             52001    MELILLA  \n",
              "63380     52             52001    MELILLA  \n",
              "63381     52             52001    MELILLA  \n",
              "63382     52             52001    MELILLA  \n",
              "63383     52             52001    MELILLA  \n",
              "\n",
              "[63384 rows x 83 columns]"
            ],
            "text/html": [
              "\n",
              "  <div id=\"df-55230658-d0c4-4e6e-82db-34d4eb38ea1d\">\n",
              "    <div class=\"colab-df-container\">\n",
              "      <div>\n",
              "<style scoped>\n",
              "    .dataframe tbody tr th:only-of-type {\n",
              "        vertical-align: middle;\n",
              "    }\n",
              "\n",
              "    .dataframe tbody tr th {\n",
              "        vertical-align: top;\n",
              "    }\n",
              "\n",
              "    .dataframe thead th {\n",
              "        text-align: right;\n",
              "    }\n",
              "</style>\n",
              "<table border=\"1\" class=\"dataframe\">\n",
              "  <thead>\n",
              "    <tr style=\"text-align: right;\">\n",
              "      <th></th>\n",
              "      <th>SECUENCIAL</th>\n",
              "      <th>ID_ACCIDENTE</th>\n",
              "      <th>ANYO</th>\n",
              "      <th>MES</th>\n",
              "      <th>DIA_SEMANA</th>\n",
              "      <th>HORA</th>\n",
              "      <th>COD_PROVINCIA</th>\n",
              "      <th>COD_MUNICIPIO</th>\n",
              "      <th>ISLA</th>\n",
              "      <th>ZONA</th>\n",
              "      <th>...</th>\n",
              "      <th>ACERA</th>\n",
              "      <th>TRAZADO_PLANTA</th>\n",
              "      <th>Geo Point</th>\n",
              "      <th>CCAA</th>\n",
              "      <th>Cod_CCAA</th>\n",
              "      <th>Provincia</th>\n",
              "      <th>Texto</th>\n",
              "      <th>Codigo</th>\n",
              "      <th>Código Municipio</th>\n",
              "      <th>Municipio</th>\n",
              "    </tr>\n",
              "  </thead>\n",
              "  <tbody>\n",
              "    <tr>\n",
              "      <th>0</th>\n",
              "      <td>3</td>\n",
              "      <td>202001002900213</td>\n",
              "      <td>2020</td>\n",
              "      <td>1</td>\n",
              "      <td>5</td>\n",
              "      <td>20</td>\n",
              "      <td>1</td>\n",
              "      <td>1002</td>\n",
              "      <td>NaN</td>\n",
              "      <td>1</td>\n",
              "      <td>...</td>\n",
              "      <td>998</td>\n",
              "      <td>2</td>\n",
              "      <td>42.8351264353,-2.72060346921</td>\n",
              "      <td>País Vasco</td>\n",
              "      <td>16</td>\n",
              "      <td>Araba</td>\n",
              "      <td>Álava</td>\n",
              "      <td>1</td>\n",
              "      <td>1002</td>\n",
              "      <td>AMURRIO</td>\n",
              "    </tr>\n",
              "    <tr>\n",
              "      <th>1</th>\n",
              "      <td>4</td>\n",
              "      <td>202001002900757</td>\n",
              "      <td>2020</td>\n",
              "      <td>2</td>\n",
              "      <td>6</td>\n",
              "      <td>21</td>\n",
              "      <td>1</td>\n",
              "      <td>1002</td>\n",
              "      <td>NaN</td>\n",
              "      <td>1</td>\n",
              "      <td>...</td>\n",
              "      <td>998</td>\n",
              "      <td>3</td>\n",
              "      <td>42.8351264353,-2.72060346921</td>\n",
              "      <td>País Vasco</td>\n",
              "      <td>16</td>\n",
              "      <td>Araba</td>\n",
              "      <td>Álava</td>\n",
              "      <td>1</td>\n",
              "      <td>1002</td>\n",
              "      <td>AMURRIO</td>\n",
              "    </tr>\n",
              "    <tr>\n",
              "      <th>2</th>\n",
              "      <td>5</td>\n",
              "      <td>202001002900789</td>\n",
              "      <td>2020</td>\n",
              "      <td>2</td>\n",
              "      <td>7</td>\n",
              "      <td>0</td>\n",
              "      <td>1</td>\n",
              "      <td>1002</td>\n",
              "      <td>NaN</td>\n",
              "      <td>1</td>\n",
              "      <td>...</td>\n",
              "      <td>998</td>\n",
              "      <td>1</td>\n",
              "      <td>42.8351264353,-2.72060346921</td>\n",
              "      <td>País Vasco</td>\n",
              "      <td>16</td>\n",
              "      <td>Araba</td>\n",
              "      <td>Álava</td>\n",
              "      <td>1</td>\n",
              "      <td>1002</td>\n",
              "      <td>AMURRIO</td>\n",
              "    </tr>\n",
              "    <tr>\n",
              "      <th>3</th>\n",
              "      <td>6</td>\n",
              "      <td>202001002900841</td>\n",
              "      <td>2020</td>\n",
              "      <td>2</td>\n",
              "      <td>2</td>\n",
              "      <td>17</td>\n",
              "      <td>1</td>\n",
              "      <td>1002</td>\n",
              "      <td>NaN</td>\n",
              "      <td>1</td>\n",
              "      <td>...</td>\n",
              "      <td>998</td>\n",
              "      <td>2</td>\n",
              "      <td>42.8351264353,-2.72060346921</td>\n",
              "      <td>País Vasco</td>\n",
              "      <td>16</td>\n",
              "      <td>Araba</td>\n",
              "      <td>Álava</td>\n",
              "      <td>1</td>\n",
              "      <td>1002</td>\n",
              "      <td>AMURRIO</td>\n",
              "    </tr>\n",
              "    <tr>\n",
              "      <th>4</th>\n",
              "      <td>7</td>\n",
              "      <td>202001002900957</td>\n",
              "      <td>2020</td>\n",
              "      <td>2</td>\n",
              "      <td>7</td>\n",
              "      <td>10</td>\n",
              "      <td>1</td>\n",
              "      <td>1002</td>\n",
              "      <td>NaN</td>\n",
              "      <td>1</td>\n",
              "      <td>...</td>\n",
              "      <td>998</td>\n",
              "      <td>2</td>\n",
              "      <td>42.8351264353,-2.72060346921</td>\n",
              "      <td>País Vasco</td>\n",
              "      <td>16</td>\n",
              "      <td>Araba</td>\n",
              "      <td>Álava</td>\n",
              "      <td>1</td>\n",
              "      <td>1002</td>\n",
              "      <td>AMURRIO</td>\n",
              "    </tr>\n",
              "    <tr>\n",
              "      <th>...</th>\n",
              "      <td>...</td>\n",
              "      <td>...</td>\n",
              "      <td>...</td>\n",
              "      <td>...</td>\n",
              "      <td>...</td>\n",
              "      <td>...</td>\n",
              "      <td>...</td>\n",
              "      <td>...</td>\n",
              "      <td>...</td>\n",
              "      <td>...</td>\n",
              "      <td>...</td>\n",
              "      <td>...</td>\n",
              "      <td>...</td>\n",
              "      <td>...</td>\n",
              "      <td>...</td>\n",
              "      <td>...</td>\n",
              "      <td>...</td>\n",
              "      <td>...</td>\n",
              "      <td>...</td>\n",
              "      <td>...</td>\n",
              "      <td>...</td>\n",
              "    </tr>\n",
              "    <tr>\n",
              "      <th>63379</th>\n",
              "      <td>72955</td>\n",
              "      <td>202152001000006</td>\n",
              "      <td>2020</td>\n",
              "      <td>12</td>\n",
              "      <td>1</td>\n",
              "      <td>15</td>\n",
              "      <td>52</td>\n",
              "      <td>52001</td>\n",
              "      <td>NaN</td>\n",
              "      <td>3</td>\n",
              "      <td>...</td>\n",
              "      <td>998</td>\n",
              "      <td>998</td>\n",
              "      <td>35.2908279949,-2.95053552337</td>\n",
              "      <td>Melilla</td>\n",
              "      <td>19</td>\n",
              "      <td>Melilla</td>\n",
              "      <td>Melilla</td>\n",
              "      <td>52</td>\n",
              "      <td>52001</td>\n",
              "      <td>MELILLA</td>\n",
              "    </tr>\n",
              "    <tr>\n",
              "      <th>63380</th>\n",
              "      <td>72956</td>\n",
              "      <td>202152001000007</td>\n",
              "      <td>2020</td>\n",
              "      <td>12</td>\n",
              "      <td>4</td>\n",
              "      <td>9</td>\n",
              "      <td>52</td>\n",
              "      <td>52001</td>\n",
              "      <td>NaN</td>\n",
              "      <td>3</td>\n",
              "      <td>...</td>\n",
              "      <td>4</td>\n",
              "      <td>998</td>\n",
              "      <td>35.2908279949,-2.95053552337</td>\n",
              "      <td>Melilla</td>\n",
              "      <td>19</td>\n",
              "      <td>Melilla</td>\n",
              "      <td>Melilla</td>\n",
              "      <td>52</td>\n",
              "      <td>52001</td>\n",
              "      <td>MELILLA</td>\n",
              "    </tr>\n",
              "    <tr>\n",
              "      <th>63381</th>\n",
              "      <td>72957</td>\n",
              "      <td>202152001000008</td>\n",
              "      <td>2020</td>\n",
              "      <td>12</td>\n",
              "      <td>5</td>\n",
              "      <td>17</td>\n",
              "      <td>52</td>\n",
              "      <td>52001</td>\n",
              "      <td>NaN</td>\n",
              "      <td>3</td>\n",
              "      <td>...</td>\n",
              "      <td>4</td>\n",
              "      <td>998</td>\n",
              "      <td>35.2908279949,-2.95053552337</td>\n",
              "      <td>Melilla</td>\n",
              "      <td>19</td>\n",
              "      <td>Melilla</td>\n",
              "      <td>Melilla</td>\n",
              "      <td>52</td>\n",
              "      <td>52001</td>\n",
              "      <td>MELILLA</td>\n",
              "    </tr>\n",
              "    <tr>\n",
              "      <th>63382</th>\n",
              "      <td>72958</td>\n",
              "      <td>202152001000009</td>\n",
              "      <td>2020</td>\n",
              "      <td>12</td>\n",
              "      <td>4</td>\n",
              "      <td>21</td>\n",
              "      <td>52</td>\n",
              "      <td>52001</td>\n",
              "      <td>NaN</td>\n",
              "      <td>3</td>\n",
              "      <td>...</td>\n",
              "      <td>4</td>\n",
              "      <td>998</td>\n",
              "      <td>35.2908279949,-2.95053552337</td>\n",
              "      <td>Melilla</td>\n",
              "      <td>19</td>\n",
              "      <td>Melilla</td>\n",
              "      <td>Melilla</td>\n",
              "      <td>52</td>\n",
              "      <td>52001</td>\n",
              "      <td>MELILLA</td>\n",
              "    </tr>\n",
              "    <tr>\n",
              "      <th>63383</th>\n",
              "      <td>72959</td>\n",
              "      <td>202152001000010</td>\n",
              "      <td>2020</td>\n",
              "      <td>12</td>\n",
              "      <td>3</td>\n",
              "      <td>17</td>\n",
              "      <td>52</td>\n",
              "      <td>52001</td>\n",
              "      <td>NaN</td>\n",
              "      <td>3</td>\n",
              "      <td>...</td>\n",
              "      <td>4</td>\n",
              "      <td>998</td>\n",
              "      <td>35.2908279949,-2.95053552337</td>\n",
              "      <td>Melilla</td>\n",
              "      <td>19</td>\n",
              "      <td>Melilla</td>\n",
              "      <td>Melilla</td>\n",
              "      <td>52</td>\n",
              "      <td>52001</td>\n",
              "      <td>MELILLA</td>\n",
              "    </tr>\n",
              "  </tbody>\n",
              "</table>\n",
              "<p>63384 rows × 83 columns</p>\n",
              "</div>\n",
              "      <button class=\"colab-df-convert\" onclick=\"convertToInteractive('df-55230658-d0c4-4e6e-82db-34d4eb38ea1d')\"\n",
              "              title=\"Convert this dataframe to an interactive table.\"\n",
              "              style=\"display:none;\">\n",
              "        \n",
              "  <svg xmlns=\"http://www.w3.org/2000/svg\" height=\"24px\"viewBox=\"0 0 24 24\"\n",
              "       width=\"24px\">\n",
              "    <path d=\"M0 0h24v24H0V0z\" fill=\"none\"/>\n",
              "    <path d=\"M18.56 5.44l.94 2.06.94-2.06 2.06-.94-2.06-.94-.94-2.06-.94 2.06-2.06.94zm-11 1L8.5 8.5l.94-2.06 2.06-.94-2.06-.94L8.5 2.5l-.94 2.06-2.06.94zm10 10l.94 2.06.94-2.06 2.06-.94-2.06-.94-.94-2.06-.94 2.06-2.06.94z\"/><path d=\"M17.41 7.96l-1.37-1.37c-.4-.4-.92-.59-1.43-.59-.52 0-1.04.2-1.43.59L10.3 9.45l-7.72 7.72c-.78.78-.78 2.05 0 2.83L4 21.41c.39.39.9.59 1.41.59.51 0 1.02-.2 1.41-.59l7.78-7.78 2.81-2.81c.8-.78.8-2.07 0-2.86zM5.41 20L4 18.59l7.72-7.72 1.47 1.35L5.41 20z\"/>\n",
              "  </svg>\n",
              "      </button>\n",
              "      \n",
              "  <style>\n",
              "    .colab-df-container {\n",
              "      display:flex;\n",
              "      flex-wrap:wrap;\n",
              "      gap: 12px;\n",
              "    }\n",
              "\n",
              "    .colab-df-convert {\n",
              "      background-color: #E8F0FE;\n",
              "      border: none;\n",
              "      border-radius: 50%;\n",
              "      cursor: pointer;\n",
              "      display: none;\n",
              "      fill: #1967D2;\n",
              "      height: 32px;\n",
              "      padding: 0 0 0 0;\n",
              "      width: 32px;\n",
              "    }\n",
              "\n",
              "    .colab-df-convert:hover {\n",
              "      background-color: #E2EBFA;\n",
              "      box-shadow: 0px 1px 2px rgba(60, 64, 67, 0.3), 0px 1px 3px 1px rgba(60, 64, 67, 0.15);\n",
              "      fill: #174EA6;\n",
              "    }\n",
              "\n",
              "    [theme=dark] .colab-df-convert {\n",
              "      background-color: #3B4455;\n",
              "      fill: #D2E3FC;\n",
              "    }\n",
              "\n",
              "    [theme=dark] .colab-df-convert:hover {\n",
              "      background-color: #434B5C;\n",
              "      box-shadow: 0px 1px 3px 1px rgba(0, 0, 0, 0.15);\n",
              "      filter: drop-shadow(0px 1px 2px rgba(0, 0, 0, 0.3));\n",
              "      fill: #FFFFFF;\n",
              "    }\n",
              "  </style>\n",
              "\n",
              "      <script>\n",
              "        const buttonEl =\n",
              "          document.querySelector('#df-55230658-d0c4-4e6e-82db-34d4eb38ea1d button.colab-df-convert');\n",
              "        buttonEl.style.display =\n",
              "          google.colab.kernel.accessAllowed ? 'block' : 'none';\n",
              "\n",
              "        async function convertToInteractive(key) {\n",
              "          const element = document.querySelector('#df-55230658-d0c4-4e6e-82db-34d4eb38ea1d');\n",
              "          const dataTable =\n",
              "            await google.colab.kernel.invokeFunction('convertToInteractive',\n",
              "                                                     [key], {});\n",
              "          if (!dataTable) return;\n",
              "\n",
              "          const docLinkHtml = 'Like what you see? Visit the ' +\n",
              "            '<a target=\"_blank\" href=https://colab.research.google.com/notebooks/data_table.ipynb>data table notebook</a>'\n",
              "            + ' to learn more about interactive tables.';\n",
              "          element.innerHTML = '';\n",
              "          dataTable['output_type'] = 'display_data';\n",
              "          await google.colab.output.renderOutput(dataTable, element);\n",
              "          const docLink = document.createElement('div');\n",
              "          docLink.innerHTML = docLinkHtml;\n",
              "          element.appendChild(docLink);\n",
              "        }\n",
              "      </script>\n",
              "    </div>\n",
              "  </div>\n",
              "  "
            ]
          },
          "metadata": {},
          "execution_count": 8
        }
      ]
    },
    {
      "cell_type": "markdown",
      "source": [
        "Determinar la cantidad de registros y la instancia"
      ],
      "metadata": {
        "id": "9YiNyQv57yW3"
      }
    },
    {
      "cell_type": "code",
      "source": [
        "df_cod.shape"
      ],
      "metadata": {
        "colab": {
          "base_uri": "https://localhost:8080/"
        },
        "id": "jw8hrXoXV1CT",
        "outputId": "93255ca3-906b-4c36-9031-f53c195995a4"
      },
      "execution_count": null,
      "outputs": [
        {
          "output_type": "execute_result",
          "data": {
            "text/plain": [
              "(63384, 83)"
            ]
          },
          "metadata": {},
          "execution_count": 9
        }
      ]
    },
    {
      "cell_type": "markdown",
      "source": [
        "Analizar  el tipo de datos de cada variable"
      ],
      "metadata": {
        "id": "UFblqVJaRpCW"
      }
    },
    {
      "cell_type": "code",
      "source": [
        "df_cod.dtypes"
      ],
      "metadata": {
        "colab": {
          "base_uri": "https://localhost:8080/"
        },
        "id": "GAgKj4lBV2bi",
        "outputId": "469576f1-cde2-4cc5-d88a-09221c3e5668"
      },
      "execution_count": null,
      "outputs": [
        {
          "output_type": "execute_result",
          "data": {
            "text/plain": [
              "SECUENCIAL           int64\n",
              "ID_ACCIDENTE         int64\n",
              "ANYO                 int64\n",
              "MES                  int64\n",
              "DIA_SEMANA           int64\n",
              "                     ...  \n",
              "Provincia           object\n",
              "Texto               object\n",
              "Codigo               int64\n",
              "Código Municipio     int64\n",
              "Municipio           object\n",
              "Length: 83, dtype: object"
            ]
          },
          "metadata": {},
          "execution_count": 10
        }
      ]
    },
    {
      "cell_type": "markdown",
      "source": [
        "Actualizar el tipo de datos de las variables"
      ],
      "metadata": {
        "id": "ZIdN2Iu-6y1a"
      }
    },
    {
      "cell_type": "code",
      "source": [
        "\n",
        "df_cod = df_cod.infer_objects()"
      ],
      "metadata": {
        "id": "HtPkoHc67bG3"
      },
      "execution_count": null,
      "outputs": []
    },
    {
      "cell_type": "markdown",
      "source": [
        " Averiguar cuales son las variables cuantativas "
      ],
      "metadata": {
        "id": "ahq7BeWXRwKX"
      }
    },
    {
      "cell_type": "code",
      "source": [
        "df_numeric = df_cod.select_dtypes(include=[np.number])\n",
        "numeric_cols = df_numeric.columns.values\n",
        "print(numeric_cols)"
      ],
      "metadata": {
        "colab": {
          "base_uri": "https://localhost:8080/"
        },
        "id": "Fu4jABvTV4Oq",
        "outputId": "bac48de9-ab7c-4737-c42e-dbd4f53ebd0b"
      },
      "execution_count": null,
      "outputs": [
        {
          "output_type": "stream",
          "name": "stdout",
          "text": [
            "['SECUENCIAL' 'ID_ACCIDENTE' 'ANYO' 'MES' 'DIA_SEMANA' 'HORA'\n",
            " 'COD_PROVINCIA' 'COD_MUNICIPIO' 'ISLA' 'ZONA' 'ZONA_AGRUPADA' 'KM'\n",
            " 'SENTIDO_1F' 'TITULARIDAD_VIA' 'TIPO_VIA' 'TIPO_ACCIDENTE' 'TOTAL_MU24H'\n",
            " 'TOTAL_HG24H' 'TOTAL_HL24H' 'TOTAL_VICTIMAS_24H' 'TOTAL_MU30DF'\n",
            " 'TOTAL_HG30DF' 'TOTAL_HL30DF' 'TOTAL_VICTIMAS_30DF' 'TOTAL_VEHICULOS'\n",
            " 'TOT_PEAT_MU24H' 'TOT_BICI_MU24H' 'TOT_CICLO_MU24H' 'TOT_MOTO_MU24H'\n",
            " 'TOT_TUR_MU24H' 'TOT_FURG_MU24H' 'TOT_CAM_MENOS3500_MU24H'\n",
            " 'TOT_CAM_MAS3500_MU24H' 'TOT_BUS_MU24H' 'TOT_VMP_MU24H' 'TOT_OTRO_MU24H'\n",
            " 'TOT_SINESPECIF_MU24H' 'TOT_PEAT_MU30DF' 'TOT_BICI_MU30DF'\n",
            " 'TOT_CICLO_MU30DF' 'TOT_MOTO_MU30DF' 'TOT_TUR_MU30DF' 'TOT_FURG_MU30DF'\n",
            " 'TOT_CAM_MENOS3500_MU30DF' 'TOT_CAM_MAS3500_MU30DF' 'TOT_BUS_MU30DF'\n",
            " 'TOT_VMP_MU30DF' 'TOT_OTRO_MU30DF' 'TOT_SINESPECIF_MU30DF' 'NUDO'\n",
            " 'NUDO_INFO' 'PRIORI_NORMA' 'PRIORI_AGENTE' 'PRIORI_SEMAFORO'\n",
            " 'PRIORI_VERT_STOP' 'PRIORI_VERT_CEDA' 'PRIORI_HORIZ_STOP'\n",
            " 'PRIORI_HORIZ_CEDA' 'PRIORI_MARCAS' 'PRIORI_PEA_NO_ELEV'\n",
            " 'PRIORI_PEA_ELEV' 'PRIORI_MARCA_CICLOS' 'PRIORI_CIRCUNSTANCIAL'\n",
            " 'PRIORI_OTRA' 'CONDICION_NIVEL_CIRCULA' 'CONDICION_FIRME'\n",
            " 'CONDICION_ILUMINACION' 'CONDICION_METEO' 'CONDICION_NIEBLA'\n",
            " 'CONDICION_VIENTO' 'VISIB_RESTRINGIDA_POR' 'ACERA' 'TRAZADO_PLANTA'\n",
            " 'Cod_CCAA' 'Codigo' 'Código Municipio']\n"
          ]
        }
      ]
    },
    {
      "cell_type": "markdown",
      "source": [
        "Averiguar cuales son las variables categóricas o cualitativas"
      ],
      "metadata": {
        "id": "dyzBivI5Rx9P"
      }
    },
    {
      "cell_type": "code",
      "source": [
        "df_non_numeric = df_cod.select_dtypes(exclude=[np.number])\n",
        "non_numeric_cols = df_non_numeric.columns.values\n",
        "print(non_numeric_cols)"
      ],
      "metadata": {
        "colab": {
          "base_uri": "https://localhost:8080/"
        },
        "id": "Pl26VSIGV5c3",
        "outputId": "0bdcd8ea-a909-41cf-9d01-8a801ca43eb9"
      },
      "execution_count": null,
      "outputs": [
        {
          "output_type": "stream",
          "name": "stdout",
          "text": [
            "['CARRETERA' 'CARRETERA_CRUCE' 'Geo Point' 'CCAA' 'Provincia' 'Texto'\n",
            " 'Municipio']\n"
          ]
        }
      ]
    },
    {
      "cell_type": "markdown",
      "source": [
        "Se procede instalar la libreria missingno para detectar los valores anulos de todas las variables numéricas"
      ],
      "metadata": {
        "id": "5NdEPHqkR0Do"
      }
    },
    {
      "cell_type": "code",
      "source": [
        "#!pip install missingno"
      ],
      "metadata": {
        "id": "ABqBzb_1R1u2"
      },
      "execution_count": null,
      "outputs": []
    },
    {
      "cell_type": "code",
      "source": [
        "import missingno as msno\n",
        "msno.matrix(df_cod)"
      ],
      "metadata": {
        "colab": {
          "base_uri": "https://localhost:8080/",
          "height": 511
        },
        "id": "4MancSlCV8Xi",
        "outputId": "fbb6c502-63ef-437a-d6d4-7254af733fbc"
      },
      "execution_count": null,
      "outputs": [
        {
          "output_type": "execute_result",
          "data": {
            "text/plain": [
              "<matplotlib.axes._subplots.AxesSubplot at 0x7ff07cf3ec10>"
            ]
          },
          "metadata": {},
          "execution_count": 15
        },
        {
          "output_type": "display_data",
          "data": {
            "text/plain": [
              "<Figure size 1800x720 with 2 Axes>"
            ],
            "image/png": "[encoded data removed]"
          },
          "metadata": {}
        }
      ]
    },
    {
      "cell_type": "markdown",
      "source": [
        "Se procede analizar la cantidad de valores faltantes de cada variable"
      ],
      "metadata": {
        "id": "qQM6w8poR5VA"
      }
    },
    {
      "cell_type": "code",
      "source": [
        "for col in df_cod.columns:\n",
        "    pct_missing = np.mean(df_cod[col].isna().sum())\n",
        "    print('{} - {}'.format(col, round(pct_missing)))"
      ],
      "metadata": {
        "colab": {
          "base_uri": "https://localhost:8080/"
        },
        "id": "yROk5yCtW6zz",
        "outputId": "7fc07931-e998-4214-ef07-6b4265c30da4"
      },
      "execution_count": null,
      "outputs": [
        {
          "output_type": "stream",
          "name": "stdout",
          "text": [
            "SECUENCIAL - 0\n",
            "ID_ACCIDENTE - 0\n",
            "ANYO - 0\n",
            "MES - 0\n",
            "DIA_SEMANA - 0\n",
            "HORA - 0\n",
            "COD_PROVINCIA - 0\n",
            "COD_MUNICIPIO - 0\n",
            "ISLA - 58955\n",
            "ZONA - 0\n",
            "ZONA_AGRUPADA - 0\n",
            "CARRETERA - 0\n",
            "KM - 33040\n",
            "SENTIDO_1F - 0\n",
            "TITULARIDAD_VIA - 0\n",
            "TIPO_VIA - 0\n",
            "TIPO_ACCIDENTE - 0\n",
            "TOTAL_MU24H - 0\n",
            "TOTAL_HG24H - 0\n",
            "TOTAL_HL24H - 0\n",
            "TOTAL_VICTIMAS_24H - 0\n",
            "TOTAL_MU30DF - 0\n",
            "TOTAL_HG30DF - 0\n",
            "TOTAL_HL30DF - 0\n",
            "TOTAL_VICTIMAS_30DF - 0\n",
            "TOTAL_VEHICULOS - 0\n",
            "TOT_PEAT_MU24H - 0\n",
            "TOT_BICI_MU24H - 0\n",
            "TOT_CICLO_MU24H - 0\n",
            "TOT_MOTO_MU24H - 0\n",
            "TOT_TUR_MU24H - 0\n",
            "TOT_FURG_MU24H - 0\n",
            "TOT_CAM_MENOS3500_MU24H - 0\n",
            "TOT_CAM_MAS3500_MU24H - 0\n",
            "TOT_BUS_MU24H - 0\n",
            "TOT_VMP_MU24H - 0\n",
            "TOT_OTRO_MU24H - 0\n",
            "TOT_SINESPECIF_MU24H - 0\n",
            "TOT_PEAT_MU30DF - 0\n",
            "TOT_BICI_MU30DF - 0\n",
            "TOT_CICLO_MU30DF - 0\n",
            "TOT_MOTO_MU30DF - 0\n",
            "TOT_TUR_MU30DF - 0\n",
            "TOT_FURG_MU30DF - 0\n",
            "TOT_CAM_MENOS3500_MU30DF - 0\n",
            "TOT_CAM_MAS3500_MU30DF - 0\n",
            "TOT_BUS_MU30DF - 0\n",
            "TOT_VMP_MU30DF - 0\n",
            "TOT_OTRO_MU30DF - 0\n",
            "TOT_SINESPECIF_MU30DF - 0\n",
            "NUDO - 33\n",
            "NUDO_INFO - 36462\n",
            "CARRETERA_CRUCE - 61802\n",
            "PRIORI_NORMA - 0\n",
            "PRIORI_AGENTE - 0\n",
            "PRIORI_SEMAFORO - 0\n",
            "PRIORI_VERT_STOP - 0\n",
            "PRIORI_VERT_CEDA - 0\n",
            "PRIORI_HORIZ_STOP - 0\n",
            "PRIORI_HORIZ_CEDA - 0\n",
            "PRIORI_MARCAS - 0\n",
            "PRIORI_PEA_NO_ELEV - 0\n",
            "PRIORI_PEA_ELEV - 0\n",
            "PRIORI_MARCA_CICLOS - 0\n",
            "PRIORI_CIRCUNSTANCIAL - 0\n",
            "PRIORI_OTRA - 0\n",
            "CONDICION_NIVEL_CIRCULA - 0\n",
            "CONDICION_FIRME - 0\n",
            "CONDICION_ILUMINACION - 0\n",
            "CONDICION_METEO - 0\n",
            "CONDICION_NIEBLA - 57295\n",
            "CONDICION_VIENTO - 63107\n",
            "VISIB_RESTRINGIDA_POR - 0\n",
            "ACERA - 0\n",
            "TRAZADO_PLANTA - 0\n",
            "Geo Point - 0\n",
            "CCAA - 0\n",
            "Cod_CCAA - 0\n",
            "Provincia - 0\n",
            "Texto - 0\n",
            "Codigo - 0\n",
            "Código Municipio - 0\n",
            "Municipio - 0\n"
          ]
        }
      ]
    },
    {
      "cell_type": "markdown",
      "source": [
        "Determinar valores faltantes en porcentaje de cada variable"
      ],
      "metadata": {
        "id": "6HKnMsGRR9_G"
      }
    },
    {
      "cell_type": "code",
      "source": [
        "for col in df_cod.columns:\n",
        "    pct_missing = np.mean(df_cod[col].isnull())\n",
        "    print('{} - {}%'.format(col, round(pct_missing*100)))"
      ],
      "metadata": {
        "colab": {
          "base_uri": "https://localhost:8080/"
        },
        "id": "k4WXu8nKW_oC",
        "outputId": "2e61287c-f7a1-42c7-a14f-2acee299756d"
      },
      "execution_count": null,
      "outputs": [
        {
          "output_type": "stream",
          "name": "stdout",
          "text": [
            "SECUENCIAL - 0%\n",
            "ID_ACCIDENTE - 0%\n",
            "ANYO - 0%\n",
            "MES - 0%\n",
            "DIA_SEMANA - 0%\n",
            "HORA - 0%\n",
            "COD_PROVINCIA - 0%\n",
            "COD_MUNICIPIO - 0%\n",
            "ISLA - 93%\n",
            "ZONA - 0%\n",
            "ZONA_AGRUPADA - 0%\n",
            "CARRETERA - 0%\n",
            "KM - 52%\n",
            "SENTIDO_1F - 0%\n",
            "TITULARIDAD_VIA - 0%\n",
            "TIPO_VIA - 0%\n",
            "TIPO_ACCIDENTE - 0%\n",
            "TOTAL_MU24H - 0%\n",
            "TOTAL_HG24H - 0%\n",
            "TOTAL_HL24H - 0%\n",
            "TOTAL_VICTIMAS_24H - 0%\n",
            "TOTAL_MU30DF - 0%\n",
            "TOTAL_HG30DF - 0%\n",
            "TOTAL_HL30DF - 0%\n",
            "TOTAL_VICTIMAS_30DF - 0%\n",
            "TOTAL_VEHICULOS - 0%\n",
            "TOT_PEAT_MU24H - 0%\n",
            "TOT_BICI_MU24H - 0%\n",
            "TOT_CICLO_MU24H - 0%\n",
            "TOT_MOTO_MU24H - 0%\n",
            "TOT_TUR_MU24H - 0%\n",
            "TOT_FURG_MU24H - 0%\n",
            "TOT_CAM_MENOS3500_MU24H - 0%\n",
            "TOT_CAM_MAS3500_MU24H - 0%\n",
            "TOT_BUS_MU24H - 0%\n",
            "TOT_VMP_MU24H - 0%\n",
            "TOT_OTRO_MU24H - 0%\n",
            "TOT_SINESPECIF_MU24H - 0%\n",
            "TOT_PEAT_MU30DF - 0%\n",
            "TOT_BICI_MU30DF - 0%\n",
            "TOT_CICLO_MU30DF - 0%\n",
            "TOT_MOTO_MU30DF - 0%\n",
            "TOT_TUR_MU30DF - 0%\n",
            "TOT_FURG_MU30DF - 0%\n",
            "TOT_CAM_MENOS3500_MU30DF - 0%\n",
            "TOT_CAM_MAS3500_MU30DF - 0%\n",
            "TOT_BUS_MU30DF - 0%\n",
            "TOT_VMP_MU30DF - 0%\n",
            "TOT_OTRO_MU30DF - 0%\n",
            "TOT_SINESPECIF_MU30DF - 0%\n",
            "NUDO - 0%\n",
            "NUDO_INFO - 58%\n",
            "CARRETERA_CRUCE - 98%\n",
            "PRIORI_NORMA - 0%\n",
            "PRIORI_AGENTE - 0%\n",
            "PRIORI_SEMAFORO - 0%\n",
            "PRIORI_VERT_STOP - 0%\n",
            "PRIORI_VERT_CEDA - 0%\n",
            "PRIORI_HORIZ_STOP - 0%\n",
            "PRIORI_HORIZ_CEDA - 0%\n",
            "PRIORI_MARCAS - 0%\n",
            "PRIORI_PEA_NO_ELEV - 0%\n",
            "PRIORI_PEA_ELEV - 0%\n",
            "PRIORI_MARCA_CICLOS - 0%\n",
            "PRIORI_CIRCUNSTANCIAL - 0%\n",
            "PRIORI_OTRA - 0%\n",
            "CONDICION_NIVEL_CIRCULA - 0%\n",
            "CONDICION_FIRME - 0%\n",
            "CONDICION_ILUMINACION - 0%\n",
            "CONDICION_METEO - 0%\n",
            "CONDICION_NIEBLA - 90%\n",
            "CONDICION_VIENTO - 100%\n",
            "VISIB_RESTRINGIDA_POR - 0%\n",
            "ACERA - 0%\n",
            "TRAZADO_PLANTA - 0%\n",
            "Geo Point - 0%\n",
            "CCAA - 0%\n",
            "Cod_CCAA - 0%\n",
            "Provincia - 0%\n",
            "Texto - 0%\n",
            "Codigo - 0%\n",
            "Código Municipio - 0%\n",
            "Municipio - 0%\n"
          ]
        }
      ]
    },
    {
      "cell_type": "markdown",
      "source": [
        "Eliminar algunas variables que tiene gran cantidad de valores faltantes y que no aportan información util. Reemplazar los valores faltantes como Desconocido."
      ],
      "metadata": {
        "id": "TIutNtdJSBnQ"
      }
    },
    {
      "cell_type": "code",
      "source": [
        "df_cod.shape"
      ],
      "metadata": {
        "colab": {
          "base_uri": "https://localhost:8080/"
        },
        "id": "vseVJr222ytF",
        "outputId": "92c1a60e-54ff-44da-e157-53f698af1ecf"
      },
      "execution_count": null,
      "outputs": [
        {
          "output_type": "execute_result",
          "data": {
            "text/plain": [
              "(63384, 83)"
            ]
          },
          "metadata": {},
          "execution_count": 18
        }
      ]
    },
    {
      "cell_type": "markdown",
      "source": [
        "Agrupar las categorias"
      ],
      "metadata": {
        "id": "mFaqvsUD8glr"
      }
    },
    {
      "cell_type": "code",
      "source": [
        "df_cod['CONDICION_VIENTO'].unique()"
      ],
      "metadata": {
        "colab": {
          "base_uri": "https://localhost:8080/"
        },
        "id": "tTz-aVz_wAb6",
        "outputId": "df983fb6-cd08-436d-c7e4-9d9e51ea0e65"
      },
      "execution_count": null,
      "outputs": [
        {
          "output_type": "execute_result",
          "data": {
            "text/plain": [
              "array([nan,  1.])"
            ]
          },
          "metadata": {},
          "execution_count": 19
        }
      ]
    },
    {
      "cell_type": "markdown",
      "source": [
        "Reemplazar el valor de la columna"
      ],
      "metadata": {
        "id": "7604rXwB8iyM"
      }
    },
    {
      "cell_type": "code",
      "source": [
        "df_cod[\"CONDICION_VIENTO\"] = df_cod['CONDICION_VIENTO'].fillna('Desconocido')"
      ],
      "metadata": {
        "id": "0Q7D4CID1RKC"
      },
      "execution_count": null,
      "outputs": []
    },
    {
      "cell_type": "markdown",
      "source": [
        "Conocer más detalles de las categorias de la variable"
      ],
      "metadata": {
        "id": "rw1VBvux8mLr"
      }
    },
    {
      "cell_type": "code",
      "source": [
        "df_cod.groupby('CONDICION_VIENTO').size().fillna('Desconocido')"
      ],
      "metadata": {
        "colab": {
          "base_uri": "https://localhost:8080/"
        },
        "id": "UfuB3qpSwYP7",
        "outputId": "74a4ab09-acfe-4edc-c12b-ce4b8db5fb58"
      },
      "execution_count": null,
      "outputs": [
        {
          "output_type": "execute_result",
          "data": {
            "text/plain": [
              "CONDICION_VIENTO\n",
              "1.0              277\n",
              "Desconocido    63107\n",
              "dtype: int64"
            ]
          },
          "metadata": {},
          "execution_count": 21
        }
      ]
    },
    {
      "cell_type": "markdown",
      "source": [
        "Eliminar la columnar porque hay 100 por ciento aproximadamente de valores faltantes"
      ],
      "metadata": {
        "id": "nfXbV1ll8qKa"
      }
    },
    {
      "cell_type": "code",
      "source": [
        "df_cod.drop('CONDICION_VIENTO', axis = 1, inplace = True)\n",
        "print(df_cod.shape)"
      ],
      "metadata": {
        "colab": {
          "base_uri": "https://localhost:8080/"
        },
        "id": "krjXgbOk2f0G",
        "outputId": "a7392883-3644-46e2-b64b-890417ec70b8"
      },
      "execution_count": null,
      "outputs": [
        {
          "output_type": "stream",
          "name": "stdout",
          "text": [
            "(63384, 82)\n"
          ]
        }
      ]
    },
    {
      "cell_type": "markdown",
      "source": [
        "Reemplazar el valor de la columna"
      ],
      "metadata": {
        "id": "EebYbCFV8zld"
      }
    },
    {
      "cell_type": "code",
      "source": [
        "df_cod[\"CONDICION_NIEBLA\"] = df_cod['CONDICION_NIEBLA'].fillna('Desconocido')\n",
        "df_cod.groupby('CONDICION_NIEBLA').size().fillna('Desconocido')\n"
      ],
      "metadata": {
        "colab": {
          "base_uri": "https://localhost:8080/"
        },
        "id": "w77X77q02558",
        "outputId": "eeb2ea54-c85d-4392-89a1-f928bfed79c4"
      },
      "execution_count": null,
      "outputs": [
        {
          "output_type": "execute_result",
          "data": {
            "text/plain": [
              "CONDICION_NIEBLA\n",
              "1.0             6009\n",
              "2.0               80\n",
              "Desconocido    57295\n",
              "dtype: int64"
            ]
          },
          "metadata": {},
          "execution_count": 23
        }
      ]
    },
    {
      "cell_type": "code",
      "source": [
        "#df = df.drop(df[df['CONDICION_NIEBLA']=='NaN'].index)\n",
        "#print(df.shape)"
      ],
      "metadata": {
        "id": "3bCotKEJ3fJq"
      },
      "execution_count": null,
      "outputs": []
    },
    {
      "cell_type": "markdown",
      "source": [
        "Reemplazar el valor de la columna"
      ],
      "metadata": {
        "id": "g_zyVdW283Hi"
      }
    },
    {
      "cell_type": "code",
      "source": [
        "df[\"NUDO_INFO\"] = df['NUDO_INFO'].fillna('Desconocido')\n",
        "df.groupby('NUDO_INFO').size().fillna('Desconocido')"
      ],
      "metadata": {
        "colab": {
          "base_uri": "https://localhost:8080/"
        },
        "id": "BjqC2LXm3BoE",
        "outputId": "7f38f954-1dc3-4902-f626-dddb7d8a0f88"
      },
      "execution_count": null,
      "outputs": [
        {
          "output_type": "execute_result",
          "data": {
            "text/plain": [
              "NUDO_INFO\n",
              "1.0            11474\n",
              "2.0             8905\n",
              "3.0               91\n",
              "4.0             6182\n",
              "5.0              855\n",
              "6.0               19\n",
              "7.0               48\n",
              "8.0                1\n",
              "9.0                3\n",
              "10.0             363\n",
              "11.0             179\n",
              "12.0             374\n",
              "999.0            373\n",
              "Desconocido    44092\n",
              "dtype: int64"
            ]
          },
          "metadata": {},
          "execution_count": 25
        }
      ]
    },
    {
      "cell_type": "markdown",
      "source": [
        "Reemplazar el valor de la columna"
      ],
      "metadata": {
        "id": "-abijFBo86bj"
      }
    },
    {
      "cell_type": "code",
      "source": [
        "df[\"CARRETERA_CRUCE\"] = df['CARRETERA_CRUCE'].fillna('Desconocido')\n",
        "df.groupby('CARRETERA_CRUCE').size().fillna('Desconocido')"
      ],
      "metadata": {
        "id": "vtX71ruovo-E",
        "colab": {
          "base_uri": "https://localhost:8080/"
        },
        "outputId": "9860f7f2-ed77-4c5c-88a8-f057ce175e91"
      },
      "execution_count": null,
      "outputs": [
        {
          "output_type": "execute_result",
          "data": {
            "text/plain": [
              "CARRETERA_CRUCE\n",
              "0            4\n",
              "1            3\n",
              "2            1\n",
              "12           1\n",
              "71           1\n",
              "            ..\n",
              "ZA-L-2447    1\n",
              "ZA-P-1304    1\n",
              "ZA-P-1512    1\n",
              "ZA-P-2641    1\n",
              "ZA-V-2527    1\n",
              "Length: 1136, dtype: int64"
            ]
          },
          "metadata": {},
          "execution_count": 26
        }
      ]
    },
    {
      "cell_type": "markdown",
      "source": [
        "Reemplazar el valor de la columna"
      ],
      "metadata": {
        "id": "eSMRHJ_187U6"
      }
    },
    {
      "cell_type": "code",
      "source": [
        "df_cod[\"ISLA\"] = df_cod['ISLA'].fillna('Desconocido')\n",
        "df_cod.groupby('ISLA').size().fillna('Desconocido')"
      ],
      "metadata": {
        "id": "9unPiifEv34U",
        "colab": {
          "base_uri": "https://localhost:8080/"
        },
        "outputId": "5fb2f6d1-9e2f-4543-a26e-092a90fe6ad3"
      },
      "execution_count": null,
      "outputs": [
        {
          "output_type": "execute_result",
          "data": {
            "text/plain": [
              "ISLA\n",
              "0.0              120\n",
              "1.0             1583\n",
              "2.0               85\n",
              "3.0              272\n",
              "4.0               17\n",
              "7.0             1386\n",
              "8.0              171\n",
              "9.0              102\n",
              "10.0             650\n",
              "11.0              41\n",
              "13.0               2\n",
              "Desconocido    58955\n",
              "dtype: int64"
            ]
          },
          "metadata": {},
          "execution_count": 27
        }
      ]
    },
    {
      "cell_type": "markdown",
      "source": [
        "Reemplazar el valor de la columna"
      ],
      "metadata": {
        "id": "WbRmgWfN89zq"
      }
    },
    {
      "cell_type": "code",
      "source": [
        "df_cod[\"KM\"] = df_cod['KM'].fillna('Desconocido')\n",
        "df_cod.groupby('KM').size().fillna('Desconocido')"
      ],
      "metadata": {
        "colab": {
          "base_uri": "https://localhost:8080/"
        },
        "id": "NiZEhVMhd0ZJ",
        "outputId": "476dfa17-4e92-4348-9bf0-2969bf9b6cb9"
      },
      "execution_count": null,
      "outputs": [
        {
          "output_type": "execute_result",
          "data": {
            "text/plain": [
              "KM\n",
              "0.0              411\n",
              "0.01              14\n",
              "0.02               1\n",
              "0.03               3\n",
              "0.04               2\n",
              "               ...  \n",
              "1250.0             3\n",
              "1251.0             5\n",
              "1254.0             8\n",
              "9999.0         11376\n",
              "Desconocido    33040\n",
              "Length: 4155, dtype: int64"
            ]
          },
          "metadata": {},
          "execution_count": 28
        }
      ]
    },
    {
      "cell_type": "markdown",
      "source": [
        "Rellenar valores al azar a los variables que contienen porcentaje muy bajo de valores faltantes"
      ],
      "metadata": {
        "id": "jlhReh2qSHCH"
      }
    },
    {
      "cell_type": "markdown",
      "source": [
        "Aplicar el método de *ffill* para reemplazar los valores al azar"
      ],
      "metadata": {
        "id": "x161jmQ78_7d"
      }
    },
    {
      "cell_type": "code",
      "source": [
        "df_cod.fillna(method='ffill', inplace=True)\n",
        "pd.isnull(df_cod).any()"
      ],
      "metadata": {
        "colab": {
          "base_uri": "https://localhost:8080/"
        },
        "id": "JjJe9xkScKy0",
        "outputId": "126aaa51-e71f-4938-e5bd-f7b52ebfc996"
      },
      "execution_count": null,
      "outputs": [
        {
          "output_type": "execute_result",
          "data": {
            "text/plain": [
              "SECUENCIAL          False\n",
              "ID_ACCIDENTE        False\n",
              "ANYO                False\n",
              "MES                 False\n",
              "DIA_SEMANA          False\n",
              "                    ...  \n",
              "Provincia           False\n",
              "Texto               False\n",
              "Codigo              False\n",
              "Código Municipio    False\n",
              "Municipio           False\n",
              "Length: 82, dtype: bool"
            ]
          },
          "metadata": {},
          "execution_count": 29
        }
      ]
    },
    {
      "cell_type": "markdown",
      "source": [
        "Como se puede observar que ya no existen valores nulos en el conjunto de datos"
      ],
      "metadata": {
        "id": "99-GsidoSgY2"
      }
    },
    {
      "cell_type": "markdown",
      "source": [
        "Posteriormente analizar algunas variables que contengan valores atípicos"
      ],
      "metadata": {
        "id": "fCfbwLoxSlVS"
      }
    },
    {
      "cell_type": "code",
      "source": [
        "from google.colab.data_table import DataTable\n",
        "DataTable.max_columns = 72\n",
        "df_cod.describe()"
      ],
      "metadata": {
        "colab": {
          "base_uri": "https://localhost:8080/",
          "height": 411
        },
        "id": "xK6nICp9MLhk",
        "outputId": "76ae7011-934e-4bb1-b0f8-d8ef8a93118e"
      },
      "execution_count": null,
      "outputs": [
        {
          "output_type": "execute_result",
          "data": {
            "text/plain": [
              "         SECUENCIAL  ID_ACCIDENTE     ANYO           MES    DIA_SEMANA  \\\n",
              "count  63384.000000  6.338400e+04  63384.0  63384.000000  63384.000000   \n",
              "mean   36493.451455  2.020275e+14   2020.0      6.690947      3.828711   \n",
              "std    21010.028895  2.413603e+10      0.0      3.623456      1.899911   \n",
              "min        3.000000  2.020010e+14   2020.0      1.000000      1.000000   \n",
              "25%    17740.750000  2.020090e+14   2020.0      3.000000      2.000000   \n",
              "50%    37574.500000  2.020281e+14   2020.0      7.000000      4.000000   \n",
              "75%    54253.250000  2.020350e+14   2020.0     10.000000      5.000000   \n",
              "max    72959.000000  2.021520e+14   2020.0     12.000000      7.000000   \n",
              "\n",
              "               HORA  COD_PROVINCIA  COD_MUNICIPIO          ZONA  \\\n",
              "count  63384.000000   63384.000000   63384.000000  63384.000000   \n",
              "mean      14.073899      23.682759   23768.551922      2.411918   \n",
              "std        5.302332      14.012778   14026.960155      0.906480   \n",
              "min        0.000000       1.000000    1002.000000      1.000000   \n",
              "25%       10.000000       8.000000    8191.000000      1.000000   \n",
              "50%       14.000000      28.000000   28079.000000      3.000000   \n",
              "75%       18.000000      35.000000   35009.000000      3.000000   \n",
              "max       23.000000      52.000000   52001.000000      4.000000   \n",
              "\n",
              "       ZONA_AGRUPADA  ...  CONDICION_NIVEL_CIRCULA  CONDICION_FIRME  \\\n",
              "count   63384.000000  ...             63384.000000     63384.000000   \n",
              "mean        1.711299  ...               109.950145         1.480610   \n",
              "std         0.453162  ...               308.489802         8.033517   \n",
              "min         1.000000  ...                 1.000000         1.000000   \n",
              "25%         1.000000  ...                 1.000000         1.000000   \n",
              "50%         2.000000  ...                 2.000000         1.000000   \n",
              "75%         2.000000  ...                 6.000000         1.000000   \n",
              "max         2.000000  ...               999.000000       999.000000   \n",
              "\n",
              "       CONDICION_ILUMINACION  CONDICION_METEO  VISIB_RESTRINGIDA_POR  \\\n",
              "count           63384.000000     63384.000000           63384.000000   \n",
              "mean                2.861842         2.252761               7.374416   \n",
              "std                30.445218        30.440907              31.480644   \n",
              "min                 1.000000         1.000000               1.000000   \n",
              "25%                 1.000000         1.000000               1.000000   \n",
              "50%                 1.000000         1.000000               1.000000   \n",
              "75%                 3.000000         1.000000              18.000000   \n",
              "max               999.000000       999.000000             999.000000   \n",
              "\n",
              "              ACERA  TRAZADO_PLANTA      Cod_CCAA        Codigo  \\\n",
              "count  63384.000000    63384.000000  63384.000000  63384.000000   \n",
              "mean     901.973763      697.771646      8.323205     23.682759   \n",
              "std      293.806792      457.051033      4.742833     14.012778   \n",
              "min        1.000000        1.000000      1.000000      1.000000   \n",
              "25%      998.000000        4.000000      4.000000      8.000000   \n",
              "50%      998.000000      998.000000      9.000000     28.000000   \n",
              "75%      998.000000      998.000000     13.000000     35.000000   \n",
              "max      999.000000      998.000000     19.000000     52.000000   \n",
              "\n",
              "       Código Municipio  \n",
              "count      63384.000000  \n",
              "mean       23768.551922  \n",
              "std        14026.960155  \n",
              "min         1002.000000  \n",
              "25%         8191.000000  \n",
              "50%        28079.000000  \n",
              "75%        35009.000000  \n",
              "max        52001.000000  \n",
              "\n",
              "[8 rows x 72 columns]"
            ],
            "text/html": [
              "\n",
              "  <div id=\"df-a5fee898-0eca-4a1b-931b-5e16f8e5dfe9\">\n",
              "    <div class=\"colab-df-container\">\n",
              "      <div>\n",
              "<style scoped>\n",
              "    .dataframe tbody tr th:only-of-type {\n",
              "        vertical-align: middle;\n",
              "    }\n",
              "\n",
              "    .dataframe tbody tr th {\n",
              "        vertical-align: top;\n",
              "    }\n",
              "\n",
              "    .dataframe thead th {\n",
              "        text-align: right;\n",
              "    }\n",
              "</style>\n",
              "<table border=\"1\" class=\"dataframe\">\n",
              "  <thead>\n",
              "    <tr style=\"text-align: right;\">\n",
              "      <th></th>\n",
              "      <th>SECUENCIAL</th>\n",
              "      <th>ID_ACCIDENTE</th>\n",
              "      <th>ANYO</th>\n",
              "      <th>MES</th>\n",
              "      <th>DIA_SEMANA</th>\n",
              "      <th>HORA</th>\n",
              "      <th>COD_PROVINCIA</th>\n",
              "      <th>COD_MUNICIPIO</th>\n",
              "      <th>ZONA</th>\n",
              "      <th>ZONA_AGRUPADA</th>\n",
              "      <th>...</th>\n",
              "      <th>CONDICION_NIVEL_CIRCULA</th>\n",
              "      <th>CONDICION_FIRME</th>\n",
              "      <th>CONDICION_ILUMINACION</th>\n",
              "      <th>CONDICION_METEO</th>\n",
              "      <th>VISIB_RESTRINGIDA_POR</th>\n",
              "      <th>ACERA</th>\n",
              "      <th>TRAZADO_PLANTA</th>\n",
              "      <th>Cod_CCAA</th>\n",
              "      <th>Codigo</th>\n",
              "      <th>Código Municipio</th>\n",
              "    </tr>\n",
              "  </thead>\n",
              "  <tbody>\n",
              "    <tr>\n",
              "      <th>count</th>\n",
              "      <td>63384.000000</td>\n",
              "      <td>6.338400e+04</td>\n",
              "      <td>63384.0</td>\n",
              "      <td>63384.000000</td>\n",
              "      <td>63384.000000</td>\n",
              "      <td>63384.000000</td>\n",
              "      <td>63384.000000</td>\n",
              "      <td>63384.000000</td>\n",
              "      <td>63384.000000</td>\n",
              "      <td>63384.000000</td>\n",
              "      <td>...</td>\n",
              "      <td>63384.000000</td>\n",
              "      <td>63384.000000</td>\n",
              "      <td>63384.000000</td>\n",
              "      <td>63384.000000</td>\n",
              "      <td>63384.000000</td>\n",
              "      <td>63384.000000</td>\n",
              "      <td>63384.000000</td>\n",
              "      <td>63384.000000</td>\n",
              "      <td>63384.000000</td>\n",
              "      <td>63384.000000</td>\n",
              "    </tr>\n",
              "    <tr>\n",
              "      <th>mean</th>\n",
              "      <td>36493.451455</td>\n",
              "      <td>2.020275e+14</td>\n",
              "      <td>2020.0</td>\n",
              "      <td>6.690947</td>\n",
              "      <td>3.828711</td>\n",
              "      <td>14.073899</td>\n",
              "      <td>23.682759</td>\n",
              "      <td>23768.551922</td>\n",
              "      <td>2.411918</td>\n",
              "      <td>1.711299</td>\n",
              "      <td>...</td>\n",
              "      <td>109.950145</td>\n",
              "      <td>1.480610</td>\n",
              "      <td>2.861842</td>\n",
              "      <td>2.252761</td>\n",
              "      <td>7.374416</td>\n",
              "      <td>901.973763</td>\n",
              "      <td>697.771646</td>\n",
              "      <td>8.323205</td>\n",
              "      <td>23.682759</td>\n",
              "      <td>23768.551922</td>\n",
              "    </tr>\n",
              "    <tr>\n",
              "      <th>std</th>\n",
              "      <td>21010.028895</td>\n",
              "      <td>2.413603e+10</td>\n",
              "      <td>0.0</td>\n",
              "      <td>3.623456</td>\n",
              "      <td>1.899911</td>\n",
              "      <td>5.302332</td>\n",
              "      <td>14.012778</td>\n",
              "      <td>14026.960155</td>\n",
              "      <td>0.906480</td>\n",
              "      <td>0.453162</td>\n",
              "      <td>...</td>\n",
              "      <td>308.489802</td>\n",
              "      <td>8.033517</td>\n",
              "      <td>30.445218</td>\n",
              "      <td>30.440907</td>\n",
              "      <td>31.480644</td>\n",
              "      <td>293.806792</td>\n",
              "      <td>457.051033</td>\n",
              "      <td>4.742833</td>\n",
              "      <td>14.012778</td>\n",
              "      <td>14026.960155</td>\n",
              "    </tr>\n",
              "    <tr>\n",
              "      <th>min</th>\n",
              "      <td>3.000000</td>\n",
              "      <td>2.020010e+14</td>\n",
              "      <td>2020.0</td>\n",
              "      <td>1.000000</td>\n",
              "      <td>1.000000</td>\n",
              "      <td>0.000000</td>\n",
              "      <td>1.000000</td>\n",
              "      <td>1002.000000</td>\n",
              "      <td>1.000000</td>\n",
              "      <td>1.000000</td>\n",
              "      <td>...</td>\n",
              "      <td>1.000000</td>\n",
              "      <td>1.000000</td>\n",
              "      <td>1.000000</td>\n",
              "      <td>1.000000</td>\n",
              "      <td>1.000000</td>\n",
              "      <td>1.000000</td>\n",
              "      <td>1.000000</td>\n",
              "      <td>1.000000</td>\n",
              "      <td>1.000000</td>\n",
              "      <td>1002.000000</td>\n",
              "    </tr>\n",
              "    <tr>\n",
              "      <th>25%</th>\n",
              "      <td>17740.750000</td>\n",
              "      <td>2.020090e+14</td>\n",
              "      <td>2020.0</td>\n",
              "      <td>3.000000</td>\n",
              "      <td>2.000000</td>\n",
              "      <td>10.000000</td>\n",
              "      <td>8.000000</td>\n",
              "      <td>8191.000000</td>\n",
              "      <td>1.000000</td>\n",
              "      <td>1.000000</td>\n",
              "      <td>...</td>\n",
              "      <td>1.000000</td>\n",
              "      <td>1.000000</td>\n",
              "      <td>1.000000</td>\n",
              "      <td>1.000000</td>\n",
              "      <td>1.000000</td>\n",
              "      <td>998.000000</td>\n",
              "      <td>4.000000</td>\n",
              "      <td>4.000000</td>\n",
              "      <td>8.000000</td>\n",
              "      <td>8191.000000</td>\n",
              "    </tr>\n",
              "    <tr>\n",
              "      <th>50%</th>\n",
              "      <td>37574.500000</td>\n",
              "      <td>2.020281e+14</td>\n",
              "      <td>2020.0</td>\n",
              "      <td>7.000000</td>\n",
              "      <td>4.000000</td>\n",
              "      <td>14.000000</td>\n",
              "      <td>28.000000</td>\n",
              "      <td>28079.000000</td>\n",
              "      <td>3.000000</td>\n",
              "      <td>2.000000</td>\n",
              "      <td>...</td>\n",
              "      <td>2.000000</td>\n",
              "      <td>1.000000</td>\n",
              "      <td>1.000000</td>\n",
              "      <td>1.000000</td>\n",
              "      <td>1.000000</td>\n",
              "      <td>998.000000</td>\n",
              "      <td>998.000000</td>\n",
              "      <td>9.000000</td>\n",
              "      <td>28.000000</td>\n",
              "      <td>28079.000000</td>\n",
              "    </tr>\n",
              "    <tr>\n",
              "      <th>75%</th>\n",
              "      <td>54253.250000</td>\n",
              "      <td>2.020350e+14</td>\n",
              "      <td>2020.0</td>\n",
              "      <td>10.000000</td>\n",
              "      <td>5.000000</td>\n",
              "      <td>18.000000</td>\n",
              "      <td>35.000000</td>\n",
              "      <td>35009.000000</td>\n",
              "      <td>3.000000</td>\n",
              "      <td>2.000000</td>\n",
              "      <td>...</td>\n",
              "      <td>6.000000</td>\n",
              "      <td>1.000000</td>\n",
              "      <td>3.000000</td>\n",
              "      <td>1.000000</td>\n",
              "      <td>18.000000</td>\n",
              "      <td>998.000000</td>\n",
              "      <td>998.000000</td>\n",
              "      <td>13.000000</td>\n",
              "      <td>35.000000</td>\n",
              "      <td>35009.000000</td>\n",
              "    </tr>\n",
              "    <tr>\n",
              "      <th>max</th>\n",
              "      <td>72959.000000</td>\n",
              "      <td>2.021520e+14</td>\n",
              "      <td>2020.0</td>\n",
              "      <td>12.000000</td>\n",
              "      <td>7.000000</td>\n",
              "      <td>23.000000</td>\n",
              "      <td>52.000000</td>\n",
              "      <td>52001.000000</td>\n",
              "      <td>4.000000</td>\n",
              "      <td>2.000000</td>\n",
              "      <td>...</td>\n",
              "      <td>999.000000</td>\n",
              "      <td>999.000000</td>\n",
              "      <td>999.000000</td>\n",
              "      <td>999.000000</td>\n",
              "      <td>999.000000</td>\n",
              "      <td>999.000000</td>\n",
              "      <td>998.000000</td>\n",
              "      <td>19.000000</td>\n",
              "      <td>52.000000</td>\n",
              "      <td>52001.000000</td>\n",
              "    </tr>\n",
              "  </tbody>\n",
              "</table>\n",
              "<p>8 rows × 72 columns</p>\n",
              "</div>\n",
              "      <button class=\"colab-df-convert\" onclick=\"convertToInteractive('df-a5fee898-0eca-4a1b-931b-5e16f8e5dfe9')\"\n",
              "              title=\"Convert this dataframe to an interactive table.\"\n",
              "              style=\"display:none;\">\n",
              "        \n",
              "  <svg xmlns=\"http://www.w3.org/2000/svg\" height=\"24px\"viewBox=\"0 0 24 24\"\n",
              "       width=\"24px\">\n",
              "    <path d=\"M0 0h24v24H0V0z\" fill=\"none\"/>\n",
              "    <path d=\"M18.56 5.44l.94 2.06.94-2.06 2.06-.94-2.06-.94-.94-2.06-.94 2.06-2.06.94zm-11 1L8.5 8.5l.94-2.06 2.06-.94-2.06-.94L8.5 2.5l-.94 2.06-2.06.94zm10 10l.94 2.06.94-2.06 2.06-.94-2.06-.94-.94-2.06-.94 2.06-2.06.94z\"/><path d=\"M17.41 7.96l-1.37-1.37c-.4-.4-.92-.59-1.43-.59-.52 0-1.04.2-1.43.59L10.3 9.45l-7.72 7.72c-.78.78-.78 2.05 0 2.83L4 21.41c.39.39.9.59 1.41.59.51 0 1.02-.2 1.41-.59l7.78-7.78 2.81-2.81c.8-.78.8-2.07 0-2.86zM5.41 20L4 18.59l7.72-7.72 1.47 1.35L5.41 20z\"/>\n",
              "  </svg>\n",
              "      </button>\n",
              "      \n",
              "  <style>\n",
              "    .colab-df-container {\n",
              "      display:flex;\n",
              "      flex-wrap:wrap;\n",
              "      gap: 12px;\n",
              "    }\n",
              "\n",
              "    .colab-df-convert {\n",
              "      background-color: #E8F0FE;\n",
              "      border: none;\n",
              "      border-radius: 50%;\n",
              "      cursor: pointer;\n",
              "      display: none;\n",
              "      fill: #1967D2;\n",
              "      height: 32px;\n",
              "      padding: 0 0 0 0;\n",
              "      width: 32px;\n",
              "    }\n",
              "\n",
              "    .colab-df-convert:hover {\n",
              "      background-color: #E2EBFA;\n",
              "      box-shadow: 0px 1px 2px rgba(60, 64, 67, 0.3), 0px 1px 3px 1px rgba(60, 64, 67, 0.15);\n",
              "      fill: #174EA6;\n",
              "    }\n",
              "\n",
              "    [theme=dark] .colab-df-convert {\n",
              "      background-color: #3B4455;\n",
              "      fill: #D2E3FC;\n",
              "    }\n",
              "\n",
              "    [theme=dark] .colab-df-convert:hover {\n",
              "      background-color: #434B5C;\n",
              "      box-shadow: 0px 1px 3px 1px rgba(0, 0, 0, 0.15);\n",
              "      filter: drop-shadow(0px 1px 2px rgba(0, 0, 0, 0.3));\n",
              "      fill: #FFFFFF;\n",
              "    }\n",
              "  </style>\n",
              "\n",
              "      <script>\n",
              "        const buttonEl =\n",
              "          document.querySelector('#df-a5fee898-0eca-4a1b-931b-5e16f8e5dfe9 button.colab-df-convert');\n",
              "        buttonEl.style.display =\n",
              "          google.colab.kernel.accessAllowed ? 'block' : 'none';\n",
              "\n",
              "        async function convertToInteractive(key) {\n",
              "          const element = document.querySelector('#df-a5fee898-0eca-4a1b-931b-5e16f8e5dfe9');\n",
              "          const dataTable =\n",
              "            await google.colab.kernel.invokeFunction('convertToInteractive',\n",
              "                                                     [key], {});\n",
              "          if (!dataTable) return;\n",
              "\n",
              "          const docLinkHtml = 'Like what you see? Visit the ' +\n",
              "            '<a target=\"_blank\" href=https://colab.research.google.com/notebooks/data_table.ipynb>data table notebook</a>'\n",
              "            + ' to learn more about interactive tables.';\n",
              "          element.innerHTML = '';\n",
              "          dataTable['output_type'] = 'display_data';\n",
              "          await google.colab.output.renderOutput(dataTable, element);\n",
              "          const docLink = document.createElement('div');\n",
              "          docLink.innerHTML = docLinkHtml;\n",
              "          element.appendChild(docLink);\n",
              "        }\n",
              "      </script>\n",
              "    </div>\n",
              "  </div>\n",
              "  "
            ]
          },
          "metadata": {},
          "execution_count": 30
        }
      ]
    },
    {
      "cell_type": "markdown",
      "source": [
        "Estos son las variables que tienen valores outliers:  ACERA, CONDICION_METEO, CONDICION_ILUMINACION, CONDICION_FIRME,CONDICION_NIVEL_CIRCULA, KM, VISIB_RESTRINGIDA_POR, TRAZADO_PLANTA\n",
        "\n",
        "ELIMINACION: PRIORI_NORMA, PRIORI AGENTE, PRIORI_SEMAFORO, PRIORI_VERT_STOP, PRIORI_VERT_CEDA, DE TODAS LAS VARIANLES DE PRIORI"
      ],
      "metadata": {
        "id": "6MVQs-40Mkvr"
      }
    },
    {
      "cell_type": "markdown",
      "source": [
        "Eliminar las caracteristicas de algunas variables y eliminar instancia si tiene gran cantidad de valores anomalías "
      ],
      "metadata": {
        "id": "5n2BjAhfR4hl"
      }
    },
    {
      "cell_type": "markdown",
      "source": [
        "Se procede a eliminar la información relacionada a las intersecciones, variables PRIORI"
      ],
      "metadata": {
        "id": "LkDP3SxJqH1V"
      }
    },
    {
      "cell_type": "code",
      "source": [
        "priori = ['PRIORI_NORMA','PRIORI_AGENTE', 'PRIORI_SEMAFORO','PRIORI_VERT_STOP', 'PRIORI_VERT_CEDA', 'PRIORI_HORIZ_STOP', 'PRIORI_HORIZ_CEDA', 'PRIORI_MARCAS', 'PRIORI_PEA_NO_ELEV', 'PRIORI_PEA_ELEV', \n",
        "          'PRIORI_MARCA_CICLOS', 'PRIORI_CIRCUNSTANCIAL', 'PRIORI_OTRA']"
      ],
      "metadata": {
        "id": "E_JjLLtmUKND"
      },
      "execution_count": null,
      "outputs": []
    },
    {
      "cell_type": "markdown",
      "source": [
        "Debido a que la cantidad de valores sin especificar representan 61.4% de los datos correspondientes a intersecciones no se especifican. "
      ],
      "metadata": {
        "id": "JLM6SEzuqSfH"
      }
    },
    {
      "cell_type": "code",
      "source": [
        "df_cod.drop(priori, axis = 1, inplace = True)\n",
        "print(df_cod.shape)"
      ],
      "metadata": {
        "id": "gvbeDGWnTzJb",
        "colab": {
          "base_uri": "https://localhost:8080/"
        },
        "outputId": "48fe7947-6c4c-4ea2-866f-296f27a8627c"
      },
      "execution_count": null,
      "outputs": [
        {
          "output_type": "stream",
          "name": "stdout",
          "text": [
            "(63384, 69)\n"
          ]
        }
      ]
    },
    {
      "cell_type": "markdown",
      "source": [
        "Reemplazar el valor 999.0 en Desconocido"
      ],
      "metadata": {
        "id": "YBeGD0479UVk"
      }
    },
    {
      "cell_type": "code",
      "source": [
        "df_cod['CONDICION_NIVEL_CIRCULA'] = df_cod['CONDICION_NIVEL_CIRCULA'].replace([999.0],'Desconocido')\n",
        "df_cod.groupby('CONDICION_NIVEL_CIRCULA').size()"
      ],
      "metadata": {
        "colab": {
          "base_uri": "https://localhost:8080/"
        },
        "id": "OrrK6of08cY1",
        "outputId": "19ccfd96-dd7f-4be1-829d-fffde86d521f"
      },
      "execution_count": null,
      "outputs": [
        {
          "output_type": "execute_result",
          "data": {
            "text/plain": [
              "CONDICION_NIVEL_CIRCULA\n",
              "1              27696\n",
              "2               7132\n",
              "3               2281\n",
              "4                324\n",
              "5                 48\n",
              "6              19092\n",
              "Desconocido     6811\n",
              "dtype: int64"
            ]
          },
          "metadata": {},
          "execution_count": 33
        }
      ]
    },
    {
      "cell_type": "markdown",
      "source": [
        "Reemplazar el valor 999.0 en Desconocido"
      ],
      "metadata": {
        "id": "JKQE5Rit9Yq7"
      }
    },
    {
      "cell_type": "code",
      "source": [
        "df_cod['CONDICION_FIRME'] = df_cod['CONDICION_FIRME'].replace([999.0],'Desconocido')\n",
        "df_cod.groupby('CONDICION_FIRME').size()"
      ],
      "metadata": {
        "id": "lJhbFZy0wuXa",
        "colab": {
          "base_uri": "https://localhost:8080/"
        },
        "outputId": "92737817-3a3c-4424-b053-b867018228c9"
      },
      "execution_count": null,
      "outputs": [
        {
          "output_type": "execute_result",
          "data": {
            "text/plain": [
              "CONDICION_FIRME\n",
              "1              54598\n",
              "2                477\n",
              "3               6430\n",
              "4                 91\n",
              "5                 45\n",
              "6                 13\n",
              "7                277\n",
              "8                638\n",
              "9                811\n",
              "Desconocido        4\n",
              "dtype: int64"
            ]
          },
          "metadata": {},
          "execution_count": 34
        }
      ]
    },
    {
      "cell_type": "markdown",
      "source": [
        "Reemplazar el valor 999.0 en Desconocido"
      ],
      "metadata": {
        "id": "B8eEfeZH9aeu"
      }
    },
    {
      "cell_type": "code",
      "source": [
        "df_cod['CONDICION_ILUMINACION'] = df_cod['CONDICION_ILUMINACION'].replace([999.0],'Desconocido')\n",
        "df_cod.groupby('CONDICION_ILUMINACION').size()\n"
      ],
      "metadata": {
        "id": "ssWmXoeiwz4q",
        "colab": {
          "base_uri": "https://localhost:8080/"
        },
        "outputId": "e76b88d5-f256-4250-8fcf-800206857ccf"
      },
      "execution_count": null,
      "outputs": [
        {
          "output_type": "execute_result",
          "data": {
            "text/plain": [
              "CONDICION_ILUMINACION\n",
              "1              44060\n",
              "2               2229\n",
              "3               2068\n",
              "4               9942\n",
              "5               2192\n",
              "6               2834\n",
              "Desconocido       59\n",
              "dtype: int64"
            ]
          },
          "metadata": {},
          "execution_count": 35
        }
      ]
    },
    {
      "cell_type": "markdown",
      "source": [
        "Reemplazar el valor 999.0 en Desconocido"
      ],
      "metadata": {
        "id": "paNxrj0D9bv7"
      }
    },
    {
      "cell_type": "code",
      "source": [
        "\n",
        "df_cod['CONDICION_METEO'] = df_cod['CONDICION_METEO'].replace([999.0],'Desconocido')\n",
        "df_cod.groupby('CONDICION_METEO').size()\n"
      ],
      "metadata": {
        "id": "ttpyzlGPw5ya",
        "colab": {
          "base_uri": "https://localhost:8080/"
        },
        "outputId": "57ec3862-4c24-403b-d61d-7bb9574086b8"
      },
      "execution_count": null,
      "outputs": [
        {
          "output_type": "execute_result",
          "data": {
            "text/plain": [
              "CONDICION_METEO\n",
              "1              54240\n",
              "2               3323\n",
              "3               3681\n",
              "4                853\n",
              "5                 35\n",
              "6                 19\n",
              "7               1174\n",
              "Desconocido       59\n",
              "dtype: int64"
            ]
          },
          "metadata": {},
          "execution_count": 36
        }
      ]
    },
    {
      "cell_type": "markdown",
      "source": [
        "Reemplazar el valor 999.0 en Desconocido"
      ],
      "metadata": {
        "id": "fSFEOjdo9clr"
      }
    },
    {
      "cell_type": "code",
      "source": [
        "df_cod['VISIB_RESTRINGIDA_POR'] = df_cod['VISIB_RESTRINGIDA_POR'].replace([999.0],'Desconocido')\n",
        "df_cod.groupby('VISIB_RESTRINGIDA_POR').size()\n"
      ],
      "metadata": {
        "id": "cbsJmKXbxCHq",
        "colab": {
          "base_uri": "https://localhost:8080/"
        },
        "outputId": "abda6d2a-959f-4e85-8b27-05ff1ebf178c"
      },
      "execution_count": null,
      "outputs": [
        {
          "output_type": "execute_result",
          "data": {
            "text/plain": [
              "VISIB_RESTRINGIDA_POR\n",
              "1              39997\n",
              "2                705\n",
              "3                114\n",
              "4                785\n",
              "5                720\n",
              "6                730\n",
              "7                  3\n",
              "8                 18\n",
              "9                794\n",
              "10                50\n",
              "11                74\n",
              "12               236\n",
              "13                 8\n",
              "14                36\n",
              "15                10\n",
              "16                59\n",
              "17               278\n",
              "18             18707\n",
              "Desconocido       60\n",
              "dtype: int64"
            ]
          },
          "metadata": {},
          "execution_count": 37
        }
      ]
    },
    {
      "cell_type": "markdown",
      "source": [
        "Conocer las categorias de la variable"
      ],
      "metadata": {
        "id": "6EEfCOYl9dYD"
      }
    },
    {
      "cell_type": "code",
      "source": [
        "df_cod.groupby('ACERA').size()"
      ],
      "metadata": {
        "colab": {
          "base_uri": "https://localhost:8080/"
        },
        "id": "m1Kp9BJw4Dll",
        "outputId": "e4621fc2-5e30-430c-a23f-cf8915cad8e9"
      },
      "execution_count": null,
      "outputs": [
        {
          "output_type": "execute_result",
          "data": {
            "text/plain": [
              "ACERA\n",
              "1        896\n",
              "2          9\n",
              "3        852\n",
              "4       4365\n",
              "998    54963\n",
              "999     2299\n",
              "dtype: int64"
            ]
          },
          "metadata": {},
          "execution_count": 38
        }
      ]
    },
    {
      "cell_type": "markdown",
      "source": [
        "Reemplazar el valor 999.0 y 998.0 en Desconocido"
      ],
      "metadata": {
        "id": "sTGGU3Ki9f5z"
      }
    },
    {
      "cell_type": "code",
      "source": [
        "df_cod['ACERA'] = df_cod['ACERA'].replace([999.0],'Desconocido')\n",
        "df_cod['ACERA'] = df_cod['ACERA'].replace([998.0],'Desconocido')\n",
        "df_cod.groupby('ACERA').size()"
      ],
      "metadata": {
        "id": "MRJRRFyJxIya",
        "colab": {
          "base_uri": "https://localhost:8080/"
        },
        "outputId": "20a16a08-3865-4435-b71b-067864c07d55"
      },
      "execution_count": null,
      "outputs": [
        {
          "output_type": "execute_result",
          "data": {
            "text/plain": [
              "ACERA\n",
              "1                896\n",
              "2                  9\n",
              "3                852\n",
              "4               4365\n",
              "Desconocido    57262\n",
              "dtype: int64"
            ]
          },
          "metadata": {},
          "execution_count": 39
        }
      ]
    },
    {
      "cell_type": "markdown",
      "source": [
        "Reemplazar el valor 999.0 en Desconocido"
      ],
      "metadata": {
        "id": "BOEVEw1z9i2-"
      }
    },
    {
      "cell_type": "code",
      "source": [
        "df_cod['TRAZADO_PLANTA'] = df_cod['TRAZADO_PLANTA'].replace([998.0],'Desconocido')\n",
        "df_cod.groupby('TRAZADO_PLANTA').size()"
      ],
      "metadata": {
        "colab": {
          "base_uri": "https://localhost:8080/"
        },
        "id": "ASEnW6In4Mtc",
        "outputId": "e56daaa2-40fa-413f-ece4-bc9bb86acddc"
      },
      "execution_count": null,
      "outputs": [
        {
          "output_type": "execute_result",
          "data": {
            "text/plain": [
              "TRAZADO_PLANTA\n",
              "1               9855\n",
              "2               3462\n",
              "3               1821\n",
              "4               3968\n",
              "Desconocido    44278\n",
              "dtype: int64"
            ]
          },
          "metadata": {},
          "execution_count": 40
        }
      ]
    },
    {
      "cell_type": "markdown",
      "source": [
        "### ETAPA 4: MINERIA DE DATOS"
      ],
      "metadata": {
        "id": "_Q6wc7bK-TP4"
      }
    },
    {
      "cell_type": "markdown",
      "source": [
        "# Distribución de Número total de cada variable:\n",
        "\n",
        "\n",
        "*   TOTAL_MU24H: Especifica el número total de fallecidos registrados en el accidente, computados a 24 horas. Tipo numérico. \n",
        "*   TOTAL_HG24H: Especifica el número total de heridos hospitalizados registrados en el accidente, computados a 24 horas. Tipo numérico.\n",
        "*   TOTAL_HL24H: Especifica el número total de heridos no hospitalizados registrados en el accidente, computados a 24 horas. Tipo numérico. \n",
        "*   TOTAL_HL24H: Especifica el número total de heridos no hospitalizados registrados en el accidente, computados a 24 horas. Tipo numérico. \n",
        "*   TOTAL_VICTIMAS_24H: Especifica el número total de víctimas (fallecidos+ heridos hospitalizados+ heridos. no hospitalizados) registrados en el accidente, computados a 24 horas. Tipo numérico. \n",
        "\n",
        "\n",
        "\n"
      ],
      "metadata": {
        "id": "6x4GOb7-cA5s"
      }
    },
    {
      "cell_type": "markdown",
      "source": [
        "Función creada para generar porcentaje de cada barra del gráfico con categorias."
      ],
      "metadata": {
        "id": "JNBFKRUT9kwr"
      }
    },
    {
      "cell_type": "code",
      "source": [
        "def with_hue(ax, feature, Number_of_categories, hue_categories):\n",
        "    a = [p.get_height() for p in ax.patches]\n",
        "    patch = [p for p in ax.patches]\n",
        "    for i in range(Number_of_categories):\n",
        "        total = feature.value_counts().values[i]\n",
        "        for j in range(hue_categories):\n",
        "            percentage=\"{:.1f}%\".format(100 * a[(j*Number_of_categories + i)]/total)\n",
        "            x = patch[(j*Number_of_categories + i)].get_x() + patch[(j*Number_of_categories + i)].get_width() / 2 - 0.15\n",
        "            y = patch[(j*Number_of_categories + i)].get_y() + patch[(j*Number_of_categories + i)].get_height() \n",
        "            ax.annotate(percentage, (x, y), size = 9)"
      ],
      "metadata": {
        "id": "7DOvEmJdBFgt"
      },
      "execution_count": null,
      "outputs": []
    },
    {
      "cell_type": "markdown",
      "source": [
        "Función creada para generar porcentaje de cada barra del gráfico sin categorias."
      ],
      "metadata": {
        "id": "ld9B-f4A9stL"
      }
    },
    {
      "cell_type": "code",
      "source": [
        "\n",
        "def without_hue(ax, feature):\n",
        "    total = len(feature)\n",
        "    for p in ax.patches:\n",
        "        percentage=\"{:.1f}%\".format(100 * p.get_height()/total)\n",
        "        x = p.get_x() + p.get_width() / 2 - 0.05\n",
        "        y = p.get_y() + p.get_height()\n",
        "        ax.annotate(percentage, (x, y), size = 12)"
      ],
      "metadata": {
        "id": "TvDyq2F8BG_N"
      },
      "execution_count": null,
      "outputs": []
    },
    {
      "cell_type": "markdown",
      "source": [
        "Realizar análisis exploratorio del conjunto de datos."
      ],
      "metadata": {
        "id": "W34gB4Zd9wM7"
      }
    },
    {
      "cell_type": "markdown",
      "source": [
        "**Cantidad de fallecidos en el año 2020 empleando registros por mes**"
      ],
      "metadata": {
        "id": "0R_kH2-p91cD"
      }
    },
    {
      "cell_type": "code",
      "source": [
        "df_2 = df_cod.drop(df_cod[df_cod['TOTAL_MU30DF']>=3].index)\n",
        "print(df_2.shape)"
      ],
      "metadata": {
        "colab": {
          "base_uri": "https://localhost:8080/"
        },
        "id": "jbD1msdu46wm",
        "outputId": "f8e3cca6-bd77-46d6-cdac-e090c3c53b3c"
      },
      "execution_count": null,
      "outputs": [
        {
          "output_type": "stream",
          "name": "stdout",
          "text": [
            "(63374, 69)\n"
          ]
        }
      ]
    },
    {
      "cell_type": "code",
      "source": [
        "#Distribución \n",
        "plt.figure(figsize=(12,6))\n",
        "ax=sns.countplot(data = df_2  , x = 'TOTAL_MU30DF')\n",
        "plt.xticks(size = 12)\n",
        "plt.xlabel(\"Cantidad de ocupantes por vehiculo\", size = 12)\n",
        "plt.yticks(size = 12)\n",
        "plt.ylabel('amount', size=12)\n",
        "without_hue(ax, df_2.TOTAL_MU30DF)\n",
        "plt.title('FALLECIDOS DE ACUERDO A CANTIDAD DE OCUPANTES - AÑO 2020',size=15)"
      ],
      "metadata": {
        "colab": {
          "base_uri": "https://localhost:8080/",
          "height": 433
        },
        "id": "IY6TyN66JRxh",
        "outputId": "0c80e7e8-3e56-48d9-f8f0-54e7469f0631"
      },
      "execution_count": null,
      "outputs": [
        {
          "output_type": "execute_result",
          "data": {
            "text/plain": [
              "Text(0.5, 1.0, 'FALLECIDOS DE ACUERDO A CANTIDAD DE OCUPANTES - AÑO 2020')"
            ]
          },
          "metadata": {},
          "execution_count": 44
        },
        {
          "output_type": "display_data",
          "data": {
            "text/plain": [
              "<Figure size 864x432 with 1 Axes>"
            ],
            "image/png": "[encoded data removed]"
          },
          "metadata": {}
        }
      ]
    },
    {
      "cell_type": "markdown",
      "source": [
        "La presente gráfica de barras, muestra la cantidad de fallecidos en el año 2002 empleando registros por mes. Se puede observar que el 98.6% corresponde a que la cantidad de personas fallecidas es de 0 ocupantes, mientras que el 1.3% corresponde a que la cantidad de personas fallecidas son de 1 ocupante y que el 0.1% corresponde a que la cantidad de personas fallecidas son de 2 ocupantes. Estos resultados son positivos porque no hubo un gran impacto de personas fallecidas en el año 2020"
      ],
      "metadata": {
        "id": "x3zq0L16_Jdb"
      }
    },
    {
      "cell_type": "markdown",
      "source": [
        "**Cantidad de heridos hospitalizados en el año 2020 empleando registros por mes**"
      ],
      "metadata": {
        "id": "mnX5Zks594IL"
      }
    },
    {
      "cell_type": "code",
      "source": [
        "df_2 = df_cod.drop(df_cod[df_cod['TOTAL_HG30DF']>=3].index)\n",
        "print(df_2.shape)"
      ],
      "metadata": {
        "colab": {
          "base_uri": "https://localhost:8080/"
        },
        "id": "hsP3IigGAur0",
        "outputId": "603bd5f1-f692-4899-f3db-ed91c01def41"
      },
      "execution_count": null,
      "outputs": [
        {
          "output_type": "stream",
          "name": "stdout",
          "text": [
            "(63346, 69)\n"
          ]
        }
      ]
    },
    {
      "cell_type": "code",
      "source": [
        "#Distribución \n",
        "plt.figure(figsize=(12,6))\n",
        "ax=sns.countplot(data = df_2, x = 'TOTAL_HG30DF')\n",
        "plt.xticks(size = 12)\n",
        "plt.xlabel(\"Cantidad de ocupantes por vehiculo\", size = 12)\n",
        "plt.yticks(size = 12)\n",
        "plt.ylabel('amount', size=12)\n",
        "without_hue(ax,df_2.TOTAL_HG30DF)\n",
        "\n",
        "plt.title('HERIDOS HOSPITALIZADOS DE ACUERDO A CANTIDAD DE OCUPANTES - AÑO 2020')\n",
        "\n",
        "\n"
      ],
      "metadata": {
        "colab": {
          "base_uri": "https://localhost:8080/",
          "height": 432
        },
        "id": "r4p2hX0QJ5_8",
        "outputId": "7bfb3808-1b2f-45f8-bee9-29db720701f9"
      },
      "execution_count": null,
      "outputs": [
        {
          "output_type": "execute_result",
          "data": {
            "text/plain": [
              "Text(0.5, 1.0, 'HERIDOS HOSPITALIZADOS DE ACUERDO A CANTIDAD DE OCUPANTES - AÑO 2020')"
            ]
          },
          "metadata": {},
          "execution_count": 46
        },
        {
          "output_type": "display_data",
          "data": {
            "text/plain": [
              "<Figure size 864x432 with 1 Axes>"
            ],
            "image/png": "[encoded data removed]"
          },
          "metadata": {}
        }
      ]
    },
    {
      "cell_type": "markdown",
      "source": [
        "La presente gráfica de barras, muestra la cantidad de heridos hospitalizados en el año 2002 empleando registros por mes. Se puede observar que el 92.4% de los encuestados, corresponde a que la cantidad de heridos hospitalizados es de 0 ocupantes, mientras que el 7,1% corresponde a que la cantidad de heridos hospitalizados es de 1 ocupantes. Está claro que la primera barra es mayor que la segunda barra de la cantidad de heridos hospitalizados. Estos resultados son positivos porque no hubo un gran impacto de heridos hospitalizados en el año 2020.  "
      ],
      "metadata": {
        "id": "mArIwwLG_Kc7"
      }
    },
    {
      "cell_type": "markdown",
      "source": [
        "**Cantidad de heridos no hospitalizados en el año 2020 empleando registros por mes**"
      ],
      "metadata": {
        "id": "QAF5-xU198ZT"
      }
    },
    {
      "cell_type": "code",
      "source": [
        "df_2 = df_cod.drop(df_cod[df_cod['TOTAL_HL30DF']>=5].index)\n",
        "print(df_2.shape)"
      ],
      "metadata": {
        "colab": {
          "base_uri": "https://localhost:8080/"
        },
        "id": "Ka5qgRILA449",
        "outputId": "bd0819ed-103c-4df2-a3ff-85b9e2510a0b"
      },
      "execution_count": null,
      "outputs": [
        {
          "output_type": "stream",
          "name": "stdout",
          "text": [
            "(62873, 69)\n"
          ]
        }
      ]
    },
    {
      "cell_type": "code",
      "source": [
        "#Distribución \n",
        "plt.figure(figsize=(12,6))\n",
        "ax=sns.countplot(data = df_2, x = 'TOTAL_HL30DF',order = df_2['TOTAL_HL30DF'].value_counts().index)\n",
        "plt.xticks(size = 12)\n",
        "plt.xlabel(\"Cantidad de ocupantes por vehiculos\", size = 12)\n",
        "plt.yticks(size = 12)\n",
        "plt.ylabel('amount', size=12)\n",
        "without_hue(ax,df_2.TOTAL_HL30DF)\n",
        "\n",
        "plt.title('HERIDOS NO HOSPITALIZADOS DE ACUERDO A CANTIDAD DE OCUPANTES - AÑO 2020')"
      ],
      "metadata": {
        "colab": {
          "base_uri": "https://localhost:8080/",
          "height": 432
        },
        "id": "XAV0_yzLKEz-",
        "outputId": "1b1bf4cf-9278-4cfd-ca33-d3cc4f2d23c3"
      },
      "execution_count": null,
      "outputs": [
        {
          "output_type": "execute_result",
          "data": {
            "text/plain": [
              "Text(0.5, 1.0, 'HERIDOS NO HOSPITALIZADOS DE ACUERDO A CANTIDAD DE OCUPANTES - AÑO 2020')"
            ]
          },
          "metadata": {},
          "execution_count": 48
        },
        {
          "output_type": "display_data",
          "data": {
            "text/plain": [
              "<Figure size 864x432 with 1 Axes>"
            ],
            "image/png": "[encoded data removed]"
          },
          "metadata": {}
        }
      ]
    },
    {
      "cell_type": "markdown",
      "source": [
        "La siguiente gráfica de barras muestra la cantidad de heridos no hospitalizados en el año 2002 empleando registros por mes. Se puede observar que el 73,8% de los encuestados, corresponde a que la cantidad de heridos no hospitalizados es de 1 ocupantes, mientras que 13,6%, corresponde a que la cantidad de heridos no hospitalizados es de 2 ocupantes. El 3,5 % corresponde a 3 ocupantes. El 0.5% corresponde a 4 ocupantes. El 7 % corresponde a 0 ocupantes. Está claro que la segunda barra es mayor que las demás barras de la cantidad de heridos hospitalizados. Estos resultados son negativos porque hay un gran impacto de heridos no hospitalizados en el año 2020."
      ],
      "metadata": {
        "id": "NftRteSV_N0z"
      }
    },
    {
      "cell_type": "markdown",
      "source": [
        "**Cantidad de víctimas empleando registros por mes**"
      ],
      "metadata": {
        "id": "fL0A8h6K9-U7"
      }
    },
    {
      "cell_type": "code",
      "source": [
        "df_2 = df_cod.drop(df_cod[df_cod['TOTAL_VICTIMAS_30DF']>=5].index)\n",
        "print(df_2.shape)"
      ],
      "metadata": {
        "colab": {
          "base_uri": "https://localhost:8080/"
        },
        "id": "kqhV_DaDHeC6",
        "outputId": "e132f4fa-f19a-4985-cd18-aa459b10c6c5"
      },
      "execution_count": null,
      "outputs": [
        {
          "output_type": "stream",
          "name": "stdout",
          "text": [
            "(62793, 69)\n"
          ]
        }
      ]
    },
    {
      "cell_type": "code",
      "source": [
        "#Distribución \n",
        "plt.figure(figsize=(12,6))\n",
        "ax=sns.countplot(data = df_2 , x = 'TOTAL_VICTIMAS_30DF')\n",
        "plt.xticks(size = 12)\n",
        "plt.xlabel(\"Cantidad de victimas\", size = 12)\n",
        "plt.yticks(size = 12)\n",
        "plt.ylabel('amount', size=12)\n",
        "without_hue(ax,df_2.TOTAL_VICTIMAS_30DF)\n",
        "\n",
        "plt.title('CANTIDAD DE ACCIDENTES POR VÍCTIMAS SIMULTANEAS')"
      ],
      "metadata": {
        "colab": {
          "base_uri": "https://localhost:8080/",
          "height": 432
        },
        "id": "WKw2LTW1X5Hz",
        "outputId": "98935bec-5007-4360-8144-a90cd1882ce4"
      },
      "execution_count": null,
      "outputs": [
        {
          "output_type": "execute_result",
          "data": {
            "text/plain": [
              "Text(0.5, 1.0, 'CANTIDAD DE ACCIDENTES POR VÍCTIMAS SIMULTANEAS')"
            ]
          },
          "metadata": {},
          "execution_count": 50
        },
        {
          "output_type": "display_data",
          "data": {
            "text/plain": [
              "<Figure size 864x432 with 1 Axes>"
            ],
            "image/png": "[encoded data removed]"
          },
          "metadata": {}
        }
      ]
    },
    {
      "cell_type": "markdown",
      "source": [
        "La siguiente gráfica de barras muestra la cantidad de heridos hospitalizados en el año 2020 empleando registros por mes. Se puede observar que el 79,1% de los encuestados, corresponde a que la cantidad de víctimas es de 1 ocupantes, mientras que el 14,8% corresponde a que la cantidad de víctimas es de 1 ocupantes. El 3,8% corresponde a 3 ocupantes. El 1,4% corresponde a 4 ocupantes. Está claro que la primera barra es mayor que las demás barras de la cantidad de víctimas. Estos resultados son negativos porque se puede observar que hay un gran impacto de víctimas en el año 2020.  "
      ],
      "metadata": {
        "id": "IWugJWQs_d1b"
      }
    },
    {
      "cell_type": "markdown",
      "source": [
        "**Cantidad de vehiculos implicados en el accidente**"
      ],
      "metadata": {
        "id": "8FY719n8-Aiy"
      }
    },
    {
      "cell_type": "code",
      "source": [
        "df_2 = df_cod.drop(df_cod[df_cod['TOTAL_VEHICULOS']>=5].index)\n",
        "print(df_2.shape)"
      ],
      "metadata": {
        "colab": {
          "base_uri": "https://localhost:8080/"
        },
        "id": "Tu-XMqHZHmjy",
        "outputId": "fc050723-fda7-4953-a9bb-38014b35e26c"
      },
      "execution_count": null,
      "outputs": [
        {
          "output_type": "stream",
          "name": "stdout",
          "text": [
            "(63030, 69)\n"
          ]
        }
      ]
    },
    {
      "cell_type": "code",
      "source": [
        "#Distribución \n",
        "plt.figure(figsize=(12,6))\n",
        "ax=sns.countplot(data = df_2 , x = \"TOTAL_VEHICULOS\",order = df_2 ['TOTAL_VEHICULOS'].value_counts().index)\n",
        "plt.xticks(size = 12)\n",
        "plt.xlabel(\"Cantidad de vehiculo\", size = 12)\n",
        "plt.yticks(size = 12)\n",
        "plt.ylabel('amount', size=12)\n",
        "without_hue(ax,df_2.TOTAL_VEHICULOS)\n",
        "\n",
        "\n",
        "plt.title('CANTIDAD DE VEHÍCULOS IMPLICADOS EN CADA ACCIDENTE')"
      ],
      "metadata": {
        "colab": {
          "base_uri": "https://localhost:8080/",
          "height": 432
        },
        "id": "EdyExuRFdSZ0",
        "outputId": "35689c3a-d4cd-4a0c-f22a-ac1014cdc332"
      },
      "execution_count": null,
      "outputs": [
        {
          "output_type": "execute_result",
          "data": {
            "text/plain": [
              "Text(0.5, 1.0, 'CANTIDAD DE VEHÍCULOS IMPLICADOS EN CADA ACCIDENTE')"
            ]
          },
          "metadata": {},
          "execution_count": 52
        },
        {
          "output_type": "display_data",
          "data": {
            "text/plain": [
              "<Figure size 864x432 with 1 Axes>"
            ],
            "image/png": "[encoded data removed]"
          },
          "metadata": {}
        }
      ]
    },
    {
      "cell_type": "markdown",
      "source": [
        "La siguiente gráfica de barras muestra la cantidad de vehículos implicados en el accidente en el año 2020. Se puede observar que el 38,8,1% de los encuestados, corresponde a que la cantidad de vehículos implicados es de 1 vehículo, mientras que el 56,1% corresponde a que la cantidad de vehículos implicados es de 2 vehículos implicados. El 6,2% corresponde a 3 vehículos implicados. El 1,4% corresponde a 4 vehículos implicados. Está claro que la segunda barra es mayor que las demás barras de la cantidad de vehículos implicados. Estos resultados son negativos porque se puede observar que hay un gran impacto de vehículos implicados de accidentes en el año 2020.  "
      ],
      "metadata": {
        "id": "tVifIQwK_gNT"
      }
    },
    {
      "cell_type": "markdown",
      "source": [
        "TOTAL_VEHICULOS: Especifica el número total de vehículos implicados registrados en el accidente. Tipo numérico. \n",
        "\n",
        "En este caso presenta la segunda barra es mayor que las demas barrras de acuerdo de la distribucción generada. "
      ],
      "metadata": {
        "id": "qEVWiEDo_ju5"
      }
    },
    {
      "cell_type": "markdown",
      "source": [
        "**Tipo de accidente ocurrido**"
      ],
      "metadata": {
        "id": "SzdzeBEG-EEr"
      }
    },
    {
      "cell_type": "code",
      "source": [
        "#Distribución \n",
        "plt.figure(figsize=(12,6))\n",
        "ax=sns.countplot(data = df_cod, x = \"TIPO_ACCIDENTE\",order = df_cod['TIPO_ACCIDENTE'].value_counts().index)\n",
        "plt.xticks(size = 12)\n",
        "plt.xlabel(\"Tipo de accidente\", size = 12)\n",
        "plt.yticks(size = 12)\n",
        "plt.ylabel('amount', size=12)\n",
        "without_hue(ax,df_cod.TIPO_ACCIDENTE)\n",
        "\n",
        "\n",
        "plt.title('CANTIDAD DE ACCIDENTES SEGÚN SU TIPO')"
      ],
      "metadata": {
        "colab": {
          "base_uri": "https://localhost:8080/",
          "height": 432
        },
        "id": "AMMwPCu2NZll",
        "outputId": "ae0c32f2-96af-45cc-c12f-1fb88443b046"
      },
      "execution_count": null,
      "outputs": [
        {
          "output_type": "execute_result",
          "data": {
            "text/plain": [
              "Text(0.5, 1.0, 'CANTIDAD DE ACCIDENTES SEGÚN SU TIPO')"
            ]
          },
          "metadata": {},
          "execution_count": 53
        },
        {
          "output_type": "display_data",
          "data": {
            "text/plain": [
              "<Figure size 864x432 with 1 Axes>"
            ],
            "image/png": "[encoded data removed]"
          },
          "metadata": {}
        }
      ]
    },
    {
      "cell_type": "markdown",
      "source": [
        "Muestra los tipos de accidentes ocurridos en el año 2020. Para el primero denominado accidente “frontal” tenemos que se dio en un 3.1%, el segundo como “fronto-lateral” se dio en un 22.5%, el tercero como “lateral” se dio en un 9.5, el cuarto como “por alcance” se dio en un 17.2%, el quinto como “múltiple o en caravana” se dio en un 2.1%, el sexto como “colisión contra obstáculo o elemento de la vía” se dio en un 3.0%, el séptimo como “atropello a personas” se dio en un 12.7%, el octavo como “atropello a animales” se dio en un 0.3%, el noveno como “vuelco” se dio en un 3.9%, el décimo como “caída” se dio en un 8.1%, el onceavo como “solo salida de la vía” se dio en un 0.1%, el doceavo como “salida de la vía por la izquierda con colisión” se dio en un 2.2%, el treceavo como “salida de la vía por la izquierda con despeñamiento” se dio en un 0.2%, el catorceavo como “salida de la vía por la izquierda con vuelco” se dio en un 0.8%, el quinceavo como “salida de la vía por la izquierda, otro tipo” se dio en un 1.1%, el dieciseisavo como “salida de la vía por la derecha con colisión” se dio en un 2.6%, el diecisieteavo como “salida de la vía por la derecha con despeñamiento” se dio en un 0.3%, el dieciochoavo como “salida de la vía por la derecha con vuelco” se dio en un 1.4%, el diecinueveavo como “salida de la vía por la derecha, otro tipo” se dio en un 3.3%, y por último el veinteavo como “otro tipo de accidente” se dio en un 5.4%."
      ],
      "metadata": {
        "id": "QsToGhQfM_zS"
      }
    },
    {
      "cell_type": "markdown",
      "source": [
        "**Elementos que afectan a la visibilidad en el lugar de acccidente**"
      ],
      "metadata": {
        "id": "X6AMthac_Cf7"
      }
    },
    {
      "cell_type": "code",
      "source": [
        "\n",
        "#Distribución \n",
        "plt.figure(figsize=(12,6))\n",
        "ax=sns.countplot(data = df_cod, x = \"VISIB_RESTRINGIDA_POR\",order = df_cod['VISIB_RESTRINGIDA_POR'].value_counts().index)\n",
        "plt.xticks(size = 12)\n",
        "plt.xlabel(\"visibilidad restringida\", size = 12)\n",
        "plt.yticks(size = 12)\n",
        "plt.ylabel('amount', size=12)\n",
        "without_hue(ax,df_cod.VISIB_RESTRINGIDA_POR)\n",
        "\n",
        "\n",
        "plt.title('CANTIDAD DE ACCIDENTES SEGÚN ELEMENTOS QUE AFECTAN LA VISIBILIDAD')"
      ],
      "metadata": {
        "colab": {
          "base_uri": "https://localhost:8080/",
          "height": 433
        },
        "id": "JX1P86fcBb2i",
        "outputId": "321d9554-6673-4bc6-94b1-1a06150e3d45"
      },
      "execution_count": null,
      "outputs": [
        {
          "output_type": "execute_result",
          "data": {
            "text/plain": [
              "Text(0.5, 1.0, 'CANTIDAD DE ACCIDENTES SEGÚN ELEMENTOS QUE AFECTAN LA VISIBILIDAD')"
            ]
          },
          "metadata": {},
          "execution_count": 54
        },
        {
          "output_type": "display_data",
          "data": {
            "text/plain": [
              "<Figure size 864x432 with 1 Axes>"
            ],
            "image/png": "[encoded data removed]"
          },
          "metadata": {}
        }
      ]
    },
    {
      "cell_type": "markdown",
      "source": [
        "La ilustración muestra los elementos que afectan a la visibilidad en el lugar del accidente es decir las causas por el cual se dio el mismo. Los accidentes con buena visibilidad se dieron en un 63.1%, los accidentes por visibilidad restringida por edificios se dieron en un 1.1%, por instalaciones o elementos en la vía se dieron en un 1.1%, por configuración del terreno se dieron en un 29.5%, por factores atmosféricos se dieron en un 1.2%, por deslumbramiento por el sol se dieron en un 1.2%, por factores atmosféricos se dieron en un 0.4%, por deslumbramiento por alumbrado artificial se dieron en un 0.4%, por deslumbramiento por faros de otro vehículo se dieron en un 1.2%, por vehículo (parado, en movimiento, aparcado) se dieron en un 1.3%, por obras se dieron en un 0.1%, por contenedores se dieron en un 0.2%, por vegetación o arboles se dieron en un 0.1%, por elementos decorativos se dieron en un 0.1%, por otros objetos en la vía se dieron en un 0.1%, por paneles y publicidad se dieron en un 0.0%, por elementos del vehículo (lunas…) se dieron en un 0.0%, , por otras restricciones se dieron en un 0.1%, por causas desconocidas se dieron en un 0%, y por ultimo sin especificar se dieron en un 0%."
      ],
      "metadata": {
        "id": "6OU22IqMNSDc"
      }
    },
    {
      "cell_type": "markdown",
      "source": [
        "### ETAPA 3: TRANSFORMACION\n",
        "\n",
        "\n",
        "\n"
      ],
      "metadata": {
        "id": "dNJrJJApXPOv"
      }
    },
    {
      "cell_type": "markdown",
      "source": [
        "Realiza la transformacion de datos en categorias de cada columna."
      ],
      "metadata": {
        "id": "7Wbwv42U-YAc"
      }
    },
    {
      "cell_type": "code",
      "source": [
        "df_cod['ZONA_AGRUPADA'] = df_cod['ZONA_AGRUPADA'].map( {1: 'vías interurbanas', \n",
        "                                       2: 'vías urbanas',\n",
        "                                        '':0} ).astype(str)"
      ],
      "metadata": {
        "id": "LW17eypU-lFs"
      },
      "execution_count": null,
      "outputs": []
    },
    {
      "cell_type": "code",
      "source": [
        "df_cod['ZONA'] = df_cod['ZONA'].map( {1: 'carretera', \n",
        "                                       2: 'travesía',\n",
        "                                      3: 'autopista',\n",
        "                                      4: 'calle',\n",
        "                                        '':0} ).astype(str)"
      ],
      "metadata": {
        "id": "-4_iCn6QAcfT"
      },
      "execution_count": null,
      "outputs": []
    },
    {
      "cell_type": "code",
      "source": [
        "df_cod['SENTIDO_1F'] = df_cod['SENTIDO_1F'].map( {1: 'Ascendente', \n",
        "                                       2: 'Descendente',\n",
        "                                      3: 'Ambos',\n",
        "                                      4: 'Desconocido',\n",
        "                                        '':0} ).astype(str)"
      ],
      "metadata": {
        "id": "4pCiRcM8A3lj"
      },
      "execution_count": null,
      "outputs": []
    },
    {
      "cell_type": "code",
      "source": [
        "\n",
        "df_cod['TITULARIDAD_VIA'] = df_cod['TITULARIDAD_VIA'].map( {1: 'Estatal', \n",
        "                                       2: 'Autonómica',\n",
        "                                      3: 'Provincial cabildo/Consell',\n",
        "                                      4: 'Otra',\n",
        "                                      5: 'Municipal',\n",
        "                                        '':0} ).astype(str)"
      ],
      "metadata": {
        "id": "_7PuQgdLBHS7"
      },
      "execution_count": null,
      "outputs": []
    },
    {
      "cell_type": "code",
      "source": [
        "\n",
        "df_cod['MES'] = df_cod['MES'].map( {1: 'Enero', \n",
        "                                       2: 'Febrero',\n",
        "                                      3: 'Marzo',\n",
        "                                      4: 'Abril',\n",
        "                                      5: 'Mayo',\n",
        "                                     6: 'Junio',\n",
        "                                     7: 'Julio',\n",
        "                                     8: 'Agosto',\n",
        "                                    9: 'Septiembre',\n",
        "                                    10: 'Octubre',\n",
        "                                  11: 'Noviembre',\n",
        "                                    12: 'Diciembre',\n",
        "                                    \n",
        "                                        '':0} ).astype(str)"
      ],
      "metadata": {
        "id": "f5Wgkru41doh"
      },
      "execution_count": null,
      "outputs": []
    },
    {
      "cell_type": "code",
      "source": [
        "df_cod['CONDICION_NIEBLA'] = df_cod['CONDICION_NIEBLA'].map( {1: 'Niebla ligera', \n",
        "                                       2: 'Niebla intensa'} ).astype(str)"
      ],
      "metadata": {
        "id": "2Ml6jaa4-McS"
      },
      "execution_count": null,
      "outputs": []
    },
    {
      "cell_type": "code",
      "source": [
        "df_cod['CONDICION_NIVEL_CIRCULA'] = df_cod['CONDICION_NIVEL_CIRCULA'].map( {1: 'Nivel Blanco: Circulación fluida y tráfico normal', \n",
        "                                       2: 'Nivel Verde: Circulación intensa',\n",
        "                                       3: 'Nivel Amarillo: Circulación discontinua, detenciones intermitentes',\n",
        "                                       4: 'Nivel Rojo: Carretera saturada, paradas intermitentes y prolongadas',\n",
        "                                       5: 'Nivel Negro: Circulación interrumpida',\n",
        "                                       6: 'Desconocido'\n",
        "                                       } ).astype(str)"
      ],
      "metadata": {
        "id": "68akXsZX-Sy6"
      },
      "execution_count": null,
      "outputs": []
    },
    {
      "cell_type": "code",
      "source": [
        "df_cod['CONDICION_FIRME'] = df_cod['CONDICION_FIRME'].map( {1: 'Seco limpio', \n",
        "                                       2: 'Con barro',\n",
        "                                       3: 'Mojado',\n",
        "                                       4: 'inundado',\n",
        "                                       5: 'Con hielo',\n",
        "                                       6: 'Con nieve',\n",
        "                                       7: 'Con aceite',\n",
        "                                       8: 'Otra',\n",
        "                                       9: 'Desconocido'\n",
        "                                       } ).astype(str)"
      ],
      "metadata": {
        "id": "GYMDvkGX-iv6"
      },
      "execution_count": null,
      "outputs": []
    },
    {
      "cell_type": "code",
      "source": [
        "df_cod['CONDICION_ILUMINACION'] = df_cod['CONDICION_ILUMINACION'].map( {1: 'Solar', \n",
        "                                       2: 'Amanec/atard, sin luz artificial',\n",
        "                                       3: 'Amanec/atard, con luz artificial',\n",
        "                                       4: 'Sin luz natural y con iluminación artificial encen',\n",
        "                                       5: 'Sin luz natural y con iluminación artificial sin ence',\n",
        "                                       6: 'Sin luz natural/artificial'\n",
        "                                 \n",
        "                                       } ).astype(str)"
      ],
      "metadata": {
        "id": "Q-1WhKZb_6bU"
      },
      "execution_count": null,
      "outputs": []
    },
    {
      "cell_type": "code",
      "source": [
        "df_cod['CONDICION_METEO'] = df_cod['CONDICION_METEO'].map( {1: 'Despejado', \n",
        "                                       2: 'Nublado',\n",
        "                                       3: 'Lluvia debil',\n",
        "                                       4: 'Lluvia fuerte',\n",
        "                                       5: 'Granizado',\n",
        "                                       6: 'Nevado',\n",
        "                                       7: 'Desconocido'\n",
        "                                 \n",
        "                                       } ).astype(str)"
      ],
      "metadata": {
        "id": "pzZV38jiAkSK"
      },
      "execution_count": null,
      "outputs": []
    },
    {
      "cell_type": "markdown",
      "source": [
        "**Cantidad de accidentes en Zona agrupada y Titularidad Via**"
      ],
      "metadata": {
        "id": "fJ4iZnmS_l3L"
      }
    },
    {
      "cell_type": "code",
      "source": [
        "plt.figure(figsize=(10,6))\n",
        "ax=sns.countplot('TITULARIDAD_VIA', hue='ZONA_AGRUPADA',data=df_cod )\n",
        "plt.xticks(size = 12)\n",
        "plt.xlabel(\"TITULARIDAD DE VIA \", size = 12)\n",
        "plt.yticks(size = 12)\n",
        "plt.ylabel('amount', size=12)\n",
        "with_hue(ax,df_cod.TITULARIDAD_VIA, 2,5)\n",
        "plt.title('CANTIDAD DE ACCIDENTES POR ZONA AGRUPADA Y TITULARIDAD VIA')"
      ],
      "metadata": {
        "colab": {
          "base_uri": "https://localhost:8080/",
          "height": 489
        },
        "id": "qCamI1qwFaNj",
        "outputId": "ffc6a339-a77a-4bf0-e18c-34a20d32cbc1"
      },
      "execution_count": null,
      "outputs": [
        {
          "output_type": "stream",
          "name": "stderr",
          "text": [
            "/usr/local/lib/python3.7/dist-packages/seaborn/_decorators.py:43: FutureWarning: Pass the following variable as a keyword arg: x. From version 0.12, the only valid positional argument will be `data`, and passing other arguments without an explicit keyword will result in an error or misinterpretation.\n",
            "  FutureWarning\n"
          ]
        },
        {
          "output_type": "execute_result",
          "data": {
            "text/plain": [
              "Text(0.5, 1.0, 'CANTIDAD DE ACCIDENTES POR ZONA AGRUPADA Y TITULARIDAD VIA')"
            ]
          },
          "metadata": {},
          "execution_count": 65
        },
        {
          "output_type": "display_data",
          "data": {
            "text/plain": [
              "<Figure size 720x432 with 1 Axes>"
            ],
            "image/png": "[encoded data removed]"
          },
          "metadata": {}
        }
      ]
    },
    {
      "cell_type": "markdown",
      "source": [
        "\n",
        "*   ZONA_AGRUPADA: Especifica el número de Zona en la que ocurrió el accidente. Tipo numérico. \n",
        " (Agregación de la Zona en 2 valores: vías interurbanas y vías urbanas)\n",
        "*   TITULARIDAD_VIA: Especifica el número de Administración titular de la vía en la que ocurrió el accidente. Tipo numérico. \n",
        "(Agregación de titularidad de vía en 5 Valores: Estatal, Autonómica, Provincial cabil-do/Consell, Otra y Municipal\n"
      ],
      "metadata": {
        "id": "jp21CM8l_2Bh"
      }
    },
    {
      "cell_type": "markdown",
      "source": [
        "La Ilustración muestra la cantidad de accidentes en zonas agrupadas y de titularidad vial. Con respecto a vías interurbanas, la cantidad de accidentes en titularidad de vía provincial cabildo/consell es del 9.1%, en otra es del 55.6%, en la estatal es de 13.4%, en la autonómica es del 87.5% y en la municipal es del 0%. Asimismo, con respecto a vías urbanas, la cantidad de accidentes en la titularidad de vía provincial cabildo/consell es del 0%, en otra es del 100%, en la estatal es del 0%, en la autonómica es del 0% y en la municipal es del 0%."
      ],
      "metadata": {
        "id": "7O6IcwNwNZDZ"
      }
    },
    {
      "cell_type": "markdown",
      "source": [
        "**Cantidad de accidentes en Zona agrupada y sentido de la via**"
      ],
      "metadata": {
        "id": "CoJ0z_Mr_oGy"
      }
    },
    {
      "cell_type": "code",
      "source": [
        "plt.figure(figsize=(10,6))\n",
        "ax=sns.countplot('SENTIDO_1F', hue='ZONA_AGRUPADA',data=df_cod )\n",
        "plt.xticks(size = 12)\n",
        "plt.xlabel(\"SENTIDO DE LA VIA \", size = 12)\n",
        "plt.yticks(size = 12)\n",
        "plt.ylabel('amount', size=12)\n",
        "with_hue(ax,df_cod.SENTIDO_1F, 2,4)\n",
        "plt.title('CANTIDAD DE ACCIDENTES POR ZONA AGRUPADA Y SENTIDO DE LA VIA')"
      ],
      "metadata": {
        "colab": {
          "base_uri": "https://localhost:8080/",
          "height": 489
        },
        "id": "bxpWnN7dxxlU",
        "outputId": "33021b34-da4b-4deb-bb6f-ed4c998cb8d4"
      },
      "execution_count": null,
      "outputs": [
        {
          "output_type": "stream",
          "name": "stderr",
          "text": [
            "/usr/local/lib/python3.7/dist-packages/seaborn/_decorators.py:43: FutureWarning: Pass the following variable as a keyword arg: x. From version 0.12, the only valid positional argument will be `data`, and passing other arguments without an explicit keyword will result in an error or misinterpretation.\n",
            "  FutureWarning\n"
          ]
        },
        {
          "output_type": "execute_result",
          "data": {
            "text/plain": [
              "Text(0.5, 1.0, 'CANTIDAD DE ACCIDENTES POR ZONA AGRUPADA Y SENTIDO DE LA VIA')"
            ]
          },
          "metadata": {},
          "execution_count": 66
        },
        {
          "output_type": "display_data",
          "data": {
            "text/plain": [
              "<Figure size 720x432 with 1 Axes>"
            ],
            "image/png": "[encoded data removed]"
          },
          "metadata": {}
        }
      ]
    },
    {
      "cell_type": "markdown",
      "source": [
        "La Ilustración muestra la cantidad de accidentes en zona agrupadas y zona. Con respecto a vías interurbanas la cantidad de accidentes en zona de carretera es del 47.0%, en autopista, travesía y calles es del 0%. Con respecto a vías urbanas la cantidad de accidentes en zona de carretera es del 0%, en autopista es del 99%, en travesía es del 1% y en calle del 0%."
      ],
      "metadata": {
        "id": "0QbCTZa-NgQN"
      }
    },
    {
      "cell_type": "markdown",
      "source": [
        "*   ZONA_AGRUPADA: Especifica el número de Zona en la que ocurrió el accidente. Tipo numérico. \n",
        " (Agregación de la Zona en 2 valores: vías interurbanas y vías urbanas)\n",
        "*   SENTIDO_1F: Especifica el número de sentido de la vía donde ocurrió el accidente. Tipo numérico. \n",
        "(Agregación de Sentido 1F en 4 Valores: Ascendente, Descendente, Ambos, se desconoce)\n",
        "\n",
        "\n",
        "TENDENCIA- En la zona agrupada (Vias urbanadas) que desconoce el sentido 1F\n",
        "\n",
        "\n"
      ],
      "metadata": {
        "id": "YfFAdztlBbCp"
      }
    },
    {
      "cell_type": "markdown",
      "source": [
        "**Cantidad de accidentes en Zona agrupada y Zona**"
      ],
      "metadata": {
        "id": "RtMB-uuC_rFj"
      }
    },
    {
      "cell_type": "code",
      "source": [
        "plt.figure(figsize=(10,6))\n",
        "ax=sns.countplot('ZONA', hue='ZONA_AGRUPADA',data=df_cod )\n",
        "plt.xticks(size = 12)\n",
        "plt.xlabel(\"Zona \", size = 12)\n",
        "plt.yticks(size = 12)\n",
        "plt.ylabel('amount', size=12)\n",
        "with_hue(ax,df_cod.ZONA, 2,4\n",
        "         )\n",
        "plt.title('CANTIDAD DE ACCIDENTES POR ZONA AGRUPADA Y ZONA')"
      ],
      "metadata": {
        "colab": {
          "base_uri": "https://localhost:8080/",
          "height": 489
        },
        "id": "WjvXEQ9-JF0B",
        "outputId": "84a86144-1bdd-447b-a3b9-bd49d9ce08d9"
      },
      "execution_count": null,
      "outputs": [
        {
          "output_type": "stream",
          "name": "stderr",
          "text": [
            "/usr/local/lib/python3.7/dist-packages/seaborn/_decorators.py:43: FutureWarning: Pass the following variable as a keyword arg: x. From version 0.12, the only valid positional argument will be `data`, and passing other arguments without an explicit keyword will result in an error or misinterpretation.\n",
            "  FutureWarning\n"
          ]
        },
        {
          "output_type": "execute_result",
          "data": {
            "text/plain": [
              "Text(0.5, 1.0, 'CANTIDAD DE ACCIDENTES POR ZONA AGRUPADA Y ZONA')"
            ]
          },
          "metadata": {},
          "execution_count": 67
        },
        {
          "output_type": "display_data",
          "data": {
            "text/plain": [
              "<Figure size 720x432 with 1 Axes>"
            ],
            "image/png": "[encoded data removed]"
          },
          "metadata": {}
        }
      ]
    },
    {
      "cell_type": "markdown",
      "source": [
        "La Ilustración muestra la cantidad de accidentes en zonas agrupadas y sentido 1F. Con respecto a vías interurbanas, la cantidad de accidentes con sentido 1F ascendente es del 16.6%, la de ambos es del 16.8%, la de descendente es del 15.4% y la de desconocido es del 46.1%. Con respecto a vías urbanas la cantidad de accidentes con sentido 1F solo se presenta en el desconocido con un total del 100%."
      ],
      "metadata": {
        "id": "UVAHFEIINkQZ"
      }
    },
    {
      "cell_type": "code",
      "source": [
        "df_cod['CONDICION_NIEBLA'] = df_cod['CONDICION_NIEBLA'].replace(['nan'],'Desconocido')\n",
        "df_cod.groupby('CONDICION_NIEBLA').size()"
      ],
      "metadata": {
        "colab": {
          "base_uri": "https://localhost:8080/"
        },
        "id": "GaNYN5xT_gDl",
        "outputId": "7708b437-9408-4ac6-a0d4-d83f8e4dbf3f"
      },
      "execution_count": null,
      "outputs": [
        {
          "output_type": "execute_result",
          "data": {
            "text/plain": [
              "CONDICION_NIEBLA\n",
              "Desconocido       57295\n",
              "Niebla intensa       80\n",
              "Niebla ligera      6009\n",
              "dtype: int64"
            ]
          },
          "metadata": {},
          "execution_count": 68
        }
      ]
    },
    {
      "cell_type": "markdown",
      "source": [
        "**Cantidad de accidentes mensuales de acuerdo a condición niebla**"
      ],
      "metadata": {
        "id": "nPnu-GZH_twr"
      }
    },
    {
      "cell_type": "code",
      "source": [
        "plt.figure(figsize=(15,6))\n",
        "ax=sns.countplot('MES', hue='CONDICION_NIEBLA',data=df_cod )\n",
        "plt.xticks(size = 12)\n",
        "plt.xlabel(\"MES\", size = 12)\n",
        "plt.yticks(size = 12)\n",
        "plt.ylabel('amount', size=12)\n",
        "with_hue(ax,df_cod.MES, 2,12)\n",
        "plt.title('CANTIDAD DE ACCIDENTES POR MES DE ACUERDO A CONDICIÓN NIEBLA')"
      ],
      "metadata": {
        "colab": {
          "base_uri": "https://localhost:8080/",
          "height": 489
        },
        "id": "Q_voTApssgNZ",
        "outputId": "82ec675b-50bc-4381-effa-77bdec296079"
      },
      "execution_count": null,
      "outputs": [
        {
          "output_type": "stream",
          "name": "stderr",
          "text": [
            "/usr/local/lib/python3.7/dist-packages/seaborn/_decorators.py:43: FutureWarning: Pass the following variable as a keyword arg: x. From version 0.12, the only valid positional argument will be `data`, and passing other arguments without an explicit keyword will result in an error or misinterpretation.\n",
            "  FutureWarning\n"
          ]
        },
        {
          "output_type": "execute_result",
          "data": {
            "text/plain": [
              "Text(0.5, 1.0, 'CANTIDAD DE ACCIDENTES POR MES DE ACUERDO A CONDICIÓN NIEBLA')"
            ]
          },
          "metadata": {},
          "execution_count": 69
        },
        {
          "output_type": "display_data",
          "data": {
            "text/plain": [
              "<Figure size 1080x432 with 1 Axes>"
            ],
            "image/png": "[encoded data removed]"
          },
          "metadata": {}
        }
      ]
    },
    {
      "cell_type": "markdown",
      "source": [
        "La ilustración muestra la cantidad de accidentes mensuales de acuerdo con la condición niebla. Para el mes de enero los accidentes con condición niebla desconocida o ausencia de niebla es del 88.5% y para niebla ligera es del 11.1%. Para el mes de febrero los accidentes con condición niebla desconocida es del 88.6% y para niebla ligera es del 11.1%. Para el mes de marzo los accidentes con condición niebla desconocida o ausencia de niebla es del 71.0% y para niebla ligera es del 6.4%. Para el mes de abril los accidentes con condición niebla desconocida o ausencia de niebla es del 83.4% y para niebla ligera es del 8.9%. Para el mes mayo los accidentes con condición niebla desconocida o ausencia de niebla es del 74.2% y para niebla ligera es del 5.4%. Para el mes de junio los accidentes con condición niebla desconocida o ausencia de niebla es del 79.6% y para niebla ligera es del 8.3%. Para el mes de julio los accidentes con condición niebla desconocida o ausencia de niebla es del 78.0% y para niebla ligera es del 7.9%. Para el mes de agosto los accidentes con condición niebla desconocida o ausencia de niebla es del 46.1% y para niebla ligera es del 3.7%. Para el mes de septiembre los accidentes con condición niebla desconocida o ausencia de niebla es del 75.9% y para niebla ligera es del 8.3%. Para el mes de octubre los accidentes con condición niebla desconocida o ausencia de niebla es del 46.8% y para niebla ligera es del 5.7%. Para el mes de noviembre los accidentes con condición niebla desconocida o ausencia de niebla es del 12.3% y para niebla ligera es del 1.2%. Y para el mes de diciembre los accidentes con condición niebla desconocida o ausencia de niebla es del 69.9% y para niebla ligera es del 7.5%. En conclusión, con la ausencia de niebla se dio el mayor porcentaje de accidentes llegando a alcanzar el 90%, y con que con niebla ligera no sobrepasa el 12% de accidentes."
      ],
      "metadata": {
        "id": "Znf1rUjHNoGS"
      }
    },
    {
      "cell_type": "code",
      "source": [
        "df_cod['CONDICION_NIVEL_CIRCULA'] = df_cod['CONDICION_NIVEL_CIRCULA'].replace(['nan'],'Desconocido')\n",
        "df_cod.groupby('CONDICION_NIVEL_CIRCULA').size()"
      ],
      "metadata": {
        "colab": {
          "base_uri": "https://localhost:8080/"
        },
        "id": "Ya0CXQEr_TYq",
        "outputId": "0f433ce7-4c50-4fa8-89b8-bf4dad35edf5"
      },
      "execution_count": null,
      "outputs": [
        {
          "output_type": "execute_result",
          "data": {
            "text/plain": [
              "CONDICION_NIVEL_CIRCULA\n",
              "Desconocido                                                            25903\n",
              "Nivel Amarillo: Circulación discontinua, detenciones intermitentes      2281\n",
              "Nivel Blanco: Circulación fluida y tráfico normal                      27696\n",
              "Nivel Negro: Circulación interrumpida                                     48\n",
              "Nivel Rojo: Carretera saturada, paradas intermitentes y prolongadas      324\n",
              "Nivel Verde: Circulación intensa                                        7132\n",
              "dtype: int64"
            ]
          },
          "metadata": {},
          "execution_count": 70
        }
      ]
    },
    {
      "cell_type": "markdown",
      "source": [
        "**Cantidad de accidentes mensuales de acuerdo a condición nivel de circulación**"
      ],
      "metadata": {
        "id": "U7oBUmUF_voO"
      }
    },
    {
      "cell_type": "code",
      "source": [
        "#Distribución \n",
        "plt.figure(figsize=(20,10))\n",
        "ax=sns.countplot('MES', hue='CONDICION_NIVEL_CIRCULA',data=df_cod )\n",
        "plt.xticks(size = 12)\n",
        "plt.xlabel(\"MES\", size = 12)\n",
        "plt.yticks(size = 12)\n",
        "plt.ylabel('amount', size=12)\n",
        "with_hue(ax,df_cod.MES, 5,12)\n",
        "plt.title('CANTIDAD DE ACCIDENTES POR MES SEGÚN CONDICIÓN CIRCULACIÓN')"
      ],
      "metadata": {
        "colab": {
          "base_uri": "https://localhost:8080/",
          "height": 742
        },
        "id": "bN0_5ANPs5MB",
        "outputId": "781ced01-af22-4ad0-cc59-6f9b61318bb8"
      },
      "execution_count": null,
      "outputs": [
        {
          "output_type": "stream",
          "name": "stderr",
          "text": [
            "/usr/local/lib/python3.7/dist-packages/seaborn/_decorators.py:43: FutureWarning:\n",
            "\n",
            "Pass the following variable as a keyword arg: x. From version 0.12, the only valid positional argument will be `data`, and passing other arguments without an explicit keyword will result in an error or misinterpretation.\n",
            "\n"
          ]
        },
        {
          "output_type": "execute_result",
          "data": {
            "text/plain": [
              "Text(0.5, 1.0, 'CANTIDAD DE ACCIDENTES POR MES SEGÚN CONDICIÓN CIRCULACIÓN')"
            ]
          },
          "metadata": {},
          "execution_count": 99
        },
        {
          "output_type": "display_data",
          "data": {
            "text/plain": [
              "<Figure size 1440x720 with 1 Axes>"
            ],
            "image/png": "[encoded data removed]"
          },
          "metadata": {}
        }
      ]
    },
    {
      "cell_type": "markdown",
      "source": [
        "La ilustración muestra la cantidad de accidentes mensuales de acuerdo con la condición nivel de la circulación. En el mes de enero los accidentes por circulación fluida y trafico normal es del 39.1%, por circulación intensa es del 12.1%, por carretera saturada, paradas intermitentes y prolongadas es del 0.9%, por circulación discontinua, detenciones intermitentes es del 4.7%, y por condición desconocida es del 51.8%. En el mes de febrero los accidentes por circulación fluida y trafico normal es del 39.9%, por circulación intensa es del 13.6%, por carretera saturada, paradas intermitentes y prolongadas es del 0.7%, por circulación discontinua, detenciones intermitentes es del 4.7%, y por condición desconocida es del 48.9%. En el mes de marzo los accidentes por circulación fluida y trafico normal es del 39.2%, por circulación intensa es del 10.0%, por carretera saturada, paradas intermitentes y prolongadas es del 0.3%, por circulación discontinua, detenciones intermitentes es del 2.2%, y por condición desconocida es del 31.1%. En el mes de abril los accidentes por circulación fluida y trafico normal es del 45.8%, por circulación intensa es del 10.1%, por carretera saturada, paradas intermitentes y prolongadas es del 0.4%, por circulación discontinua, detenciones intermitentes es del 3.9%, y por condición desconocida es del 37.8%. En el mes de mayo los accidentes por circulación fluida y trafico normal es del 44.5%, por circulación intensa es del 9.5%, por carretera saturada, paradas intermitentes y prolongadas es del 0.3%, por circulación discontinua, detenciones intermitentes es del 2.6%, y por condición desconocida es del 32.3%. En el mes de junio los accidentes por circulación fluida y trafico normal es del 37.8%, por circulación intensa es del 10.9%, por carretera saturada, paradas intermitentes y prolongadas es del 0.4%, por circulación discontinua, detenciones intermitentes es del 3.1%, y por condición desconocida es del 40.5%. En el mes de julio los accidentes por circulación fluida y trafico normal es del 38.7%, por circulación intensa es del 11.8%, por carretera saturada, paradas intermitentes y prolongadas es del 0.6%, por circulación discontinua, detenciones intermitentes es del 3.5%, y por condición desconocida es del 39.9%. En el mes de agosto los accidentes por circulación fluida y trafico normal es del 27.4%, por circulación intensa es del 5.7%, por carretera saturada, paradas intermitentes y prolongadas es del 0.1%, por circulación discontinua, detenciones intermitentes es del 0.8%, y por condición desconocida es del 18.3%. En el mes de septiembre los accidentes por circulación fluida y trafico normal es del 42.1%, por circulación intensa es del 9.8%, por carretera saturada, paradas intermitentes y prolongadas es del 0.5%, por circulación discontinua, detenciones intermitentes es del 4.3%, y por condición desconocida es del 34.8%. En el mes de octubre los accidentes por circulación fluida y trafico normal es del 25.2%, por circulación intensa es del 5.5%, por carretera saturada, paradas intermitentes y prolongadas es del 0.2%, por circulación discontinua, detenciones intermitentes es del 1.7%, y por condición desconocida es del 24.9%. En el mes de noviembre los accidentes por circulación fluida y trafico normal es del 7.4%, por circulación intensa es del 0.8%, por carretera saturada, paradas intermitentes y prolongadas es del 0.0%, por circulación discontinua, detenciones intermitentes es del 0.1%, y por condición desconocida es del 6.0%. Y por último en el mes de diciembre los accidentes por circulación fluida y trafico normal es del 33.1%, por circulación intensa es del 10.4%, por carretera saturada, paradas intermitentes y prolongadas es del 0.4%, por circulación discontinua, detenciones intermitentes es del 3.2%, y por condición desconocida es del 36.2%."
      ],
      "metadata": {
        "id": "0IRs-hHcNtnx"
      }
    },
    {
      "cell_type": "code",
      "source": [
        "df_cod['CONDICION_FIRME'] = df_cod['CONDICION_FIRME'].replace(['nan'],'Desconocido')\n",
        "df_cod.groupby('CONDICION_FIRME').size()"
      ],
      "metadata": {
        "colab": {
          "base_uri": "https://localhost:8080/"
        },
        "id": "6e9jZcUL_Xij",
        "outputId": "adfe5265-fe3d-4844-8d1c-d74a9cf33617"
      },
      "execution_count": null,
      "outputs": [
        {
          "output_type": "execute_result",
          "data": {
            "text/plain": [
              "CONDICION_FIRME\n",
              "Con aceite       277\n",
              "Con barro        477\n",
              "Con hielo         45\n",
              "Con nieve         13\n",
              "Desconocido      815\n",
              "Mojado          6430\n",
              "Otra             638\n",
              "Seco limpio    54598\n",
              "inundado          91\n",
              "dtype: int64"
            ]
          },
          "metadata": {},
          "execution_count": 72
        }
      ]
    },
    {
      "cell_type": "markdown",
      "source": [
        "**Cantidad de accidentes mensuales de acuerdo a condición firme**"
      ],
      "metadata": {
        "id": "tNZk01Bo_x4C"
      }
    },
    {
      "cell_type": "code",
      "source": [
        "#Distribución \n",
        "plt.figure(figsize=(15,10))\n",
        "ax=sns.countplot('MES', hue='CONDICION_FIRME',data=df_cod )\n",
        "plt.xticks(size = 12)\n",
        "plt.xlabel(\"MES\", size = 12)\n",
        "plt.yticks(size = 12)\n",
        "plt.ylabel('amount', size=12)\n",
        "with_hue(ax,df_cod.MES, 2,12)\n",
        "plt.title('CANTIDAD DE ACCIDENTES POR MES SEGÚN CONDICIÓN FIRME')"
      ],
      "metadata": {
        "colab": {
          "base_uri": "https://localhost:8080/",
          "height": 742
        },
        "id": "Wn2NYI0LuRxf",
        "outputId": "266d981e-e1cf-4af1-a722-b9479aef4de0"
      },
      "execution_count": null,
      "outputs": [
        {
          "output_type": "stream",
          "name": "stderr",
          "text": [
            "/usr/local/lib/python3.7/dist-packages/seaborn/_decorators.py:43: FutureWarning:\n",
            "\n",
            "Pass the following variable as a keyword arg: x. From version 0.12, the only valid positional argument will be `data`, and passing other arguments without an explicit keyword will result in an error or misinterpretation.\n",
            "\n"
          ]
        },
        {
          "output_type": "execute_result",
          "data": {
            "text/plain": [
              "Text(0.5, 1.0, 'CANTIDAD DE ACCIDENTES POR MES SEGÚN CONDICIÓN FIRME')"
            ]
          },
          "metadata": {},
          "execution_count": 100
        },
        {
          "output_type": "display_data",
          "data": {
            "text/plain": [
              "<Figure size 1080x720 with 1 Axes>"
            ],
            "image/png": "[encoded data removed]"
          },
          "metadata": {}
        }
      ]
    },
    {
      "cell_type": "markdown",
      "source": [
        "La ilustración  muestra la cantidad de accidentes mensuales de acuerdo con la condición firme del suelo. En el mes de enero los accidentes por suelo seco limpio son del 80.2% y para el suelo mojado son del 15.3%. En el mes de febrero los accidentes por suelo seco limpio son del 92.8% y para el suelo mojado son del 4.4%. En el mes de marzo los accidentes por suelo seco limpio son del 69.6% y para el suelo mojado son del 4.6%. En el mes de abril los accidentes por suelo seco limpio son del 86.8% y para el suelo mojado son del 2.1%. En el mes de mayo los accidentes por suelo seco limpio son del 72.6% y para el suelo mojado son del 3.8%. En el mes de junio los accidentes por suelo seco limpio son del 77.5% y para el suelo mojado son del 6.8%. En el mes de julio los accidentes por suelo seco limpio son del 70.7% y para el suelo mojado son del 12.3%. En el mes de agosto los accidentes por suelo seco limpio son del 44.4% y para el suelo mojado son del 3.3%. En el mes de septiembre los accidentes por suelo seco limpio son del 65.5% y para el suelo mojado son del 15.8%. En el mes de octubre los accidentes por suelo seco limpio son del 44.8% y para el suelo mojado son del 6.1%. En el mes de noviembre los accidentes por suelo seco limpio son del 10.2% y para el suelo mojado son del 2.6%. En el mes de diciembre los accidentes por suelo seco limpio son del 61.3% y para el suelo mojado son del 13.4%."
      ],
      "metadata": {
        "id": "o9iv0UGLONGx"
      }
    },
    {
      "cell_type": "code",
      "source": [
        "df_cod['CONDICION_ILUMINACION'] = df_cod['CONDICION_ILUMINACION'].replace(['nan'],'Desconocido')\n",
        "df_cod.groupby('CONDICION_ILUMINACION').size()"
      ],
      "metadata": {
        "id": "HyREON_d9WDV",
        "colab": {
          "base_uri": "https://localhost:8080/"
        },
        "outputId": "18e12f30-9d0b-4cc0-e0f6-af43724b770a"
      },
      "execution_count": null,
      "outputs": [
        {
          "output_type": "execute_result",
          "data": {
            "text/plain": [
              "CONDICION_ILUMINACION\n",
              "Amanec/atard, con luz artificial                          2068\n",
              "Amanec/atard, sin luz artificial                          2229\n",
              "Desconocido                                                 59\n",
              "Sin luz natural y con iluminación artificial encen        9942\n",
              "Sin luz natural y con iluminación artificial sin ence     2192\n",
              "Sin luz natural/artificial                                2834\n",
              "Solar                                                    44060\n",
              "dtype: int64"
            ]
          },
          "metadata": {},
          "execution_count": 74
        }
      ]
    },
    {
      "cell_type": "markdown",
      "source": [
        "**Cantidad de accidentes mensuales de acuerdo a condición iluminación**"
      ],
      "metadata": {
        "id": "C3RyontE_0zK"
      }
    },
    {
      "cell_type": "code",
      "source": [
        "#Distribución \n",
        "plt.figure(figsize=(15,10))\n",
        "ax=sns.countplot('MES', hue='CONDICION_ILUMINACION',data=df_cod )\n",
        "plt.xticks(size = 12)\n",
        "plt.xlabel(\"MES\", size = 12)\n",
        "plt.yticks(size = 12)\n",
        "plt.ylabel('amount', size=12)\n",
        "with_hue(ax,df_cod.MES, 5,12)\n",
        "plt.title('CANTIDAD DE ACCIDENTES POR MES SEGÚN CONDICIÓN ILUMINACIÓN')"
      ],
      "metadata": {
        "colab": {
          "base_uri": "https://localhost:8080/",
          "height": 742
        },
        "id": "zDuUfGw6u_js",
        "outputId": "4bd6fb5c-2bac-480f-ac46-873d7d8b20af"
      },
      "execution_count": null,
      "outputs": [
        {
          "output_type": "stream",
          "name": "stderr",
          "text": [
            "/usr/local/lib/python3.7/dist-packages/seaborn/_decorators.py:43: FutureWarning:\n",
            "\n",
            "Pass the following variable as a keyword arg: x. From version 0.12, the only valid positional argument will be `data`, and passing other arguments without an explicit keyword will result in an error or misinterpretation.\n",
            "\n"
          ]
        },
        {
          "output_type": "execute_result",
          "data": {
            "text/plain": [
              "Text(0.5, 1.0, 'CANTIDAD DE ACCIDENTES POR MES SEGÚN CONDICIÓN ILUMINACIÓN')"
            ]
          },
          "metadata": {},
          "execution_count": 102
        },
        {
          "output_type": "display_data",
          "data": {
            "text/plain": [
              "<Figure size 1080x720 with 1 Axes>"
            ],
            "image/png": "[encoded data removed]"
          },
          "metadata": {}
        }
      ]
    },
    {
      "cell_type": "code",
      "source": [
        "df_cod['CONDICION_METEO'] = df_cod['CONDICION_METEO'].replace(['nan'],'Desconocido')\n",
        "df_cod.groupby('CONDICION_METEO').size()"
      ],
      "metadata": {
        "colab": {
          "base_uri": "https://localhost:8080/"
        },
        "id": "DIZY0T5eARkn",
        "outputId": "1f900e76-1f8c-45c1-e367-be81f0b30f48"
      },
      "execution_count": null,
      "outputs": [
        {
          "output_type": "execute_result",
          "data": {
            "text/plain": [
              "CONDICION_METEO\n",
              "Desconocido       1233\n",
              "Despejado        54240\n",
              "Granizado           35\n",
              "Lluvia debil      3681\n",
              "Lluvia fuerte      853\n",
              "Nevado              19\n",
              "Nublado           3323\n",
              "dtype: int64"
            ]
          },
          "metadata": {},
          "execution_count": 76
        }
      ]
    },
    {
      "cell_type": "markdown",
      "source": [
        "La ilustración muestra la cantidad de accidentes mensuales de acuerdo con la condición iluminación. En el mes de enero los accidentes con condición o iluminación solar son del 63.4% y sin luz natural o artificial son del 5.5%. En el mes de febrero los accidentes con condición o iluminación solar son del 73.7% y sin luz natural o artificial son del 4.3%. En el mes de marzo los accidentes con condición o iluminación solar son del 72.9% y sin luz natural o artificial son del 2.3%. En el mes de abril los accidentes con condición o iluminación solar son del 73.3% y sin luz natural o artificial son del 3%. En el mes de mayo los accidentes con condición o iluminación solar son del 61.6% y sin luz natural o artificial son del 4.1%. En el mes de junio los accidentes con condición o iluminación solar son del 70.2% y sin luz natural o artificial son del 3.7%. En el mes de julio los accidentes con condición o iluminación solar son del 67.1% y sin luz natural o artificial son del 4.5%. En el mes de agosto los accidentes con condición o iluminación solar son del 44.3% y sin luz natural o artificial son del 2.0%. En el mes de septiembre los accidentes con condición o iluminación solar son del 49.7% y sin luz natural o artificial son del 6.1%. En el mes de octubre los accidentes con condición o iluminación solar son del 35.9% y sin luz natural o artificial son del 3.0%. En el mes de noviembre los accidentes con condición o iluminación solar son del 11.4% y sin luz natural o artificial son del 0.7%. En el mes de diciembre los accidentes con condición o iluminación solar son del 55.9% y sin luz natural o artificial son del 3.6%."
      ],
      "metadata": {
        "id": "mPwN6XlrOPUz"
      }
    },
    {
      "cell_type": "markdown",
      "source": [
        "**Cantidad de accidentes mensuales de acuerdo a condición meteo**"
      ],
      "metadata": {
        "id": "8m1ils5c_28i"
      }
    },
    {
      "cell_type": "code",
      "source": [
        "\n",
        "plt.figure(figsize=(15,9))\n",
        "ax=sns.countplot('MES', hue='CONDICION_METEO',data=df_cod )\n",
        "plt.xticks(size = 12)\n",
        "plt.xlabel(\"MES\", size = 12)\n",
        "plt.yticks(size = 12)\n",
        "plt.ylabel('amount', size=12)\n",
        "with_hue(ax,df_cod.MES, 4,12)\n",
        "plt.title('CANTIDAD DE ACCIDENTES POR MES SEGÚN CONDICIÓN METEOROLOGÍA')\n"
      ],
      "metadata": {
        "colab": {
          "base_uri": "https://localhost:8080/",
          "height": 652
        },
        "id": "_odBhd2xvOrc",
        "outputId": "93bea440-c8a6-4e14-d659-ebfe2167517e"
      },
      "execution_count": null,
      "outputs": [
        {
          "output_type": "stream",
          "name": "stderr",
          "text": [
            "/usr/local/lib/python3.7/dist-packages/seaborn/_decorators.py:43: FutureWarning: Pass the following variable as a keyword arg: x. From version 0.12, the only valid positional argument will be `data`, and passing other arguments without an explicit keyword will result in an error or misinterpretation.\n",
            "  FutureWarning\n"
          ]
        },
        {
          "output_type": "execute_result",
          "data": {
            "text/plain": [
              "Text(0.5, 1.0, 'CANTIDAD DE ACCIDENTES POR MES SEGÚN CONDICIÓN METEOROLOGÍA')"
            ]
          },
          "metadata": {},
          "execution_count": 77
        },
        {
          "output_type": "display_data",
          "data": {
            "text/plain": [
              "<Figure size 1080x648 with 1 Axes>"
            ],
            "image/png": "[encoded data removed]"
          },
          "metadata": {}
        }
      ]
    },
    {
      "cell_type": "markdown",
      "source": [
        "La ilustración muestra la cantidad de accidentes mensuales de acuerdo con condiciones meteorológicas. En el mes de enero los accidentes por condiciones meteorológicas de despejado son del 78.6% y para nublado son del 7.8%. En el mes de febrero los accidentes por condiciones meteorológicas de despejado son del 91.0% y para nublado son del 4.3%. En el mes de marzo los accidentes por condiciones meteorológicas de despejado son del 77.6% y para nublado son del 3.0%. En el mes de abril los accidentes por condiciones meteorológicas de despejado son del 100.0% y para nublado son del 2.0%. En el mes de mayo los accidentes por condiciones meteorológicas de despejado son del 73.2% y para nublado son del 2.3%. En el mes de junio los accidentes por condiciones meteorológicas de despejado son del 77.8% y para nublado son del 3.2%. En el mes de julio los accidentes por condiciones meteorológicas de despejado son del 78.1% y para nublado son del 5.1%. En el mes de agosto los accidentes por condiciones meteorológicas de despejado son del 51.0% y para nublado son del 1.9%. En el mes de septiembre los accidentes por condiciones meteorológicas de despejado son del 63.8% y para nublado son del 7.9%. En el mes de octubre los accidentes por condiciones meteorológicas de despejado son del 43.4% y para nublado son del 3.5%. En el mes de noviembre los accidentes por condiciones meteorológicas de despejado son del 11.0% y para nublado son del 1.5%. En el mes de diciembre los accidentes por condiciones meteorológicas de despejado son del 68.6% y para nublado son del 6.9%."
      ],
      "metadata": {
        "id": "b0POKZdGOT16"
      }
    },
    {
      "cell_type": "markdown",
      "source": [
        "**Cantidad de accidentes por Mes**"
      ],
      "metadata": {
        "id": "hTe27OI8_41q"
      }
    },
    {
      "cell_type": "code",
      "source": [
        "sns.factorplot('MES',data=df_cod,kind=\"count\", aspect=2)\n",
        "plt.title('CANTIDAD DE ACCIDENTES POR MES')"
      ],
      "metadata": {
        "colab": {
          "base_uri": "https://localhost:8080/",
          "height": 497
        },
        "id": "89DnU3iGx5ZL",
        "outputId": "f16b633c-40cb-4f96-867f-85a70bb45d67"
      },
      "execution_count": null,
      "outputs": [
        {
          "output_type": "stream",
          "name": "stderr",
          "text": [
            "/usr/local/lib/python3.7/dist-packages/seaborn/categorical.py:3717: UserWarning: The `factorplot` function has been renamed to `catplot`. The original name will be removed in a future release. Please update your code. Note that the default `kind` in `factorplot` (`'point'`) has changed `'strip'` in `catplot`.\n",
            "  warnings.warn(msg)\n",
            "/usr/local/lib/python3.7/dist-packages/seaborn/_decorators.py:43: FutureWarning: Pass the following variable as a keyword arg: x. From version 0.12, the only valid positional argument will be `data`, and passing other arguments without an explicit keyword will result in an error or misinterpretation.\n",
            "  FutureWarning\n"
          ]
        },
        {
          "output_type": "execute_result",
          "data": {
            "text/plain": [
              "Text(0.5, 1.0, 'CANTIDAD DE ACCIDENTES POR MES')"
            ]
          },
          "metadata": {},
          "execution_count": 78
        },
        {
          "output_type": "display_data",
          "data": {
            "text/plain": [
              "<Figure size 720x360 with 1 Axes>"
            ],
            "image/png": "[encoded data removed]"
          },
          "metadata": {}
        }
      ]
    },
    {
      "cell_type": "markdown",
      "source": [
        "MES: Especifica el mes en el que ocurrió el accidente. "
      ],
      "metadata": {
        "id": "8TCV_VeCCysI"
      }
    },
    {
      "cell_type": "markdown",
      "source": [
        "**Cantidad de accidentes por Hora**"
      ],
      "metadata": {
        "id": "0p-6QyI1_6nL"
      }
    },
    {
      "cell_type": "code",
      "source": [
        "sns.factorplot('HORA',data=df_cod,kind=\"count\", aspect=2)\n",
        "plt.title('CANTIDAD DE ACCIDENTES POR HORA')"
      ],
      "metadata": {
        "colab": {
          "base_uri": "https://localhost:8080/",
          "height": 497
        },
        "id": "Q0yBLSzzzWcD",
        "outputId": "d035e81f-e50f-4b2c-fd45-5b12e2f7222c"
      },
      "execution_count": null,
      "outputs": [
        {
          "output_type": "stream",
          "name": "stderr",
          "text": [
            "/usr/local/lib/python3.7/dist-packages/seaborn/categorical.py:3717: UserWarning: The `factorplot` function has been renamed to `catplot`. The original name will be removed in a future release. Please update your code. Note that the default `kind` in `factorplot` (`'point'`) has changed `'strip'` in `catplot`.\n",
            "  warnings.warn(msg)\n",
            "/usr/local/lib/python3.7/dist-packages/seaborn/_decorators.py:43: FutureWarning: Pass the following variable as a keyword arg: x. From version 0.12, the only valid positional argument will be `data`, and passing other arguments without an explicit keyword will result in an error or misinterpretation.\n",
            "  FutureWarning\n"
          ]
        },
        {
          "output_type": "execute_result",
          "data": {
            "text/plain": [
              "Text(0.5, 1.0, 'CANTIDAD DE ACCIDENTES POR HORA')"
            ]
          },
          "metadata": {},
          "execution_count": 79
        },
        {
          "output_type": "display_data",
          "data": {
            "text/plain": [
              "<Figure size 720x360 with 1 Axes>"
            ],
            "image/png": "[encoded data removed]"
          },
          "metadata": {}
        }
      ]
    },
    {
      "cell_type": "markdown",
      "source": [
        "SEMANA: Especifica el dia de la semana en el que ocurrió el accidente"
      ],
      "metadata": {
        "id": "lvxwmEYfZ_y5"
      }
    },
    {
      "cell_type": "markdown",
      "source": [
        "**Cantidad de accidetes por Semana**"
      ],
      "metadata": {
        "id": "HnKE5Zaf_8S0"
      }
    },
    {
      "cell_type": "code",
      "source": [
        "sns.factorplot('DIA_SEMANA',data=df_cod,kind=\"count\", aspect=2)\n",
        "plt.title('CANTIDAD DE ACCIDENTES POR SEMANA')"
      ],
      "metadata": {
        "colab": {
          "base_uri": "https://localhost:8080/",
          "height": 497
        },
        "id": "DpC1ceFBZ2Qf",
        "outputId": "4323e23a-060f-415e-cf0e-022a42a40d2e"
      },
      "execution_count": null,
      "outputs": [
        {
          "output_type": "stream",
          "name": "stderr",
          "text": [
            "/usr/local/lib/python3.7/dist-packages/seaborn/categorical.py:3717: UserWarning: The `factorplot` function has been renamed to `catplot`. The original name will be removed in a future release. Please update your code. Note that the default `kind` in `factorplot` (`'point'`) has changed `'strip'` in `catplot`.\n",
            "  warnings.warn(msg)\n",
            "/usr/local/lib/python3.7/dist-packages/seaborn/_decorators.py:43: FutureWarning: Pass the following variable as a keyword arg: x. From version 0.12, the only valid positional argument will be `data`, and passing other arguments without an explicit keyword will result in an error or misinterpretation.\n",
            "  FutureWarning\n"
          ]
        },
        {
          "output_type": "execute_result",
          "data": {
            "text/plain": [
              "Text(0.5, 1.0, 'CANTIDAD DE ACCIDENTES POR SEMANA')"
            ]
          },
          "metadata": {},
          "execution_count": 80
        },
        {
          "output_type": "display_data",
          "data": {
            "text/plain": [
              "<Figure size 720x360 with 1 Axes>"
            ],
            "image/png": "[encoded data removed]"
          },
          "metadata": {}
        }
      ]
    },
    {
      "cell_type": "markdown",
      "source": [
        "HORA: Especifica la hora en la que ocurrió el accidente\n",
        "\n",
        "Aproximadamente a las 2 pm ocurre mayor cantidad de accidente"
      ],
      "metadata": {
        "id": "ayG1oytcC1fN"
      }
    },
    {
      "cell_type": "markdown",
      "source": [
        "En la Ilustración muestra que el horario de 7:00 a 23:00 es en el que se registran accidentes de tráfico.  Estos decesos ocurren, sobre todo, los días y todos los meses del año, excepto el mes Abril porque son feriados de santo y la Dirección General de Tráfico realiza un llamamiento a la prudencia de los conductores para mitigar los accidentes de tráfico. "
      ],
      "metadata": {
        "id": "jwDRMFlI_9oy"
      }
    },
    {
      "cell_type": "markdown",
      "source": [
        "Descargar el conjunto de datos ya procesados para aplicar en otras herramientas"
      ],
      "metadata": {
        "id": "J0EeXTkmXXPr"
      }
    },
    {
      "cell_type": "code",
      "source": [
        "#from google.colab import files\n",
        "\n",
        "#with open('df3.csv', 'w') as f:\n",
        "  #df_cod.to_csv(f,  index = False)\n",
        "  \n",
        "#files.download('df3.csv')"
      ],
      "metadata": {
        "id": "HP37EiITdaab"
      },
      "execution_count": null,
      "outputs": []
    },
    {
      "cell_type": "code",
      "source": [
        "#df_cod.to_excel('Datos modificados con desc.xlsx')"
      ],
      "metadata": {
        "id": "PVvUeXIigJil"
      },
      "execution_count": null,
      "outputs": []
    },
    {
      "cell_type": "code",
      "source": [
        "MU_0 = df_cod[\"TOTAL_MU30DF\"]==0\n",
        "MU_1 = df_cod[\"TOTAL_MU30DF\"]==1\n",
        "MU_2 = df_cod[\"TOTAL_MU30DF\"]==2"
      ],
      "metadata": {
        "id": "vgiGAYm_hHz1"
      },
      "execution_count": null,
      "outputs": []
    },
    {
      "cell_type": "code",
      "source": [
        "VIC_0 = df_cod[\"TOTAL_HG30DF\"]==0\n",
        "VIC_1 = df_cod[\"TOTAL_HG30DF\"]==1\n",
        "VIC_2 = df_cod[\"TOTAL_HG30DF\"]==2"
      ],
      "metadata": {
        "id": "v2rGx__SkImd"
      },
      "execution_count": null,
      "outputs": []
    },
    {
      "cell_type": "code",
      "source": [
        "VI_0 = df_cod[\"TOTAL_HL30DF\"]==0\n",
        "VI_1 = df_cod[\"TOTAL_HL30DF\"]==1\n",
        "VI_2 = df_cod[\"TOTAL_HL30DF\"]==2"
      ],
      "metadata": {
        "id": "7PUBlOdktNcz"
      },
      "execution_count": null,
      "outputs": []
    },
    {
      "cell_type": "code",
      "source": [
        "suma_vc0=VIC_0.sum()\n",
        "suma_vc1=VIC_1.sum()\n",
        "suma_vc2=VIC_2.sum()"
      ],
      "metadata": {
        "id": "fAcwQJzYkebF"
      },
      "execution_count": null,
      "outputs": []
    },
    {
      "cell_type": "code",
      "source": [
        "suma_mu0=MU_0.sum()\n",
        "suma_mu1=MU_1.sum()\n",
        "suma_mu2=MU_2.sum()"
      ],
      "metadata": {
        "id": "KzgZix-6hpI8"
      },
      "execution_count": null,
      "outputs": []
    },
    {
      "cell_type": "code",
      "source": [
        "suma_v0=VI_0.sum()\n",
        "suma_v1=VI_1.sum()\n",
        "suma_v2=VI_2.sum()"
      ],
      "metadata": {
        "id": "_VlDmINstS5M"
      },
      "execution_count": null,
      "outputs": []
    },
    {
      "cell_type": "code",
      "source": [
        "personas_fallecidas = [suma_mu0, suma_mu1, suma_mu2 ]\n",
        "heridos_hospitalizados = [suma_vc0, suma_vc1, suma_vc2 ]\n",
        "heridos_no_hospitalizados = [suma_v0, suma_v1, suma_v2 ]\n"
      ],
      "metadata": {
        "id": "fhVj9-vVgvGL"
      },
      "execution_count": null,
      "outputs": []
    },
    {
      "cell_type": "code",
      "source": [
        "#TOTAL_MU30DF - 0%\n",
        "#TOTAL_HG30DF - 0%\n",
        "#TOTAL_HL30DF - 0%\n",
        "#TOTAL_VICTIMAS_30DF "
      ],
      "metadata": {
        "id": "LYAYf5eckOy8"
      },
      "execution_count": null,
      "outputs": []
    },
    {
      "cell_type": "code",
      "source": [
        "from pandas import *\n",
        "\n",
        "df = pd.DataFrame({'ocupantes': ['0 ocupante', '1 ocupante', '2 ocupantes' ],\n",
        "                   'Personas fallecidas': [suma_mu0, suma_mu1, suma_mu2 ],\n",
        "                   'heridos hospitalizados': [suma_vc0, suma_vc1, suma_vc2],\n",
        "                   'heridos no hospitalizados':[suma_v0, suma_v1, suma_v2 ]\n",
        "})\n",
        "\n",
        "\n"
      ],
      "metadata": {
        "id": "WPbNfEwii_Yr"
      },
      "execution_count": null,
      "outputs": []
    },
    {
      "cell_type": "code",
      "source": [
        "df"
      ],
      "metadata": {
        "colab": {
          "base_uri": "https://localhost:8080/",
          "height": 143
        },
        "id": "qKQk5cRWlYC0",
        "outputId": "275c2216-79ff-4e71-a191-d48c6c6eafa0"
      },
      "execution_count": null,
      "outputs": [
        {
          "output_type": "execute_result",
          "data": {
            "text/plain": [
              "     ocupantes  Personas fallecidas  heridos hospitalizados  \\\n",
              "0   0 ocupante                62522                   58576   \n",
              "1   1 ocupante                  819                    4499   \n",
              "2  2 ocupantes                   33                     271   \n",
              "\n",
              "   heridos no hospitalizados  \n",
              "0                       4414  \n",
              "1                      47017  \n",
              "2                       8487  "
            ],
            "text/html": [
              "\n",
              "  <div id=\"df-e5a3ad57-717d-4e2e-b267-9ddf44a1e711\">\n",
              "    <div class=\"colab-df-container\">\n",
              "      <div>\n",
              "<style scoped>\n",
              "    .dataframe tbody tr th:only-of-type {\n",
              "        vertical-align: middle;\n",
              "    }\n",
              "\n",
              "    .dataframe tbody tr th {\n",
              "        vertical-align: top;\n",
              "    }\n",
              "\n",
              "    .dataframe thead th {\n",
              "        text-align: right;\n",
              "    }\n",
              "</style>\n",
              "<table border=\"1\" class=\"dataframe\">\n",
              "  <thead>\n",
              "    <tr style=\"text-align: right;\">\n",
              "      <th></th>\n",
              "      <th>ocupantes</th>\n",
              "      <th>Personas fallecidas</th>\n",
              "      <th>heridos hospitalizados</th>\n",
              "      <th>heridos no hospitalizados</th>\n",
              "    </tr>\n",
              "  </thead>\n",
              "  <tbody>\n",
              "    <tr>\n",
              "      <th>0</th>\n",
              "      <td>0 ocupante</td>\n",
              "      <td>62522</td>\n",
              "      <td>58576</td>\n",
              "      <td>4414</td>\n",
              "    </tr>\n",
              "    <tr>\n",
              "      <th>1</th>\n",
              "      <td>1 ocupante</td>\n",
              "      <td>819</td>\n",
              "      <td>4499</td>\n",
              "      <td>47017</td>\n",
              "    </tr>\n",
              "    <tr>\n",
              "      <th>2</th>\n",
              "      <td>2 ocupantes</td>\n",
              "      <td>33</td>\n",
              "      <td>271</td>\n",
              "      <td>8487</td>\n",
              "    </tr>\n",
              "  </tbody>\n",
              "</table>\n",
              "</div>\n",
              "      <button class=\"colab-df-convert\" onclick=\"convertToInteractive('df-e5a3ad57-717d-4e2e-b267-9ddf44a1e711')\"\n",
              "              title=\"Convert this dataframe to an interactive table.\"\n",
              "              style=\"display:none;\">\n",
              "        \n",
              "  <svg xmlns=\"http://www.w3.org/2000/svg\" height=\"24px\"viewBox=\"0 0 24 24\"\n",
              "       width=\"24px\">\n",
              "    <path d=\"M0 0h24v24H0V0z\" fill=\"none\"/>\n",
              "    <path d=\"M18.56 5.44l.94 2.06.94-2.06 2.06-.94-2.06-.94-.94-2.06-.94 2.06-2.06.94zm-11 1L8.5 8.5l.94-2.06 2.06-.94-2.06-.94L8.5 2.5l-.94 2.06-2.06.94zm10 10l.94 2.06.94-2.06 2.06-.94-2.06-.94-.94-2.06-.94 2.06-2.06.94z\"/><path d=\"M17.41 7.96l-1.37-1.37c-.4-.4-.92-.59-1.43-.59-.52 0-1.04.2-1.43.59L10.3 9.45l-7.72 7.72c-.78.78-.78 2.05 0 2.83L4 21.41c.39.39.9.59 1.41.59.51 0 1.02-.2 1.41-.59l7.78-7.78 2.81-2.81c.8-.78.8-2.07 0-2.86zM5.41 20L4 18.59l7.72-7.72 1.47 1.35L5.41 20z\"/>\n",
              "  </svg>\n",
              "      </button>\n",
              "      \n",
              "  <style>\n",
              "    .colab-df-container {\n",
              "      display:flex;\n",
              "      flex-wrap:wrap;\n",
              "      gap: 12px;\n",
              "    }\n",
              "\n",
              "    .colab-df-convert {\n",
              "      background-color: #E8F0FE;\n",
              "      border: none;\n",
              "      border-radius: 50%;\n",
              "      cursor: pointer;\n",
              "      display: none;\n",
              "      fill: #1967D2;\n",
              "      height: 32px;\n",
              "      padding: 0 0 0 0;\n",
              "      width: 32px;\n",
              "    }\n",
              "\n",
              "    .colab-df-convert:hover {\n",
              "      background-color: #E2EBFA;\n",
              "      box-shadow: 0px 1px 2px rgba(60, 64, 67, 0.3), 0px 1px 3px 1px rgba(60, 64, 67, 0.15);\n",
              "      fill: #174EA6;\n",
              "    }\n",
              "\n",
              "    [theme=dark] .colab-df-convert {\n",
              "      background-color: #3B4455;\n",
              "      fill: #D2E3FC;\n",
              "    }\n",
              "\n",
              "    [theme=dark] .colab-df-convert:hover {\n",
              "      background-color: #434B5C;\n",
              "      box-shadow: 0px 1px 3px 1px rgba(0, 0, 0, 0.15);\n",
              "      filter: drop-shadow(0px 1px 2px rgba(0, 0, 0, 0.3));\n",
              "      fill: #FFFFFF;\n",
              "    }\n",
              "  </style>\n",
              "\n",
              "      <script>\n",
              "        const buttonEl =\n",
              "          document.querySelector('#df-e5a3ad57-717d-4e2e-b267-9ddf44a1e711 button.colab-df-convert');\n",
              "        buttonEl.style.display =\n",
              "          google.colab.kernel.accessAllowed ? 'block' : 'none';\n",
              "\n",
              "        async function convertToInteractive(key) {\n",
              "          const element = document.querySelector('#df-e5a3ad57-717d-4e2e-b267-9ddf44a1e711');\n",
              "          const dataTable =\n",
              "            await google.colab.kernel.invokeFunction('convertToInteractive',\n",
              "                                                     [key], {});\n",
              "          if (!dataTable) return;\n",
              "\n",
              "          const docLinkHtml = 'Like what you see? Visit the ' +\n",
              "            '<a target=\"_blank\" href=https://colab.research.google.com/notebooks/data_table.ipynb>data table notebook</a>'\n",
              "            + ' to learn more about interactive tables.';\n",
              "          element.innerHTML = '';\n",
              "          dataTable['output_type'] = 'display_data';\n",
              "          await google.colab.output.renderOutput(dataTable, element);\n",
              "          const docLink = document.createElement('div');\n",
              "          docLink.innerHTML = docLinkHtml;\n",
              "          element.appendChild(docLink);\n",
              "        }\n",
              "      </script>\n",
              "    </div>\n",
              "  </div>\n",
              "  "
            ]
          },
          "metadata": {},
          "execution_count": 92
        }
      ]
    },
    {
      "cell_type": "code",
      "source": [
        "def with_hue(ax, feature, Number_of_categories, hue_categories):\n",
        "    a = [p.get_height() for p in ax.patches]\n",
        "    patch = [p for p in ax.patches]\n",
        "    for i in range(Number_of_categories):\n",
        "        total = feature.value_counts().values[i]\n",
        "        for j in range(hue_categories):\n",
        "            percentage=\"{:.1f}\".format(1 * a[(j*Number_of_categories + i)]/total)\n",
        "            x = patch[(j*Number_of_categories + i)].get_x() + patch[(j*Number_of_categories + i)].get_width() / 2 - 0.15\n",
        "            y = patch[(j*Number_of_categories + i)].get_y() + patch[(j*Number_of_categories + i)].get_height() \n",
        "            ax.annotate(percentage, (x, y), size = 9)"
      ],
      "metadata": {
        "id": "63S97ziUrteH"
      },
      "execution_count": null,
      "outputs": []
    },
    {
      "cell_type": "code",
      "source": [
        "df=pd.DataFrame(df ,columns=['Personas fallecidas','heridos hospitalizados', 'heridos no hospitalizados','ocupantes'])\n",
        "ax=df.plot(x='ocupantes', y=['Personas fallecidas','heridos hospitalizados', 'heridos no hospitalizados'], kind=\"bar\",figsize=(9,8))\n",
        "with_hue(ax, df.ocupantes, 3,3)\n",
        "plt.title('ESTADO DE PERSONAS EN ACCIDENTES DE TRAFICO')\n",
        "plt.show()"
      ],
      "metadata": {
        "colab": {
          "base_uri": "https://localhost:8080/",
          "height": 577
        },
        "id": "qUuatsoUOYyw",
        "outputId": "8836d9d3-d131-40e9-9946-4b6082fd5a57"
      },
      "execution_count": null,
      "outputs": [
        {
          "output_type": "display_data",
          "data": {
            "text/plain": [
              "<Figure size 648x576 with 1 Axes>"
            ],
            "image/png": "[encoded data removed]"
          },
          "metadata": {}
        }
      ]
    },
    {
      "cell_type": "code",
      "source": [
        "import plotly.express as px \n",
        "labels =['e','er','w']\n",
        "fig = px.pie(df, values=\"Personas fallecidas\", names=\"ocupantes\", title='PERSONAS FALLECIDAS') \n",
        "fig.show()"
      ],
      "metadata": {
        "colab": {
          "base_uri": "https://localhost:8080/",
          "height": 542
        },
        "id": "1MAjTNEYTAXO",
        "outputId": "5db36683-1e76-4364-fbe7-6310911901d8"
      },
      "execution_count": null,
      "outputs": [
        {
          "output_type": "display_data",
          "data": {
            "text/html": [
              "<html>\n",
              "<head><meta charset=\"utf-8\" /></head>\n",
              "<body>\n",
              "    <div>            <script src=\"https://cdnjs.cloudflare.com/ajax/libs/mathjax/2.7.5/MathJax.js?config=TeX-AMS-MML_SVG\"></script><script type=\"text/javascript\">if (window.MathJax) {MathJax.Hub.Config({SVG: {font: \"STIX-Web\"}});}</script>                <script type=\"text/javascript\">window.PlotlyConfig = {MathJaxConfig: 'local'};</script>\n",
              "        <script src=\"https://cdn.plot.ly/plotly-2.8.3.min.js\"></script>                <div id=\"d9589c83-4419-44b2-8c84-514643e6c5d5\" class=\"plotly-graph-div\" style=\"height:525px; width:100%;\"></div>            <script type=\"text/javascript\">                                    window.PLOTLYENV=window.PLOTLYENV || {};                                    if (document.getElementById(\"d9589c83-4419-44b2-8c84-514643e6c5d5\")) {                    Plotly.newPlot(                        \"d9589c83-4419-44b2-8c84-514643e6c5d5\",                        [{\"domain\":{\"x\":[0.0,1.0],\"y\":[0.0,1.0]},\"hovertemplate\":\"ocupantes=%{label}<br>Personas fallecidas=%{value}<extra></extra>\",\"labels\":[\"0 ocupante\",\"1 ocupante\",\"2 ocupantes\"],\"legendgroup\":\"\",\"name\":\"\",\"showlegend\":true,\"values\":[62522,819,33],\"type\":\"pie\"}],                        {\"template\":{\"data\":{\"bar\":[{\"error_x\":{\"color\":\"#2a3f5f\"},\"error_y\":{\"color\":\"#2a3f5f\"},\"marker\":{\"line\":{\"color\":\"#E5ECF6\",\"width\":0.5},\"pattern\":{\"fillmode\":\"overlay\",\"size\":10,\"solidity\":0.2}},\"type\":\"bar\"}],\"barpolar\":[{\"marker\":{\"line\":{\"color\":\"#E5ECF6\",\"width\":0.5},\"pattern\":{\"fillmode\":\"overlay\",\"size\":10,\"solidity\":0.2}},\"type\":\"barpolar\"}],\"carpet\":[{\"aaxis\":{\"endlinecolor\":\"#2a3f5f\",\"gridcolor\":\"white\",\"linecolor\":\"white\",\"minorgridcolor\":\"white\",\"startlinecolor\":\"#2a3f5f\"},\"baxis\":{\"endlinecolor\":\"#2a3f5f\",\"gridcolor\":\"white\",\"linecolor\":\"white\",\"minorgridcolor\":\"white\",\"startlinecolor\":\"#2a3f5f\"},\"type\":\"carpet\"}],\"choropleth\":[{\"colorbar\":{\"outlinewidth\":0,\"ticks\":\"\"},\"type\":\"choropleth\"}],\"contour\":[{\"colorbar\":{\"outlinewidth\":0,\"ticks\":\"\"},\"colorscale\":[[0.0,\"#0d0887\"],[0.1111111111111111,\"#46039f\"],[0.2222222222222222,\"#7201a8\"],[0.3333333333333333,\"#9c179e\"],[0.4444444444444444,\"#bd3786\"],[0.5555555555555556,\"#d8576b\"],[0.6666666666666666,\"#ed7953\"],[0.7777777777777778,\"#fb9f3a\"],[0.8888888888888888,\"#fdca26\"],[1.0,\"#f0f921\"]],\"type\":\"contour\"}],\"contourcarpet\":[{\"colorbar\":{\"outlinewidth\":0,\"ticks\":\"\"},\"type\":\"contourcarpet\"}],\"heatmap\":[{\"colorbar\":{\"outlinewidth\":0,\"ticks\":\"\"},\"colorscale\":[[0.0,\"#0d0887\"],[0.1111111111111111,\"#46039f\"],[0.2222222222222222,\"#7201a8\"],[0.3333333333333333,\"#9c179e\"],[0.4444444444444444,\"#bd3786\"],[0.5555555555555556,\"#d8576b\"],[0.6666666666666666,\"#ed7953\"],[0.7777777777777778,\"#fb9f3a\"],[0.8888888888888888,\"#fdca26\"],[1.0,\"#f0f921\"]],\"type\":\"heatmap\"}],\"heatmapgl\":[{\"colorbar\":{\"outlinewidth\":0,\"ticks\":\"\"},\"colorscale\":[[0.0,\"#0d0887\"],[0.1111111111111111,\"#46039f\"],[0.2222222222222222,\"#7201a8\"],[0.3333333333333333,\"#9c179e\"],[0.4444444444444444,\"#bd3786\"],[0.5555555555555556,\"#d8576b\"],[0.6666666666666666,\"#ed7953\"],[0.7777777777777778,\"#fb9f3a\"],[0.8888888888888888,\"#fdca26\"],[1.0,\"#f0f921\"]],\"type\":\"heatmapgl\"}],\"histogram\":[{\"marker\":{\"pattern\":{\"fillmode\":\"overlay\",\"size\":10,\"solidity\":0.2}},\"type\":\"histogram\"}],\"histogram2d\":[{\"colorbar\":{\"outlinewidth\":0,\"ticks\":\"\"},\"colorscale\":[[0.0,\"#0d0887\"],[0.1111111111111111,\"#46039f\"],[0.2222222222222222,\"#7201a8\"],[0.3333333333333333,\"#9c179e\"],[0.4444444444444444,\"#bd3786\"],[0.5555555555555556,\"#d8576b\"],[0.6666666666666666,\"#ed7953\"],[0.7777777777777778,\"#fb9f3a\"],[0.8888888888888888,\"#fdca26\"],[1.0,\"#f0f921\"]],\"type\":\"histogram2d\"}],\"histogram2dcontour\":[{\"colorbar\":{\"outlinewidth\":0,\"ticks\":\"\"},\"colorscale\":[[0.0,\"#0d0887\"],[0.1111111111111111,\"#46039f\"],[0.2222222222222222,\"#7201a8\"],[0.3333333333333333,\"#9c179e\"],[0.4444444444444444,\"#bd3786\"],[0.5555555555555556,\"#d8576b\"],[0.6666666666666666,\"#ed7953\"],[0.7777777777777778,\"#fb9f3a\"],[0.8888888888888888,\"#fdca26\"],[1.0,\"#f0f921\"]],\"type\":\"histogram2dcontour\"}],\"mesh3d\":[{\"colorbar\":{\"outlinewidth\":0,\"ticks\":\"\"},\"type\":\"mesh3d\"}],\"parcoords\":[{\"line\":{\"colorbar\":{\"outlinewidth\":0,\"ticks\":\"\"}},\"type\":\"parcoords\"}],\"pie\":[{\"automargin\":true,\"type\":\"pie\"}],\"scatter\":[{\"marker\":{\"colorbar\":{\"outlinewidth\":0,\"ticks\":\"\"}},\"type\":\"scatter\"}],\"scatter3d\":[{\"line\":{\"colorbar\":{\"outlinewidth\":0,\"ticks\":\"\"}},\"marker\":{\"colorbar\":{\"outlinewidth\":0,\"ticks\":\"\"}},\"type\":\"scatter3d\"}],\"scattercarpet\":[{\"marker\":{\"colorbar\":{\"outlinewidth\":0,\"ticks\":\"\"}},\"type\":\"scattercarpet\"}],\"scattergeo\":[{\"marker\":{\"colorbar\":{\"outlinewidth\":0,\"ticks\":\"\"}},\"type\":\"scattergeo\"}],\"scattergl\":[{\"marker\":{\"colorbar\":{\"outlinewidth\":0,\"ticks\":\"\"}},\"type\":\"scattergl\"}],\"scattermapbox\":[{\"marker\":{\"colorbar\":{\"outlinewidth\":0,\"ticks\":\"\"}},\"type\":\"scattermapbox\"}],\"scatterpolar\":[{\"marker\":{\"colorbar\":{\"outlinewidth\":0,\"ticks\":\"\"}},\"type\":\"scatterpolar\"}],\"scatterpolargl\":[{\"marker\":{\"colorbar\":{\"outlinewidth\":0,\"ticks\":\"\"}},\"type\":\"scatterpolargl\"}],\"scatterternary\":[{\"marker\":{\"colorbar\":{\"outlinewidth\":0,\"ticks\":\"\"}},\"type\":\"scatterternary\"}],\"surface\":[{\"colorbar\":{\"outlinewidth\":0,\"ticks\":\"\"},\"colorscale\":[[0.0,\"#0d0887\"],[0.1111111111111111,\"#46039f\"],[0.2222222222222222,\"#7201a8\"],[0.3333333333333333,\"#9c179e\"],[0.4444444444444444,\"#bd3786\"],[0.5555555555555556,\"#d8576b\"],[0.6666666666666666,\"#ed7953\"],[0.7777777777777778,\"#fb9f3a\"],[0.8888888888888888,\"#fdca26\"],[1.0,\"#f0f921\"]],\"type\":\"surface\"}],\"table\":[{\"cells\":{\"fill\":{\"color\":\"#EBF0F8\"},\"line\":{\"color\":\"white\"}},\"header\":{\"fill\":{\"color\":\"#C8D4E3\"},\"line\":{\"color\":\"white\"}},\"type\":\"table\"}]},\"layout\":{\"annotationdefaults\":{\"arrowcolor\":\"#2a3f5f\",\"arrowhead\":0,\"arrowwidth\":1},\"autotypenumbers\":\"strict\",\"coloraxis\":{\"colorbar\":{\"outlinewidth\":0,\"ticks\":\"\"}},\"colorscale\":{\"diverging\":[[0,\"#8e0152\"],[0.1,\"#c51b7d\"],[0.2,\"#de77ae\"],[0.3,\"#f1b6da\"],[0.4,\"#fde0ef\"],[0.5,\"#f7f7f7\"],[0.6,\"#e6f5d0\"],[0.7,\"#b8e186\"],[0.8,\"#7fbc41\"],[0.9,\"#4d9221\"],[1,\"#276419\"]],\"sequential\":[[0.0,\"#0d0887\"],[0.1111111111111111,\"#46039f\"],[0.2222222222222222,\"#7201a8\"],[0.3333333333333333,\"#9c179e\"],[0.4444444444444444,\"#bd3786\"],[0.5555555555555556,\"#d8576b\"],[0.6666666666666666,\"#ed7953\"],[0.7777777777777778,\"#fb9f3a\"],[0.8888888888888888,\"#fdca26\"],[1.0,\"#f0f921\"]],\"sequentialminus\":[[0.0,\"#0d0887\"],[0.1111111111111111,\"#46039f\"],[0.2222222222222222,\"#7201a8\"],[0.3333333333333333,\"#9c179e\"],[0.4444444444444444,\"#bd3786\"],[0.5555555555555556,\"#d8576b\"],[0.6666666666666666,\"#ed7953\"],[0.7777777777777778,\"#fb9f3a\"],[0.8888888888888888,\"#fdca26\"],[1.0,\"#f0f921\"]]},\"colorway\":[\"#636efa\",\"#EF553B\",\"#00cc96\",\"#ab63fa\",\"#FFA15A\",\"#19d3f3\",\"#FF6692\",\"#B6E880\",\"#FF97FF\",\"#FECB52\"],\"font\":{\"color\":\"#2a3f5f\"},\"geo\":{\"bgcolor\":\"white\",\"lakecolor\":\"white\",\"landcolor\":\"#E5ECF6\",\"showlakes\":true,\"showland\":true,\"subunitcolor\":\"white\"},\"hoverlabel\":{\"align\":\"left\"},\"hovermode\":\"closest\",\"mapbox\":{\"style\":\"light\"},\"paper_bgcolor\":\"white\",\"plot_bgcolor\":\"#E5ECF6\",\"polar\":{\"angularaxis\":{\"gridcolor\":\"white\",\"linecolor\":\"white\",\"ticks\":\"\"},\"bgcolor\":\"#E5ECF6\",\"radialaxis\":{\"gridcolor\":\"white\",\"linecolor\":\"white\",\"ticks\":\"\"}},\"scene\":{\"xaxis\":{\"backgroundcolor\":\"#E5ECF6\",\"gridcolor\":\"white\",\"gridwidth\":2,\"linecolor\":\"white\",\"showbackground\":true,\"ticks\":\"\",\"zerolinecolor\":\"white\"},\"yaxis\":{\"backgroundcolor\":\"#E5ECF6\",\"gridcolor\":\"white\",\"gridwidth\":2,\"linecolor\":\"white\",\"showbackground\":true,\"ticks\":\"\",\"zerolinecolor\":\"white\"},\"zaxis\":{\"backgroundcolor\":\"#E5ECF6\",\"gridcolor\":\"white\",\"gridwidth\":2,\"linecolor\":\"white\",\"showbackground\":true,\"ticks\":\"\",\"zerolinecolor\":\"white\"}},\"shapedefaults\":{\"line\":{\"color\":\"#2a3f5f\"}},\"ternary\":{\"aaxis\":{\"gridcolor\":\"white\",\"linecolor\":\"white\",\"ticks\":\"\"},\"baxis\":{\"gridcolor\":\"white\",\"linecolor\":\"white\",\"ticks\":\"\"},\"bgcolor\":\"#E5ECF6\",\"caxis\":{\"gridcolor\":\"white\",\"linecolor\":\"white\",\"ticks\":\"\"}},\"title\":{\"x\":0.05},\"xaxis\":{\"automargin\":true,\"gridcolor\":\"white\",\"linecolor\":\"white\",\"ticks\":\"\",\"title\":{\"standoff\":15},\"zerolinecolor\":\"white\",\"zerolinewidth\":2},\"yaxis\":{\"automargin\":true,\"gridcolor\":\"white\",\"linecolor\":\"white\",\"ticks\":\"\",\"title\":{\"standoff\":15},\"zerolinecolor\":\"white\",\"zerolinewidth\":2}}},\"legend\":{\"tracegroupgap\":0},\"title\":{\"text\":\"PERSONAS FALLECIDAS\"}},                        {\"responsive\": true}                    ).then(function(){\n",
              "                            \n",
              "var gd = document.getElementById('d9589c83-4419-44b2-8c84-514643e6c5d5');\n",
              "var x = new MutationObserver(function (mutations, observer) {{\n",
              "        var display = window.getComputedStyle(gd).display;\n",
              "        if (!display || display === 'none') {{\n",
              "            console.log([gd, 'removed!']);\n",
              "            Plotly.purge(gd);\n",
              "            observer.disconnect();\n",
              "        }}\n",
              "}});\n",
              "\n",
              "// Listen for the removal of the full notebook cells\n",
              "var notebookContainer = gd.closest('#notebook-container');\n",
              "if (notebookContainer) {{\n",
              "    x.observe(notebookContainer, {childList: true});\n",
              "}}\n",
              "\n",
              "// Listen for the clearing of the current output cell\n",
              "var outputEl = gd.closest('.output');\n",
              "if (outputEl) {{\n",
              "    x.observe(outputEl, {childList: true});\n",
              "}}\n",
              "\n",
              "                        })                };                            </script>        </div>\n",
              "</body>\n",
              "</html>"
            ]
          },
          "metadata": {}
        }
      ]
    },
    {
      "cell_type": "code",
      "source": [
        "import plotly.express as px \n",
        "fig = px.pie(df, values=\"heridos hospitalizados\", names=\"ocupantes\", title='HERIDOS HOSPITALIZADOS') \n",
        "fig.show()"
      ],
      "metadata": {
        "colab": {
          "base_uri": "https://localhost:8080/",
          "height": 542
        },
        "id": "eq49teCas7po",
        "outputId": "5f8b1109-a35b-4af9-cac4-ea06362c713c"
      },
      "execution_count": null,
      "outputs": [
        {
          "output_type": "display_data",
          "data": {
            "text/html": [
              "<html>\n",
              "<head><meta charset=\"utf-8\" /></head>\n",
              "<body>\n",
              "    <div>            <script src=\"https://cdnjs.cloudflare.com/ajax/libs/mathjax/2.7.5/MathJax.js?config=TeX-AMS-MML_SVG\"></script><script type=\"text/javascript\">if (window.MathJax) {MathJax.Hub.Config({SVG: {font: \"STIX-Web\"}});}</script>                <script type=\"text/javascript\">window.PlotlyConfig = {MathJaxConfig: 'local'};</script>\n",
              "        <script src=\"https://cdn.plot.ly/plotly-2.8.3.min.js\"></script>                <div id=\"729acf2e-c66e-459c-92f0-3ba4a9643742\" class=\"plotly-graph-div\" style=\"height:525px; width:100%;\"></div>            <script type=\"text/javascript\">                                    window.PLOTLYENV=window.PLOTLYENV || {};                                    if (document.getElementById(\"729acf2e-c66e-459c-92f0-3ba4a9643742\")) {                    Plotly.newPlot(                        \"729acf2e-c66e-459c-92f0-3ba4a9643742\",                        [{\"domain\":{\"x\":[0.0,1.0],\"y\":[0.0,1.0]},\"hovertemplate\":\"ocupantes=%{label}<br>heridos hospitalizados=%{value}<extra></extra>\",\"labels\":[\"0 ocupante\",\"1 ocupante\",\"2 ocupantes\"],\"legendgroup\":\"\",\"name\":\"\",\"showlegend\":true,\"values\":[58576,4499,271],\"type\":\"pie\"}],                        {\"template\":{\"data\":{\"bar\":[{\"error_x\":{\"color\":\"#2a3f5f\"},\"error_y\":{\"color\":\"#2a3f5f\"},\"marker\":{\"line\":{\"color\":\"#E5ECF6\",\"width\":0.5},\"pattern\":{\"fillmode\":\"overlay\",\"size\":10,\"solidity\":0.2}},\"type\":\"bar\"}],\"barpolar\":[{\"marker\":{\"line\":{\"color\":\"#E5ECF6\",\"width\":0.5},\"pattern\":{\"fillmode\":\"overlay\",\"size\":10,\"solidity\":0.2}},\"type\":\"barpolar\"}],\"carpet\":[{\"aaxis\":{\"endlinecolor\":\"#2a3f5f\",\"gridcolor\":\"white\",\"linecolor\":\"white\",\"minorgridcolor\":\"white\",\"startlinecolor\":\"#2a3f5f\"},\"baxis\":{\"endlinecolor\":\"#2a3f5f\",\"gridcolor\":\"white\",\"linecolor\":\"white\",\"minorgridcolor\":\"white\",\"startlinecolor\":\"#2a3f5f\"},\"type\":\"carpet\"}],\"choropleth\":[{\"colorbar\":{\"outlinewidth\":0,\"ticks\":\"\"},\"type\":\"choropleth\"}],\"contour\":[{\"colorbar\":{\"outlinewidth\":0,\"ticks\":\"\"},\"colorscale\":[[0.0,\"#0d0887\"],[0.1111111111111111,\"#46039f\"],[0.2222222222222222,\"#7201a8\"],[0.3333333333333333,\"#9c179e\"],[0.4444444444444444,\"#bd3786\"],[0.5555555555555556,\"#d8576b\"],[0.6666666666666666,\"#ed7953\"],[0.7777777777777778,\"#fb9f3a\"],[0.8888888888888888,\"#fdca26\"],[1.0,\"#f0f921\"]],\"type\":\"contour\"}],\"contourcarpet\":[{\"colorbar\":{\"outlinewidth\":0,\"ticks\":\"\"},\"type\":\"contourcarpet\"}],\"heatmap\":[{\"colorbar\":{\"outlinewidth\":0,\"ticks\":\"\"},\"colorscale\":[[0.0,\"#0d0887\"],[0.1111111111111111,\"#46039f\"],[0.2222222222222222,\"#7201a8\"],[0.3333333333333333,\"#9c179e\"],[0.4444444444444444,\"#bd3786\"],[0.5555555555555556,\"#d8576b\"],[0.6666666666666666,\"#ed7953\"],[0.7777777777777778,\"#fb9f3a\"],[0.8888888888888888,\"#fdca26\"],[1.0,\"#f0f921\"]],\"type\":\"heatmap\"}],\"heatmapgl\":[{\"colorbar\":{\"outlinewidth\":0,\"ticks\":\"\"},\"colorscale\":[[0.0,\"#0d0887\"],[0.1111111111111111,\"#46039f\"],[0.2222222222222222,\"#7201a8\"],[0.3333333333333333,\"#9c179e\"],[0.4444444444444444,\"#bd3786\"],[0.5555555555555556,\"#d8576b\"],[0.6666666666666666,\"#ed7953\"],[0.7777777777777778,\"#fb9f3a\"],[0.8888888888888888,\"#fdca26\"],[1.0,\"#f0f921\"]],\"type\":\"heatmapgl\"}],\"histogram\":[{\"marker\":{\"pattern\":{\"fillmode\":\"overlay\",\"size\":10,\"solidity\":0.2}},\"type\":\"histogram\"}],\"histogram2d\":[{\"colorbar\":{\"outlinewidth\":0,\"ticks\":\"\"},\"colorscale\":[[0.0,\"#0d0887\"],[0.1111111111111111,\"#46039f\"],[0.2222222222222222,\"#7201a8\"],[0.3333333333333333,\"#9c179e\"],[0.4444444444444444,\"#bd3786\"],[0.5555555555555556,\"#d8576b\"],[0.6666666666666666,\"#ed7953\"],[0.7777777777777778,\"#fb9f3a\"],[0.8888888888888888,\"#fdca26\"],[1.0,\"#f0f921\"]],\"type\":\"histogram2d\"}],\"histogram2dcontour\":[{\"colorbar\":{\"outlinewidth\":0,\"ticks\":\"\"},\"colorscale\":[[0.0,\"#0d0887\"],[0.1111111111111111,\"#46039f\"],[0.2222222222222222,\"#7201a8\"],[0.3333333333333333,\"#9c179e\"],[0.4444444444444444,\"#bd3786\"],[0.5555555555555556,\"#d8576b\"],[0.6666666666666666,\"#ed7953\"],[0.7777777777777778,\"#fb9f3a\"],[0.8888888888888888,\"#fdca26\"],[1.0,\"#f0f921\"]],\"type\":\"histogram2dcontour\"}],\"mesh3d\":[{\"colorbar\":{\"outlinewidth\":0,\"ticks\":\"\"},\"type\":\"mesh3d\"}],\"parcoords\":[{\"line\":{\"colorbar\":{\"outlinewidth\":0,\"ticks\":\"\"}},\"type\":\"parcoords\"}],\"pie\":[{\"automargin\":true,\"type\":\"pie\"}],\"scatter\":[{\"marker\":{\"colorbar\":{\"outlinewidth\":0,\"ticks\":\"\"}},\"type\":\"scatter\"}],\"scatter3d\":[{\"line\":{\"colorbar\":{\"outlinewidth\":0,\"ticks\":\"\"}},\"marker\":{\"colorbar\":{\"outlinewidth\":0,\"ticks\":\"\"}},\"type\":\"scatter3d\"}],\"scattercarpet\":[{\"marker\":{\"colorbar\":{\"outlinewidth\":0,\"ticks\":\"\"}},\"type\":\"scattercarpet\"}],\"scattergeo\":[{\"marker\":{\"colorbar\":{\"outlinewidth\":0,\"ticks\":\"\"}},\"type\":\"scattergeo\"}],\"scattergl\":[{\"marker\":{\"colorbar\":{\"outlinewidth\":0,\"ticks\":\"\"}},\"type\":\"scattergl\"}],\"scattermapbox\":[{\"marker\":{\"colorbar\":{\"outlinewidth\":0,\"ticks\":\"\"}},\"type\":\"scattermapbox\"}],\"scatterpolar\":[{\"marker\":{\"colorbar\":{\"outlinewidth\":0,\"ticks\":\"\"}},\"type\":\"scatterpolar\"}],\"scatterpolargl\":[{\"marker\":{\"colorbar\":{\"outlinewidth\":0,\"ticks\":\"\"}},\"type\":\"scatterpolargl\"}],\"scatterternary\":[{\"marker\":{\"colorbar\":{\"outlinewidth\":0,\"ticks\":\"\"}},\"type\":\"scatterternary\"}],\"surface\":[{\"colorbar\":{\"outlinewidth\":0,\"ticks\":\"\"},\"colorscale\":[[0.0,\"#0d0887\"],[0.1111111111111111,\"#46039f\"],[0.2222222222222222,\"#7201a8\"],[0.3333333333333333,\"#9c179e\"],[0.4444444444444444,\"#bd3786\"],[0.5555555555555556,\"#d8576b\"],[0.6666666666666666,\"#ed7953\"],[0.7777777777777778,\"#fb9f3a\"],[0.8888888888888888,\"#fdca26\"],[1.0,\"#f0f921\"]],\"type\":\"surface\"}],\"table\":[{\"cells\":{\"fill\":{\"color\":\"#EBF0F8\"},\"line\":{\"color\":\"white\"}},\"header\":{\"fill\":{\"color\":\"#C8D4E3\"},\"line\":{\"color\":\"white\"}},\"type\":\"table\"}]},\"layout\":{\"annotationdefaults\":{\"arrowcolor\":\"#2a3f5f\",\"arrowhead\":0,\"arrowwidth\":1},\"autotypenumbers\":\"strict\",\"coloraxis\":{\"colorbar\":{\"outlinewidth\":0,\"ticks\":\"\"}},\"colorscale\":{\"diverging\":[[0,\"#8e0152\"],[0.1,\"#c51b7d\"],[0.2,\"#de77ae\"],[0.3,\"#f1b6da\"],[0.4,\"#fde0ef\"],[0.5,\"#f7f7f7\"],[0.6,\"#e6f5d0\"],[0.7,\"#b8e186\"],[0.8,\"#7fbc41\"],[0.9,\"#4d9221\"],[1,\"#276419\"]],\"sequential\":[[0.0,\"#0d0887\"],[0.1111111111111111,\"#46039f\"],[0.2222222222222222,\"#7201a8\"],[0.3333333333333333,\"#9c179e\"],[0.4444444444444444,\"#bd3786\"],[0.5555555555555556,\"#d8576b\"],[0.6666666666666666,\"#ed7953\"],[0.7777777777777778,\"#fb9f3a\"],[0.8888888888888888,\"#fdca26\"],[1.0,\"#f0f921\"]],\"sequentialminus\":[[0.0,\"#0d0887\"],[0.1111111111111111,\"#46039f\"],[0.2222222222222222,\"#7201a8\"],[0.3333333333333333,\"#9c179e\"],[0.4444444444444444,\"#bd3786\"],[0.5555555555555556,\"#d8576b\"],[0.6666666666666666,\"#ed7953\"],[0.7777777777777778,\"#fb9f3a\"],[0.8888888888888888,\"#fdca26\"],[1.0,\"#f0f921\"]]},\"colorway\":[\"#636efa\",\"#EF553B\",\"#00cc96\",\"#ab63fa\",\"#FFA15A\",\"#19d3f3\",\"#FF6692\",\"#B6E880\",\"#FF97FF\",\"#FECB52\"],\"font\":{\"color\":\"#2a3f5f\"},\"geo\":{\"bgcolor\":\"white\",\"lakecolor\":\"white\",\"landcolor\":\"#E5ECF6\",\"showlakes\":true,\"showland\":true,\"subunitcolor\":\"white\"},\"hoverlabel\":{\"align\":\"left\"},\"hovermode\":\"closest\",\"mapbox\":{\"style\":\"light\"},\"paper_bgcolor\":\"white\",\"plot_bgcolor\":\"#E5ECF6\",\"polar\":{\"angularaxis\":{\"gridcolor\":\"white\",\"linecolor\":\"white\",\"ticks\":\"\"},\"bgcolor\":\"#E5ECF6\",\"radialaxis\":{\"gridcolor\":\"white\",\"linecolor\":\"white\",\"ticks\":\"\"}},\"scene\":{\"xaxis\":{\"backgroundcolor\":\"#E5ECF6\",\"gridcolor\":\"white\",\"gridwidth\":2,\"linecolor\":\"white\",\"showbackground\":true,\"ticks\":\"\",\"zerolinecolor\":\"white\"},\"yaxis\":{\"backgroundcolor\":\"#E5ECF6\",\"gridcolor\":\"white\",\"gridwidth\":2,\"linecolor\":\"white\",\"showbackground\":true,\"ticks\":\"\",\"zerolinecolor\":\"white\"},\"zaxis\":{\"backgroundcolor\":\"#E5ECF6\",\"gridcolor\":\"white\",\"gridwidth\":2,\"linecolor\":\"white\",\"showbackground\":true,\"ticks\":\"\",\"zerolinecolor\":\"white\"}},\"shapedefaults\":{\"line\":{\"color\":\"#2a3f5f\"}},\"ternary\":{\"aaxis\":{\"gridcolor\":\"white\",\"linecolor\":\"white\",\"ticks\":\"\"},\"baxis\":{\"gridcolor\":\"white\",\"linecolor\":\"white\",\"ticks\":\"\"},\"bgcolor\":\"#E5ECF6\",\"caxis\":{\"gridcolor\":\"white\",\"linecolor\":\"white\",\"ticks\":\"\"}},\"title\":{\"x\":0.05},\"xaxis\":{\"automargin\":true,\"gridcolor\":\"white\",\"linecolor\":\"white\",\"ticks\":\"\",\"title\":{\"standoff\":15},\"zerolinecolor\":\"white\",\"zerolinewidth\":2},\"yaxis\":{\"automargin\":true,\"gridcolor\":\"white\",\"linecolor\":\"white\",\"ticks\":\"\",\"title\":{\"standoff\":15},\"zerolinecolor\":\"white\",\"zerolinewidth\":2}}},\"legend\":{\"tracegroupgap\":0},\"title\":{\"text\":\"HERIDOS HOSPITALIZADOS\"}},                        {\"responsive\": true}                    ).then(function(){\n",
              "                            \n",
              "var gd = document.getElementById('729acf2e-c66e-459c-92f0-3ba4a9643742');\n",
              "var x = new MutationObserver(function (mutations, observer) {{\n",
              "        var display = window.getComputedStyle(gd).display;\n",
              "        if (!display || display === 'none') {{\n",
              "            console.log([gd, 'removed!']);\n",
              "            Plotly.purge(gd);\n",
              "            observer.disconnect();\n",
              "        }}\n",
              "}});\n",
              "\n",
              "// Listen for the removal of the full notebook cells\n",
              "var notebookContainer = gd.closest('#notebook-container');\n",
              "if (notebookContainer) {{\n",
              "    x.observe(notebookContainer, {childList: true});\n",
              "}}\n",
              "\n",
              "// Listen for the clearing of the current output cell\n",
              "var outputEl = gd.closest('.output');\n",
              "if (outputEl) {{\n",
              "    x.observe(outputEl, {childList: true});\n",
              "}}\n",
              "\n",
              "                        })                };                            </script>        </div>\n",
              "</body>\n",
              "</html>"
            ]
          },
          "metadata": {}
        }
      ]
    },
    {
      "cell_type": "code",
      "source": [
        "\n",
        "import plotly.express as px \n",
        "fig = px.pie(df, values=\"heridos no hospitalizados\", names=\"ocupantes\", title='HERIDOS NO HOSPITALIZADOS') \n",
        "fig.show()"
      ],
      "metadata": {
        "colab": {
          "base_uri": "https://localhost:8080/",
          "height": 542
        },
        "id": "42PMgEJptEyM",
        "outputId": "bd24e365-d9e0-4b34-cc95-0d6413b52c0c"
      },
      "execution_count": null,
      "outputs": [
        {
          "output_type": "display_data",
          "data": {
            "text/html": [
              "<html>\n",
              "<head><meta charset=\"utf-8\" /></head>\n",
              "<body>\n",
              "    <div>            <script src=\"https://cdnjs.cloudflare.com/ajax/libs/mathjax/2.7.5/MathJax.js?config=TeX-AMS-MML_SVG\"></script><script type=\"text/javascript\">if (window.MathJax) {MathJax.Hub.Config({SVG: {font: \"STIX-Web\"}});}</script>                <script type=\"text/javascript\">window.PlotlyConfig = {MathJaxConfig: 'local'};</script>\n",
              "        <script src=\"https://cdn.plot.ly/plotly-2.8.3.min.js\"></script>                <div id=\"670061cd-f556-46b5-b1f5-46cc1dc1242f\" class=\"plotly-graph-div\" style=\"height:525px; width:100%;\"></div>            <script type=\"text/javascript\">                                    window.PLOTLYENV=window.PLOTLYENV || {};                                    if (document.getElementById(\"670061cd-f556-46b5-b1f5-46cc1dc1242f\")) {                    Plotly.newPlot(                        \"670061cd-f556-46b5-b1f5-46cc1dc1242f\",                        [{\"domain\":{\"x\":[0.0,1.0],\"y\":[0.0,1.0]},\"hovertemplate\":\"ocupantes=%{label}<br>heridos no hospitalizados=%{value}<extra></extra>\",\"labels\":[\"0 ocupante\",\"1 ocupante\",\"2 ocupantes\"],\"legendgroup\":\"\",\"name\":\"\",\"showlegend\":true,\"values\":[4414,47017,8487],\"type\":\"pie\"}],                        {\"template\":{\"data\":{\"bar\":[{\"error_x\":{\"color\":\"#2a3f5f\"},\"error_y\":{\"color\":\"#2a3f5f\"},\"marker\":{\"line\":{\"color\":\"#E5ECF6\",\"width\":0.5},\"pattern\":{\"fillmode\":\"overlay\",\"size\":10,\"solidity\":0.2}},\"type\":\"bar\"}],\"barpolar\":[{\"marker\":{\"line\":{\"color\":\"#E5ECF6\",\"width\":0.5},\"pattern\":{\"fillmode\":\"overlay\",\"size\":10,\"solidity\":0.2}},\"type\":\"barpolar\"}],\"carpet\":[{\"aaxis\":{\"endlinecolor\":\"#2a3f5f\",\"gridcolor\":\"white\",\"linecolor\":\"white\",\"minorgridcolor\":\"white\",\"startlinecolor\":\"#2a3f5f\"},\"baxis\":{\"endlinecolor\":\"#2a3f5f\",\"gridcolor\":\"white\",\"linecolor\":\"white\",\"minorgridcolor\":\"white\",\"startlinecolor\":\"#2a3f5f\"},\"type\":\"carpet\"}],\"choropleth\":[{\"colorbar\":{\"outlinewidth\":0,\"ticks\":\"\"},\"type\":\"choropleth\"}],\"contour\":[{\"colorbar\":{\"outlinewidth\":0,\"ticks\":\"\"},\"colorscale\":[[0.0,\"#0d0887\"],[0.1111111111111111,\"#46039f\"],[0.2222222222222222,\"#7201a8\"],[0.3333333333333333,\"#9c179e\"],[0.4444444444444444,\"#bd3786\"],[0.5555555555555556,\"#d8576b\"],[0.6666666666666666,\"#ed7953\"],[0.7777777777777778,\"#fb9f3a\"],[0.8888888888888888,\"#fdca26\"],[1.0,\"#f0f921\"]],\"type\":\"contour\"}],\"contourcarpet\":[{\"colorbar\":{\"outlinewidth\":0,\"ticks\":\"\"},\"type\":\"contourcarpet\"}],\"heatmap\":[{\"colorbar\":{\"outlinewidth\":0,\"ticks\":\"\"},\"colorscale\":[[0.0,\"#0d0887\"],[0.1111111111111111,\"#46039f\"],[0.2222222222222222,\"#7201a8\"],[0.3333333333333333,\"#9c179e\"],[0.4444444444444444,\"#bd3786\"],[0.5555555555555556,\"#d8576b\"],[0.6666666666666666,\"#ed7953\"],[0.7777777777777778,\"#fb9f3a\"],[0.8888888888888888,\"#fdca26\"],[1.0,\"#f0f921\"]],\"type\":\"heatmap\"}],\"heatmapgl\":[{\"colorbar\":{\"outlinewidth\":0,\"ticks\":\"\"},\"colorscale\":[[0.0,\"#0d0887\"],[0.1111111111111111,\"#46039f\"],[0.2222222222222222,\"#7201a8\"],[0.3333333333333333,\"#9c179e\"],[0.4444444444444444,\"#bd3786\"],[0.5555555555555556,\"#d8576b\"],[0.6666666666666666,\"#ed7953\"],[0.7777777777777778,\"#fb9f3a\"],[0.8888888888888888,\"#fdca26\"],[1.0,\"#f0f921\"]],\"type\":\"heatmapgl\"}],\"histogram\":[{\"marker\":{\"pattern\":{\"fillmode\":\"overlay\",\"size\":10,\"solidity\":0.2}},\"type\":\"histogram\"}],\"histogram2d\":[{\"colorbar\":{\"outlinewidth\":0,\"ticks\":\"\"},\"colorscale\":[[0.0,\"#0d0887\"],[0.1111111111111111,\"#46039f\"],[0.2222222222222222,\"#7201a8\"],[0.3333333333333333,\"#9c179e\"],[0.4444444444444444,\"#bd3786\"],[0.5555555555555556,\"#d8576b\"],[0.6666666666666666,\"#ed7953\"],[0.7777777777777778,\"#fb9f3a\"],[0.8888888888888888,\"#fdca26\"],[1.0,\"#f0f921\"]],\"type\":\"histogram2d\"}],\"histogram2dcontour\":[{\"colorbar\":{\"outlinewidth\":0,\"ticks\":\"\"},\"colorscale\":[[0.0,\"#0d0887\"],[0.1111111111111111,\"#46039f\"],[0.2222222222222222,\"#7201a8\"],[0.3333333333333333,\"#9c179e\"],[0.4444444444444444,\"#bd3786\"],[0.5555555555555556,\"#d8576b\"],[0.6666666666666666,\"#ed7953\"],[0.7777777777777778,\"#fb9f3a\"],[0.8888888888888888,\"#fdca26\"],[1.0,\"#f0f921\"]],\"type\":\"histogram2dcontour\"}],\"mesh3d\":[{\"colorbar\":{\"outlinewidth\":0,\"ticks\":\"\"},\"type\":\"mesh3d\"}],\"parcoords\":[{\"line\":{\"colorbar\":{\"outlinewidth\":0,\"ticks\":\"\"}},\"type\":\"parcoords\"}],\"pie\":[{\"automargin\":true,\"type\":\"pie\"}],\"scatter\":[{\"marker\":{\"colorbar\":{\"outlinewidth\":0,\"ticks\":\"\"}},\"type\":\"scatter\"}],\"scatter3d\":[{\"line\":{\"colorbar\":{\"outlinewidth\":0,\"ticks\":\"\"}},\"marker\":{\"colorbar\":{\"outlinewidth\":0,\"ticks\":\"\"}},\"type\":\"scatter3d\"}],\"scattercarpet\":[{\"marker\":{\"colorbar\":{\"outlinewidth\":0,\"ticks\":\"\"}},\"type\":\"scattercarpet\"}],\"scattergeo\":[{\"marker\":{\"colorbar\":{\"outlinewidth\":0,\"ticks\":\"\"}},\"type\":\"scattergeo\"}],\"scattergl\":[{\"marker\":{\"colorbar\":{\"outlinewidth\":0,\"ticks\":\"\"}},\"type\":\"scattergl\"}],\"scattermapbox\":[{\"marker\":{\"colorbar\":{\"outlinewidth\":0,\"ticks\":\"\"}},\"type\":\"scattermapbox\"}],\"scatterpolar\":[{\"marker\":{\"colorbar\":{\"outlinewidth\":0,\"ticks\":\"\"}},\"type\":\"scatterpolar\"}],\"scatterpolargl\":[{\"marker\":{\"colorbar\":{\"outlinewidth\":0,\"ticks\":\"\"}},\"type\":\"scatterpolargl\"}],\"scatterternary\":[{\"marker\":{\"colorbar\":{\"outlinewidth\":0,\"ticks\":\"\"}},\"type\":\"scatterternary\"}],\"surface\":[{\"colorbar\":{\"outlinewidth\":0,\"ticks\":\"\"},\"colorscale\":[[0.0,\"#0d0887\"],[0.1111111111111111,\"#46039f\"],[0.2222222222222222,\"#7201a8\"],[0.3333333333333333,\"#9c179e\"],[0.4444444444444444,\"#bd3786\"],[0.5555555555555556,\"#d8576b\"],[0.6666666666666666,\"#ed7953\"],[0.7777777777777778,\"#fb9f3a\"],[0.8888888888888888,\"#fdca26\"],[1.0,\"#f0f921\"]],\"type\":\"surface\"}],\"table\":[{\"cells\":{\"fill\":{\"color\":\"#EBF0F8\"},\"line\":{\"color\":\"white\"}},\"header\":{\"fill\":{\"color\":\"#C8D4E3\"},\"line\":{\"color\":\"white\"}},\"type\":\"table\"}]},\"layout\":{\"annotationdefaults\":{\"arrowcolor\":\"#2a3f5f\",\"arrowhead\":0,\"arrowwidth\":1},\"autotypenumbers\":\"strict\",\"coloraxis\":{\"colorbar\":{\"outlinewidth\":0,\"ticks\":\"\"}},\"colorscale\":{\"diverging\":[[0,\"#8e0152\"],[0.1,\"#c51b7d\"],[0.2,\"#de77ae\"],[0.3,\"#f1b6da\"],[0.4,\"#fde0ef\"],[0.5,\"#f7f7f7\"],[0.6,\"#e6f5d0\"],[0.7,\"#b8e186\"],[0.8,\"#7fbc41\"],[0.9,\"#4d9221\"],[1,\"#276419\"]],\"sequential\":[[0.0,\"#0d0887\"],[0.1111111111111111,\"#46039f\"],[0.2222222222222222,\"#7201a8\"],[0.3333333333333333,\"#9c179e\"],[0.4444444444444444,\"#bd3786\"],[0.5555555555555556,\"#d8576b\"],[0.6666666666666666,\"#ed7953\"],[0.7777777777777778,\"#fb9f3a\"],[0.8888888888888888,\"#fdca26\"],[1.0,\"#f0f921\"]],\"sequentialminus\":[[0.0,\"#0d0887\"],[0.1111111111111111,\"#46039f\"],[0.2222222222222222,\"#7201a8\"],[0.3333333333333333,\"#9c179e\"],[0.4444444444444444,\"#bd3786\"],[0.5555555555555556,\"#d8576b\"],[0.6666666666666666,\"#ed7953\"],[0.7777777777777778,\"#fb9f3a\"],[0.8888888888888888,\"#fdca26\"],[1.0,\"#f0f921\"]]},\"colorway\":[\"#636efa\",\"#EF553B\",\"#00cc96\",\"#ab63fa\",\"#FFA15A\",\"#19d3f3\",\"#FF6692\",\"#B6E880\",\"#FF97FF\",\"#FECB52\"],\"font\":{\"color\":\"#2a3f5f\"},\"geo\":{\"bgcolor\":\"white\",\"lakecolor\":\"white\",\"landcolor\":\"#E5ECF6\",\"showlakes\":true,\"showland\":true,\"subunitcolor\":\"white\"},\"hoverlabel\":{\"align\":\"left\"},\"hovermode\":\"closest\",\"mapbox\":{\"style\":\"light\"},\"paper_bgcolor\":\"white\",\"plot_bgcolor\":\"#E5ECF6\",\"polar\":{\"angularaxis\":{\"gridcolor\":\"white\",\"linecolor\":\"white\",\"ticks\":\"\"},\"bgcolor\":\"#E5ECF6\",\"radialaxis\":{\"gridcolor\":\"white\",\"linecolor\":\"white\",\"ticks\":\"\"}},\"scene\":{\"xaxis\":{\"backgroundcolor\":\"#E5ECF6\",\"gridcolor\":\"white\",\"gridwidth\":2,\"linecolor\":\"white\",\"showbackground\":true,\"ticks\":\"\",\"zerolinecolor\":\"white\"},\"yaxis\":{\"backgroundcolor\":\"#E5ECF6\",\"gridcolor\":\"white\",\"gridwidth\":2,\"linecolor\":\"white\",\"showbackground\":true,\"ticks\":\"\",\"zerolinecolor\":\"white\"},\"zaxis\":{\"backgroundcolor\":\"#E5ECF6\",\"gridcolor\":\"white\",\"gridwidth\":2,\"linecolor\":\"white\",\"showbackground\":true,\"ticks\":\"\",\"zerolinecolor\":\"white\"}},\"shapedefaults\":{\"line\":{\"color\":\"#2a3f5f\"}},\"ternary\":{\"aaxis\":{\"gridcolor\":\"white\",\"linecolor\":\"white\",\"ticks\":\"\"},\"baxis\":{\"gridcolor\":\"white\",\"linecolor\":\"white\",\"ticks\":\"\"},\"bgcolor\":\"#E5ECF6\",\"caxis\":{\"gridcolor\":\"white\",\"linecolor\":\"white\",\"ticks\":\"\"}},\"title\":{\"x\":0.05},\"xaxis\":{\"automargin\":true,\"gridcolor\":\"white\",\"linecolor\":\"white\",\"ticks\":\"\",\"title\":{\"standoff\":15},\"zerolinecolor\":\"white\",\"zerolinewidth\":2},\"yaxis\":{\"automargin\":true,\"gridcolor\":\"white\",\"linecolor\":\"white\",\"ticks\":\"\",\"title\":{\"standoff\":15},\"zerolinecolor\":\"white\",\"zerolinewidth\":2}}},\"legend\":{\"tracegroupgap\":0},\"title\":{\"text\":\"HERIDOS NO HOSPITALIZADOS\"}},                        {\"responsive\": true}                    ).then(function(){\n",
              "                            \n",
              "var gd = document.getElementById('670061cd-f556-46b5-b1f5-46cc1dc1242f');\n",
              "var x = new MutationObserver(function (mutations, observer) {{\n",
              "        var display = window.getComputedStyle(gd).display;\n",
              "        if (!display || display === 'none') {{\n",
              "            console.log([gd, 'removed!']);\n",
              "            Plotly.purge(gd);\n",
              "            observer.disconnect();\n",
              "        }}\n",
              "}});\n",
              "\n",
              "// Listen for the removal of the full notebook cells\n",
              "var notebookContainer = gd.closest('#notebook-container');\n",
              "if (notebookContainer) {{\n",
              "    x.observe(notebookContainer, {childList: true});\n",
              "}}\n",
              "\n",
              "// Listen for the clearing of the current output cell\n",
              "var outputEl = gd.closest('.output');\n",
              "if (outputEl) {{\n",
              "    x.observe(outputEl, {childList: true});\n",
              "}}\n",
              "\n",
              "                        })                };                            </script>        </div>\n",
              "</body>\n",
              "</html>"
            ]
          },
          "metadata": {}
        }
      ]
    }
  ]
}