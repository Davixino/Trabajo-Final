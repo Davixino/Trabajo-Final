{
  "nbformat": 4,
  "nbformat_minor": 0,
  "metadata": {
    "colab": {
      "name": "Análisis de datos.ipynb",
      "provenance": [],
      "collapsed_sections": [],
      "include_colab_link": true
    },
    "kernelspec": {
      "name": "python3",
      "display_name": "Python 3"
    },
    "language_info": {
      "name": "python"
    },
    "accelerator": "GPU"
  },
  "cells": [
    {
      "cell_type": "markdown",
      "metadata": {
        "id": "view-in-github",
        "colab_type": "text"
      },
      "source": [
        "<a href=\"https://colab.research.google.com/github/Davixino/Trabajo-Final/blob/main/An%C3%A1lisis_de_datos.ipynb\" target=\"_parent\"><img src=\"https://colab.research.google.com/assets/colab-badge.svg\" alt=\"Open In Colab\"/></a>"
      ]
    },
    {
      "cell_type": "markdown",
      "source": [
        "# TFM - Análisis de datos\n",
        "\n",
        "\n",
        "\n",
        "\n",
        "\n",
        "**NOMBRE**: Ronald Jiménez"
      ],
      "metadata": {
        "id": "gwBLR4KjRRZw"
      }
    },
    {
      "cell_type": "markdown",
      "source": [
        "##PREPROCESAMIENTO Y CALIDAD DE DATOS"
      ],
      "metadata": {
        "id": "g3wtM4xNRabe"
      }
    },
    {
      "cell_type": "markdown",
      "source": [
        "## **LIBRERIAS**"
      ],
      "metadata": {
        "id": "HtrWKpIuLkED"
      }
    },
    {
      "cell_type": "markdown",
      "source": [
        "Aplicar las librerias necesarias para el proceso de preprocesado y calidad de datos. "
      ],
      "metadata": {
        "id": "ecvwMd0FRc32"
      }
    },
    {
      "cell_type": "code",
      "execution_count": null,
      "metadata": {
        "id": "1hMum9moA-D4"
      },
      "outputs": [],
      "source": [
        "import numpy as np\n",
        "import pandas as pd\n",
        "import seaborn as sns\n",
        "import matplotlib.pyplot as plt\n",
        "import matplotlib.mlab as mlab\n",
        "import matplotlib\n",
        "%matplotlib inline\n",
        "sns.set(style='darkgrid')\n",
        "plt.rcParams['figure.figsize'] = (16, 9)\n",
        "plt.style.use('ggplot')"
      ]
    },
    {
      "cell_type": "markdown",
      "source": [
        "### ETAPA 1: INTEGRACION Y RECOPILACION DE DATOS \n"
      ],
      "metadata": {
        "id": "7FFZXEjS3_UR"
      }
    },
    {
      "cell_type": "markdown",
      "source": [
        "Importar ficheros en formato xlsx"
      ],
      "metadata": {
        "id": "dIxfDH-sRfMO"
      }
    },
    {
      "cell_type": "markdown",
      "source": [
        "LEER DATOS INICIALES"
      ],
      "metadata": {
        "id": "ifzZJlk62bYo"
      }
    },
    {
      "cell_type": "code",
      "source": [
        "df = pd.read_excel(\"Dataset.xlsx\") "
      ],
      "metadata": {
        "id": "ONGk_k-qLm8S"
      },
      "execution_count": null,
      "outputs": []
    },
    {
      "cell_type": "markdown",
      "source": [
        "LEER DATOS DE COORDENADAS DE ESPAÑA"
      ],
      "metadata": {
        "id": "No2QGYXL2eQf"
      }
    },
    {
      "cell_type": "code",
      "source": [
        "df2 = pd.read_excel(\"coordenadas.xlsx\") "
      ],
      "metadata": {
        "id": "oJB44wi6ZjDs"
      },
      "execution_count": null,
      "outputs": []
    },
    {
      "cell_type": "markdown",
      "source": [
        "Fusionar dos datasets (DATOS INICIALES DGT Y DATOS DE COORDENADAS DE ESPAÑA)"
      ],
      "metadata": {
        "id": "8UKyY48R2mU5"
      }
    },
    {
      "cell_type": "code",
      "source": [
        "df_merge = pd.merge(df, df2, left_on='COD_PROVINCIA', right_on='Codigo')"
      ],
      "metadata": {
        "id": "KgpjCkJHaLHD"
      },
      "execution_count": null,
      "outputs": []
    },
    {
      "cell_type": "markdown",
      "source": [
        "Eliminar la instancia Geo Shape que no aporta información"
      ],
      "metadata": {
        "id": "sygy3ULb4l_P"
      }
    },
    {
      "cell_type": "code",
      "source": [
        "cols_to_drop = ['Geo Shape']\n",
        "df_merge = df_merge.drop(cols_to_drop, axis=1)"
      ],
      "metadata": {
        "id": "DyaHIBDmD7TW"
      },
      "execution_count": null,
      "outputs": []
    },
    {
      "cell_type": "markdown",
      "source": [
        "LEER DATOS POSTALES DE ESPAÑA"
      ],
      "metadata": {
        "id": "9AptuABa67s1"
      }
    },
    {
      "cell_type": "code",
      "source": [
        "df_cod = pd.read_excel(\"codigos postales.xlsx\") "
      ],
      "metadata": {
        "id": "jSlmtvgJfhry"
      },
      "execution_count": null,
      "outputs": []
    },
    {
      "cell_type": "markdown",
      "source": [
        "Fusionar TRES datasets (DATOS INICIALES DGT, DATOS DE COORDENADAS Y DATOS POSTALES DE ESPAÑA)"
      ],
      "metadata": {
        "id": "5xydQv-e7C8A"
      }
    },
    {
      "cell_type": "code",
      "source": [
        "df_cod = pd.merge(df_merge, df_cod, left_on='COD_MUNICIPIO', right_on='Código Municipio')"
      ],
      "metadata": {
        "id": "T88HdL6FgM9R"
      },
      "execution_count": null,
      "outputs": []
    },
    {
      "cell_type": "markdown",
      "source": [
        "### ETAPA 2: PREPROCESAMIENTO: LIMPIEZA DE DATOS"
      ],
      "metadata": {
        "id": "8dLQ3yEA7Qgt"
      }
    },
    {
      "cell_type": "markdown",
      "source": [
        "Ejecutar el conjunto de datos recopilados "
      ],
      "metadata": {
        "id": "arqUkpsx7JHs"
      }
    },
    {
      "cell_type": "code",
      "source": [
        "from google.colab.data_table import DataTable\n",
        "DataTable.max_columns = 100\n",
        "df_cod"
      ],
      "metadata": {
        "colab": {
          "base_uri": "https://localhost:8080/",
          "height": 592
        },
        "id": "LVtdHWZnggzJ",
        "outputId": "6df84f28-998a-4206-a667-5bad843e871c"
      },
      "execution_count": null,
      "outputs": [
        {
          "output_type": "execute_result",
          "data": {
            "text/plain": [
              "       SECUENCIAL     ID_ACCIDENTE  ANYO  MES  DIA_SEMANA  HORA  \\\n",
              "0               3  202001002900213  2020    1           5    20   \n",
              "1               4  202001002900757  2020    2           6    21   \n",
              "2               5  202001002900789  2020    2           7     0   \n",
              "3               6  202001002900841  2020    2           2    17   \n",
              "4               7  202001002900957  2020    2           7    10   \n",
              "...           ...              ...   ...  ...         ...   ...   \n",
              "63379       72955  202152001000006  2020   12           1    15   \n",
              "63380       72956  202152001000007  2020   12           4     9   \n",
              "63381       72957  202152001000008  2020   12           5    17   \n",
              "63382       72958  202152001000009  2020   12           4    21   \n",
              "63383       72959  202152001000010  2020   12           3    17   \n",
              "\n",
              "       COD_PROVINCIA  COD_MUNICIPIO  ISLA  ZONA  ...  ACERA TRAZADO_PLANTA  \\\n",
              "0                  1           1002   NaN     1  ...    998              2   \n",
              "1                  1           1002   NaN     1  ...    998              3   \n",
              "2                  1           1002   NaN     1  ...    998              1   \n",
              "3                  1           1002   NaN     1  ...    998              2   \n",
              "4                  1           1002   NaN     1  ...    998              2   \n",
              "...              ...            ...   ...   ...  ...    ...            ...   \n",
              "63379             52          52001   NaN     3  ...    998            998   \n",
              "63380             52          52001   NaN     3  ...      4            998   \n",
              "63381             52          52001   NaN     3  ...      4            998   \n",
              "63382             52          52001   NaN     3  ...      4            998   \n",
              "63383             52          52001   NaN     3  ...      4            998   \n",
              "\n",
              "                          Geo Point        CCAA  Cod_CCAA  Provincia    Texto  \\\n",
              "0      42.8351264353,-2.72060346921  País Vasco        16      Araba    Álava   \n",
              "1      42.8351264353,-2.72060346921  País Vasco        16      Araba    Álava   \n",
              "2      42.8351264353,-2.72060346921  País Vasco        16      Araba    Álava   \n",
              "3      42.8351264353,-2.72060346921  País Vasco        16      Araba    Álava   \n",
              "4      42.8351264353,-2.72060346921  País Vasco        16      Araba    Álava   \n",
              "...                             ...         ...       ...        ...      ...   \n",
              "63379  35.2908279949,-2.95053552337     Melilla        19    Melilla  Melilla   \n",
              "63380  35.2908279949,-2.95053552337     Melilla        19    Melilla  Melilla   \n",
              "63381  35.2908279949,-2.95053552337     Melilla        19    Melilla  Melilla   \n",
              "63382  35.2908279949,-2.95053552337     Melilla        19    Melilla  Melilla   \n",
              "63383  35.2908279949,-2.95053552337     Melilla        19    Melilla  Melilla   \n",
              "\n",
              "      Codigo  Código Municipio  Municipio  \n",
              "0          1              1002    AMURRIO  \n",
              "1          1              1002    AMURRIO  \n",
              "2          1              1002    AMURRIO  \n",
              "3          1              1002    AMURRIO  \n",
              "4          1              1002    AMURRIO  \n",
              "...      ...               ...        ...  \n",
              "63379     52             52001    MELILLA  \n",
              "63380     52             52001    MELILLA  \n",
              "63381     52             52001    MELILLA  \n",
              "63382     52             52001    MELILLA  \n",
              "63383     52             52001    MELILLA  \n",
              "\n",
              "[63384 rows x 83 columns]"
            ],
            "text/html": [
              "\n",
              "  <div id=\"df-0ab4f2d1-4086-40b1-b0a0-7063a7de5e49\">\n",
              "    <div class=\"colab-df-container\">\n",
              "      <div>\n",
              "<style scoped>\n",
              "    .dataframe tbody tr th:only-of-type {\n",
              "        vertical-align: middle;\n",
              "    }\n",
              "\n",
              "    .dataframe tbody tr th {\n",
              "        vertical-align: top;\n",
              "    }\n",
              "\n",
              "    .dataframe thead th {\n",
              "        text-align: right;\n",
              "    }\n",
              "</style>\n",
              "<table border=\"1\" class=\"dataframe\">\n",
              "  <thead>\n",
              "    <tr style=\"text-align: right;\">\n",
              "      <th></th>\n",
              "      <th>SECUENCIAL</th>\n",
              "      <th>ID_ACCIDENTE</th>\n",
              "      <th>ANYO</th>\n",
              "      <th>MES</th>\n",
              "      <th>DIA_SEMANA</th>\n",
              "      <th>HORA</th>\n",
              "      <th>COD_PROVINCIA</th>\n",
              "      <th>COD_MUNICIPIO</th>\n",
              "      <th>ISLA</th>\n",
              "      <th>ZONA</th>\n",
              "      <th>...</th>\n",
              "      <th>ACERA</th>\n",
              "      <th>TRAZADO_PLANTA</th>\n",
              "      <th>Geo Point</th>\n",
              "      <th>CCAA</th>\n",
              "      <th>Cod_CCAA</th>\n",
              "      <th>Provincia</th>\n",
              "      <th>Texto</th>\n",
              "      <th>Codigo</th>\n",
              "      <th>Código Municipio</th>\n",
              "      <th>Municipio</th>\n",
              "    </tr>\n",
              "  </thead>\n",
              "  <tbody>\n",
              "    <tr>\n",
              "      <th>0</th>\n",
              "      <td>3</td>\n",
              "      <td>202001002900213</td>\n",
              "      <td>2020</td>\n",
              "      <td>1</td>\n",
              "      <td>5</td>\n",
              "      <td>20</td>\n",
              "      <td>1</td>\n",
              "      <td>1002</td>\n",
              "      <td>NaN</td>\n",
              "      <td>1</td>\n",
              "      <td>...</td>\n",
              "      <td>998</td>\n",
              "      <td>2</td>\n",
              "      <td>42.8351264353,-2.72060346921</td>\n",
              "      <td>País Vasco</td>\n",
              "      <td>16</td>\n",
              "      <td>Araba</td>\n",
              "      <td>Álava</td>\n",
              "      <td>1</td>\n",
              "      <td>1002</td>\n",
              "      <td>AMURRIO</td>\n",
              "    </tr>\n",
              "    <tr>\n",
              "      <th>1</th>\n",
              "      <td>4</td>\n",
              "      <td>202001002900757</td>\n",
              "      <td>2020</td>\n",
              "      <td>2</td>\n",
              "      <td>6</td>\n",
              "      <td>21</td>\n",
              "      <td>1</td>\n",
              "      <td>1002</td>\n",
              "      <td>NaN</td>\n",
              "      <td>1</td>\n",
              "      <td>...</td>\n",
              "      <td>998</td>\n",
              "      <td>3</td>\n",
              "      <td>42.8351264353,-2.72060346921</td>\n",
              "      <td>País Vasco</td>\n",
              "      <td>16</td>\n",
              "      <td>Araba</td>\n",
              "      <td>Álava</td>\n",
              "      <td>1</td>\n",
              "      <td>1002</td>\n",
              "      <td>AMURRIO</td>\n",
              "    </tr>\n",
              "    <tr>\n",
              "      <th>2</th>\n",
              "      <td>5</td>\n",
              "      <td>202001002900789</td>\n",
              "      <td>2020</td>\n",
              "      <td>2</td>\n",
              "      <td>7</td>\n",
              "      <td>0</td>\n",
              "      <td>1</td>\n",
              "      <td>1002</td>\n",
              "      <td>NaN</td>\n",
              "      <td>1</td>\n",
              "      <td>...</td>\n",
              "      <td>998</td>\n",
              "      <td>1</td>\n",
              "      <td>42.8351264353,-2.72060346921</td>\n",
              "      <td>País Vasco</td>\n",
              "      <td>16</td>\n",
              "      <td>Araba</td>\n",
              "      <td>Álava</td>\n",
              "      <td>1</td>\n",
              "      <td>1002</td>\n",
              "      <td>AMURRIO</td>\n",
              "    </tr>\n",
              "    <tr>\n",
              "      <th>3</th>\n",
              "      <td>6</td>\n",
              "      <td>202001002900841</td>\n",
              "      <td>2020</td>\n",
              "      <td>2</td>\n",
              "      <td>2</td>\n",
              "      <td>17</td>\n",
              "      <td>1</td>\n",
              "      <td>1002</td>\n",
              "      <td>NaN</td>\n",
              "      <td>1</td>\n",
              "      <td>...</td>\n",
              "      <td>998</td>\n",
              "      <td>2</td>\n",
              "      <td>42.8351264353,-2.72060346921</td>\n",
              "      <td>País Vasco</td>\n",
              "      <td>16</td>\n",
              "      <td>Araba</td>\n",
              "      <td>Álava</td>\n",
              "      <td>1</td>\n",
              "      <td>1002</td>\n",
              "      <td>AMURRIO</td>\n",
              "    </tr>\n",
              "    <tr>\n",
              "      <th>4</th>\n",
              "      <td>7</td>\n",
              "      <td>202001002900957</td>\n",
              "      <td>2020</td>\n",
              "      <td>2</td>\n",
              "      <td>7</td>\n",
              "      <td>10</td>\n",
              "      <td>1</td>\n",
              "      <td>1002</td>\n",
              "      <td>NaN</td>\n",
              "      <td>1</td>\n",
              "      <td>...</td>\n",
              "      <td>998</td>\n",
              "      <td>2</td>\n",
              "      <td>42.8351264353,-2.72060346921</td>\n",
              "      <td>País Vasco</td>\n",
              "      <td>16</td>\n",
              "      <td>Araba</td>\n",
              "      <td>Álava</td>\n",
              "      <td>1</td>\n",
              "      <td>1002</td>\n",
              "      <td>AMURRIO</td>\n",
              "    </tr>\n",
              "    <tr>\n",
              "      <th>...</th>\n",
              "      <td>...</td>\n",
              "      <td>...</td>\n",
              "      <td>...</td>\n",
              "      <td>...</td>\n",
              "      <td>...</td>\n",
              "      <td>...</td>\n",
              "      <td>...</td>\n",
              "      <td>...</td>\n",
              "      <td>...</td>\n",
              "      <td>...</td>\n",
              "      <td>...</td>\n",
              "      <td>...</td>\n",
              "      <td>...</td>\n",
              "      <td>...</td>\n",
              "      <td>...</td>\n",
              "      <td>...</td>\n",
              "      <td>...</td>\n",
              "      <td>...</td>\n",
              "      <td>...</td>\n",
              "      <td>...</td>\n",
              "      <td>...</td>\n",
              "    </tr>\n",
              "    <tr>\n",
              "      <th>63379</th>\n",
              "      <td>72955</td>\n",
              "      <td>202152001000006</td>\n",
              "      <td>2020</td>\n",
              "      <td>12</td>\n",
              "      <td>1</td>\n",
              "      <td>15</td>\n",
              "      <td>52</td>\n",
              "      <td>52001</td>\n",
              "      <td>NaN</td>\n",
              "      <td>3</td>\n",
              "      <td>...</td>\n",
              "      <td>998</td>\n",
              "      <td>998</td>\n",
              "      <td>35.2908279949,-2.95053552337</td>\n",
              "      <td>Melilla</td>\n",
              "      <td>19</td>\n",
              "      <td>Melilla</td>\n",
              "      <td>Melilla</td>\n",
              "      <td>52</td>\n",
              "      <td>52001</td>\n",
              "      <td>MELILLA</td>\n",
              "    </tr>\n",
              "    <tr>\n",
              "      <th>63380</th>\n",
              "      <td>72956</td>\n",
              "      <td>202152001000007</td>\n",
              "      <td>2020</td>\n",
              "      <td>12</td>\n",
              "      <td>4</td>\n",
              "      <td>9</td>\n",
              "      <td>52</td>\n",
              "      <td>52001</td>\n",
              "      <td>NaN</td>\n",
              "      <td>3</td>\n",
              "      <td>...</td>\n",
              "      <td>4</td>\n",
              "      <td>998</td>\n",
              "      <td>35.2908279949,-2.95053552337</td>\n",
              "      <td>Melilla</td>\n",
              "      <td>19</td>\n",
              "      <td>Melilla</td>\n",
              "      <td>Melilla</td>\n",
              "      <td>52</td>\n",
              "      <td>52001</td>\n",
              "      <td>MELILLA</td>\n",
              "    </tr>\n",
              "    <tr>\n",
              "      <th>63381</th>\n",
              "      <td>72957</td>\n",
              "      <td>202152001000008</td>\n",
              "      <td>2020</td>\n",
              "      <td>12</td>\n",
              "      <td>5</td>\n",
              "      <td>17</td>\n",
              "      <td>52</td>\n",
              "      <td>52001</td>\n",
              "      <td>NaN</td>\n",
              "      <td>3</td>\n",
              "      <td>...</td>\n",
              "      <td>4</td>\n",
              "      <td>998</td>\n",
              "      <td>35.2908279949,-2.95053552337</td>\n",
              "      <td>Melilla</td>\n",
              "      <td>19</td>\n",
              "      <td>Melilla</td>\n",
              "      <td>Melilla</td>\n",
              "      <td>52</td>\n",
              "      <td>52001</td>\n",
              "      <td>MELILLA</td>\n",
              "    </tr>\n",
              "    <tr>\n",
              "      <th>63382</th>\n",
              "      <td>72958</td>\n",
              "      <td>202152001000009</td>\n",
              "      <td>2020</td>\n",
              "      <td>12</td>\n",
              "      <td>4</td>\n",
              "      <td>21</td>\n",
              "      <td>52</td>\n",
              "      <td>52001</td>\n",
              "      <td>NaN</td>\n",
              "      <td>3</td>\n",
              "      <td>...</td>\n",
              "      <td>4</td>\n",
              "      <td>998</td>\n",
              "      <td>35.2908279949,-2.95053552337</td>\n",
              "      <td>Melilla</td>\n",
              "      <td>19</td>\n",
              "      <td>Melilla</td>\n",
              "      <td>Melilla</td>\n",
              "      <td>52</td>\n",
              "      <td>52001</td>\n",
              "      <td>MELILLA</td>\n",
              "    </tr>\n",
              "    <tr>\n",
              "      <th>63383</th>\n",
              "      <td>72959</td>\n",
              "      <td>202152001000010</td>\n",
              "      <td>2020</td>\n",
              "      <td>12</td>\n",
              "      <td>3</td>\n",
              "      <td>17</td>\n",
              "      <td>52</td>\n",
              "      <td>52001</td>\n",
              "      <td>NaN</td>\n",
              "      <td>3</td>\n",
              "      <td>...</td>\n",
              "      <td>4</td>\n",
              "      <td>998</td>\n",
              "      <td>35.2908279949,-2.95053552337</td>\n",
              "      <td>Melilla</td>\n",
              "      <td>19</td>\n",
              "      <td>Melilla</td>\n",
              "      <td>Melilla</td>\n",
              "      <td>52</td>\n",
              "      <td>52001</td>\n",
              "      <td>MELILLA</td>\n",
              "    </tr>\n",
              "  </tbody>\n",
              "</table>\n",
              "<p>63384 rows × 83 columns</p>\n",
              "</div>\n",
              "      <button class=\"colab-df-convert\" onclick=\"convertToInteractive('df-0ab4f2d1-4086-40b1-b0a0-7063a7de5e49')\"\n",
              "              title=\"Convert this dataframe to an interactive table.\"\n",
              "              style=\"display:none;\">\n",
              "        \n",
              "  <svg xmlns=\"http://www.w3.org/2000/svg\" height=\"24px\"viewBox=\"0 0 24 24\"\n",
              "       width=\"24px\">\n",
              "    <path d=\"M0 0h24v24H0V0z\" fill=\"none\"/>\n",
              "    <path d=\"M18.56 5.44l.94 2.06.94-2.06 2.06-.94-2.06-.94-.94-2.06-.94 2.06-2.06.94zm-11 1L8.5 8.5l.94-2.06 2.06-.94-2.06-.94L8.5 2.5l-.94 2.06-2.06.94zm10 10l.94 2.06.94-2.06 2.06-.94-2.06-.94-.94-2.06-.94 2.06-2.06.94z\"/><path d=\"M17.41 7.96l-1.37-1.37c-.4-.4-.92-.59-1.43-.59-.52 0-1.04.2-1.43.59L10.3 9.45l-7.72 7.72c-.78.78-.78 2.05 0 2.83L4 21.41c.39.39.9.59 1.41.59.51 0 1.02-.2 1.41-.59l7.78-7.78 2.81-2.81c.8-.78.8-2.07 0-2.86zM5.41 20L4 18.59l7.72-7.72 1.47 1.35L5.41 20z\"/>\n",
              "  </svg>\n",
              "      </button>\n",
              "      \n",
              "  <style>\n",
              "    .colab-df-container {\n",
              "      display:flex;\n",
              "      flex-wrap:wrap;\n",
              "      gap: 12px;\n",
              "    }\n",
              "\n",
              "    .colab-df-convert {\n",
              "      background-color: #E8F0FE;\n",
              "      border: none;\n",
              "      border-radius: 50%;\n",
              "      cursor: pointer;\n",
              "      display: none;\n",
              "      fill: #1967D2;\n",
              "      height: 32px;\n",
              "      padding: 0 0 0 0;\n",
              "      width: 32px;\n",
              "    }\n",
              "\n",
              "    .colab-df-convert:hover {\n",
              "      background-color: #E2EBFA;\n",
              "      box-shadow: 0px 1px 2px rgba(60, 64, 67, 0.3), 0px 1px 3px 1px rgba(60, 64, 67, 0.15);\n",
              "      fill: #174EA6;\n",
              "    }\n",
              "\n",
              "    [theme=dark] .colab-df-convert {\n",
              "      background-color: #3B4455;\n",
              "      fill: #D2E3FC;\n",
              "    }\n",
              "\n",
              "    [theme=dark] .colab-df-convert:hover {\n",
              "      background-color: #434B5C;\n",
              "      box-shadow: 0px 1px 3px 1px rgba(0, 0, 0, 0.15);\n",
              "      filter: drop-shadow(0px 1px 2px rgba(0, 0, 0, 0.3));\n",
              "      fill: #FFFFFF;\n",
              "    }\n",
              "  </style>\n",
              "\n",
              "      <script>\n",
              "        const buttonEl =\n",
              "          document.querySelector('#df-0ab4f2d1-4086-40b1-b0a0-7063a7de5e49 button.colab-df-convert');\n",
              "        buttonEl.style.display =\n",
              "          google.colab.kernel.accessAllowed ? 'block' : 'none';\n",
              "\n",
              "        async function convertToInteractive(key) {\n",
              "          const element = document.querySelector('#df-0ab4f2d1-4086-40b1-b0a0-7063a7de5e49');\n",
              "          const dataTable =\n",
              "            await google.colab.kernel.invokeFunction('convertToInteractive',\n",
              "                                                     [key], {});\n",
              "          if (!dataTable) return;\n",
              "\n",
              "          const docLinkHtml = 'Like what you see? Visit the ' +\n",
              "            '<a target=\"_blank\" href=https://colab.research.google.com/notebooks/data_table.ipynb>data table notebook</a>'\n",
              "            + ' to learn more about interactive tables.';\n",
              "          element.innerHTML = '';\n",
              "          dataTable['output_type'] = 'display_data';\n",
              "          await google.colab.output.renderOutput(dataTable, element);\n",
              "          const docLink = document.createElement('div');\n",
              "          docLink.innerHTML = docLinkHtml;\n",
              "          element.appendChild(docLink);\n",
              "        }\n",
              "      </script>\n",
              "    </div>\n",
              "  </div>\n",
              "  "
            ]
          },
          "metadata": {},
          "execution_count": 8
        }
      ]
    },
    {
      "cell_type": "markdown",
      "source": [
        "Determinar la cantidad de registros y la instancia"
      ],
      "metadata": {
        "id": "9YiNyQv57yW3"
      }
    },
    {
      "cell_type": "code",
      "source": [
        "df_cod.shape"
      ],
      "metadata": {
        "colab": {
          "base_uri": "https://localhost:8080/"
        },
        "id": "jw8hrXoXV1CT",
        "outputId": "83679a67-e16a-4fb9-b90e-d951dcb3743e"
      },
      "execution_count": null,
      "outputs": [
        {
          "output_type": "execute_result",
          "data": {
            "text/plain": [
              "(63384, 83)"
            ]
          },
          "metadata": {},
          "execution_count": 9
        }
      ]
    },
    {
      "cell_type": "markdown",
      "source": [
        "Analizar  el tipo de datos de cada variable"
      ],
      "metadata": {
        "id": "UFblqVJaRpCW"
      }
    },
    {
      "cell_type": "code",
      "source": [
        "df_cod.dtypes"
      ],
      "metadata": {
        "colab": {
          "base_uri": "https://localhost:8080/"
        },
        "id": "GAgKj4lBV2bi",
        "outputId": "1ef3df15-3b36-461f-e5d4-72ea9b3f6926"
      },
      "execution_count": null,
      "outputs": [
        {
          "output_type": "execute_result",
          "data": {
            "text/plain": [
              "SECUENCIAL           int64\n",
              "ID_ACCIDENTE         int64\n",
              "ANYO                 int64\n",
              "MES                  int64\n",
              "DIA_SEMANA           int64\n",
              "                     ...  \n",
              "Provincia           object\n",
              "Texto               object\n",
              "Codigo               int64\n",
              "Código Municipio     int64\n",
              "Municipio           object\n",
              "Length: 83, dtype: object"
            ]
          },
          "metadata": {},
          "execution_count": 10
        }
      ]
    },
    {
      "cell_type": "markdown",
      "source": [
        " Averiguar cuales son las variables cuantativas "
      ],
      "metadata": {
        "id": "ahq7BeWXRwKX"
      }
    },
    {
      "cell_type": "code",
      "source": [
        "df_numeric = df_cod.select_dtypes(include=[np.number])\n",
        "numeric_cols = df_numeric.columns.values\n",
        "print(numeric_cols)"
      ],
      "metadata": {
        "colab": {
          "base_uri": "https://localhost:8080/"
        },
        "id": "Fu4jABvTV4Oq",
        "outputId": "1434707a-f1dd-410d-a1c2-bf24bd29a40a"
      },
      "execution_count": null,
      "outputs": [
        {
          "output_type": "stream",
          "name": "stdout",
          "text": [
            "['SECUENCIAL' 'ID_ACCIDENTE' 'ANYO' 'MES' 'DIA_SEMANA' 'HORA'\n",
            " 'COD_PROVINCIA' 'COD_MUNICIPIO' 'ISLA' 'ZONA' 'ZONA_AGRUPADA' 'KM'\n",
            " 'SENTIDO_1F' 'TITULARIDAD_VIA' 'TIPO_VIA' 'TIPO_ACCIDENTE' 'TOTAL_HG24H'\n",
            " 'TOTAL_HL24H' 'TOTAL_VICTIMAS_24H' 'TOTAL_MU30DF' 'TOTAL_HG30DF'\n",
            " 'TOTAL_HL30DF' 'TOTAL_VICTIMAS_30DF' 'TOTAL_VEHICULOS' 'TOT_PEAT_MU24H'\n",
            " 'TOT_BICI_MU24H' 'TOT_CICLO_MU24H' 'TOT_MOTO_MU24H' 'TOT_TUR_MU24H'\n",
            " 'TOT_FURG_MU24H' 'TOT_CAM_MENOS3500_MU24H' 'TOT_CAM_MAS3500_MU24H'\n",
            " 'TOT_BUS_MU24H' 'TOT_VMP_MU24H' 'TOT_OTRO_MU24H' 'TOT_SINESPECIF_MU24H'\n",
            " 'TOT_PEAT_MU30DF' 'TOT_BICI_MU30DF' 'TOT_CICLO_MU30DF' 'TOT_MOTO_MU30DF'\n",
            " 'TOT_TUR_MU30DF' 'TOT_FURG_MU30DF' 'TOT_CAM_MENOS3500_MU30DF'\n",
            " 'TOT_CAM_MAS3500_MU30DF' 'TOT_BUS_MU30DF' 'TOT_VMP_MU30DF'\n",
            " 'TOT_OTRO_MU30DF' 'TOT_SINESPECIF_MU30DF' 'NUDO' 'NUDO_INFO'\n",
            " 'PRIORI_NORMA' 'PRIORI_AGENTE' 'PRIORI_SEMAFORO' 'PRIORI_VERT_STOP'\n",
            " 'PRIORI_VERT_CEDA' 'PRIORI_HORIZ_STOP' 'PRIORI_HORIZ_CEDA'\n",
            " 'PRIORI_MARCAS' 'PRIORI_PEA_NO_ELEV' 'PRIORI_PEA_ELEV'\n",
            " 'PRIORI_MARCA_CICLOS' 'PRIORI_CIRCUNSTANCIAL' 'PRIORI_OTRA'\n",
            " 'CONDICION_NIVEL_CIRCULA' 'CONDICION_FIRME' 'CONDICION_ILUMINACION'\n",
            " 'CONDICION_METEO' 'CONDICION_NIEBLA' 'CONDICION_VIENTO'\n",
            " 'VISIB_RESTRINGIDA_POR' 'ACERA' 'TRAZADO_PLANTA' 'Cod_CCAA' 'Codigo'\n",
            " 'Código Municipio']\n"
          ]
        }
      ]
    },
    {
      "cell_type": "markdown",
      "source": [
        "Averiguar cuales son las variables categóricas o cualitativas"
      ],
      "metadata": {
        "id": "dyzBivI5Rx9P"
      }
    },
    {
      "cell_type": "code",
      "source": [
        "df_non_numeric = df_cod.select_dtypes(exclude=[np.number])\n",
        "non_numeric_cols = df_non_numeric.columns.values\n",
        "print(non_numeric_cols)"
      ],
      "metadata": {
        "colab": {
          "base_uri": "https://localhost:8080/"
        },
        "id": "Pl26VSIGV5c3",
        "outputId": "4155fccc-da30-4e68-cca4-799ef7b51569"
      },
      "execution_count": null,
      "outputs": [
        {
          "output_type": "stream",
          "name": "stdout",
          "text": [
            "['CARRETERA' 'TOTAL_MU24H' 'CARRETERA_CRUCE' 'Geo Point' 'CCAA'\n",
            " 'Provincia' 'Texto' 'Municipio']\n"
          ]
        }
      ]
    },
    {
      "cell_type": "markdown",
      "source": [
        "Se procede instalar la libreria missingno para detectar los valores anulos de todas las variables numéricas"
      ],
      "metadata": {
        "id": "5NdEPHqkR0Do"
      }
    },
    {
      "cell_type": "code",
      "source": [
        "#!pip install missingno"
      ],
      "metadata": {
        "id": "ABqBzb_1R1u2"
      },
      "execution_count": null,
      "outputs": []
    },
    {
      "cell_type": "code",
      "source": [
        "import missingno as msno\n",
        "msno.matrix(df_cod)"
      ],
      "metadata": {
        "colab": {
          "base_uri": "https://localhost:8080/",
          "height": 593
        },
        "id": "4MancSlCV8Xi",
        "outputId": "6bb02ff0-7651-4fa1-8a4f-a8cff64da561"
      },
      "execution_count": null,
      "outputs": [
        {
          "output_type": "execute_result",
          "data": {
            "text/plain": [
              "<matplotlib.axes._subplots.AxesSubplot at 0x7f2bc71754d0>"
            ]
          },
          "metadata": {},
          "execution_count": 14
        },
        {
          "output_type": "display_data",
          "data": {
            "text/plain": [
              "<Figure size 1800x720 with 2 Axes>"
            ],
            "image/png": "[encoded data removed]"
          },
          "metadata": {}
        }
      ]
    },
    {
      "cell_type": "markdown",
      "source": [
        "Se procede analizar los valores faltantes de cada variable"
      ],
      "metadata": {
        "id": "qQM6w8poR5VA"
      }
    },
    {
      "cell_type": "code",
      "source": [
        "for col in df_cod.columns:\n",
        "    pct_missing = np.mean(df_cod[col].isna().sum())\n",
        "    print('{} - {}'.format(col, round(pct_missing)))"
      ],
      "metadata": {
        "colab": {
          "base_uri": "https://localhost:8080/"
        },
        "id": "yROk5yCtW6zz",
        "outputId": "ba46cc11-edea-46db-910f-1c49517db954"
      },
      "execution_count": null,
      "outputs": [
        {
          "output_type": "stream",
          "name": "stdout",
          "text": [
            "SECUENCIAL - 0\n",
            "ID_ACCIDENTE - 0\n",
            "ANYO - 0\n",
            "MES - 0\n",
            "DIA_SEMANA - 0\n",
            "HORA - 0\n",
            "COD_PROVINCIA - 0\n",
            "COD_MUNICIPIO - 0\n",
            "ISLA - 58955\n",
            "ZONA - 0\n",
            "ZONA_AGRUPADA - 0\n",
            "CARRETERA - 0\n",
            "KM - 33040\n",
            "SENTIDO_1F - 0\n",
            "TITULARIDAD_VIA - 0\n",
            "TIPO_VIA - 0\n",
            "TIPO_ACCIDENTE - 0\n",
            "TOTAL_MU24H - 0\n",
            "TOTAL_HG24H - 0\n",
            "TOTAL_HL24H - 0\n",
            "TOTAL_VICTIMAS_24H - 0\n",
            "TOTAL_MU30DF - 0\n",
            "TOTAL_HG30DF - 0\n",
            "TOTAL_HL30DF - 0\n",
            "TOTAL_VICTIMAS_30DF - 0\n",
            "TOTAL_VEHICULOS - 0\n",
            "TOT_PEAT_MU24H - 0\n",
            "TOT_BICI_MU24H - 0\n",
            "TOT_CICLO_MU24H - 0\n",
            "TOT_MOTO_MU24H - 0\n",
            "TOT_TUR_MU24H - 0\n",
            "TOT_FURG_MU24H - 0\n",
            "TOT_CAM_MENOS3500_MU24H - 0\n",
            "TOT_CAM_MAS3500_MU24H - 0\n",
            "TOT_BUS_MU24H - 0\n",
            "TOT_VMP_MU24H - 0\n",
            "TOT_OTRO_MU24H - 0\n",
            "TOT_SINESPECIF_MU24H - 0\n",
            "TOT_PEAT_MU30DF - 0\n",
            "TOT_BICI_MU30DF - 0\n",
            "TOT_CICLO_MU30DF - 0\n",
            "TOT_MOTO_MU30DF - 0\n",
            "TOT_TUR_MU30DF - 0\n",
            "TOT_FURG_MU30DF - 0\n",
            "TOT_CAM_MENOS3500_MU30DF - 0\n",
            "TOT_CAM_MAS3500_MU30DF - 0\n",
            "TOT_BUS_MU30DF - 0\n",
            "TOT_VMP_MU30DF - 0\n",
            "TOT_OTRO_MU30DF - 0\n",
            "TOT_SINESPECIF_MU30DF - 0\n",
            "NUDO - 33\n",
            "NUDO_INFO - 36462\n",
            "CARRETERA_CRUCE - 61802\n",
            "PRIORI_NORMA - 0\n",
            "PRIORI_AGENTE - 0\n",
            "PRIORI_SEMAFORO - 0\n",
            "PRIORI_VERT_STOP - 0\n",
            "PRIORI_VERT_CEDA - 0\n",
            "PRIORI_HORIZ_STOP - 0\n",
            "PRIORI_HORIZ_CEDA - 0\n",
            "PRIORI_MARCAS - 0\n",
            "PRIORI_PEA_NO_ELEV - 0\n",
            "PRIORI_PEA_ELEV - 0\n",
            "PRIORI_MARCA_CICLOS - 0\n",
            "PRIORI_CIRCUNSTANCIAL - 0\n",
            "PRIORI_OTRA - 0\n",
            "CONDICION_NIVEL_CIRCULA - 0\n",
            "CONDICION_FIRME - 0\n",
            "CONDICION_ILUMINACION - 0\n",
            "CONDICION_METEO - 0\n",
            "CONDICION_NIEBLA - 57295\n",
            "CONDICION_VIENTO - 63107\n",
            "VISIB_RESTRINGIDA_POR - 0\n",
            "ACERA - 0\n",
            "TRAZADO_PLANTA - 0\n",
            "Geo Point - 0\n",
            "CCAA - 0\n",
            "Cod_CCAA - 0\n",
            "Provincia - 0\n",
            "Texto - 0\n",
            "Codigo - 0\n",
            "Código Municipio - 0\n",
            "Municipio - 0\n"
          ]
        }
      ]
    },
    {
      "cell_type": "markdown",
      "source": [
        "Valores faltantes en porcentaje de cada variable"
      ],
      "metadata": {
        "id": "6HKnMsGRR9_G"
      }
    },
    {
      "cell_type": "code",
      "source": [
        "for col in df_cod.columns:\n",
        "    pct_missing = np.mean(df_cod[col].isnull())\n",
        "    print('{} - {}%'.format(col, round(pct_missing*100)))"
      ],
      "metadata": {
        "colab": {
          "base_uri": "https://localhost:8080/"
        },
        "id": "k4WXu8nKW_oC",
        "outputId": "f79facf0-f141-4c13-b8d2-92fb685e5657"
      },
      "execution_count": null,
      "outputs": [
        {
          "output_type": "stream",
          "name": "stdout",
          "text": [
            "SECUENCIAL - 0%\n",
            "ID_ACCIDENTE - 0%\n",
            "ANYO - 0%\n",
            "MES - 0%\n",
            "DIA_SEMANA - 0%\n",
            "HORA - 0%\n",
            "COD_PROVINCIA - 0%\n",
            "COD_MUNICIPIO - 0%\n",
            "ISLA - 93%\n",
            "ZONA - 0%\n",
            "ZONA_AGRUPADA - 0%\n",
            "CARRETERA - 0%\n",
            "KM - 52%\n",
            "SENTIDO_1F - 0%\n",
            "TITULARIDAD_VIA - 0%\n",
            "TIPO_VIA - 0%\n",
            "TIPO_ACCIDENTE - 0%\n",
            "TOTAL_MU24H - 0%\n",
            "TOTAL_HG24H - 0%\n",
            "TOTAL_HL24H - 0%\n",
            "TOTAL_VICTIMAS_24H - 0%\n",
            "TOTAL_MU30DF - 0%\n",
            "TOTAL_HG30DF - 0%\n",
            "TOTAL_HL30DF - 0%\n",
            "TOTAL_VICTIMAS_30DF - 0%\n",
            "TOTAL_VEHICULOS - 0%\n",
            "TOT_PEAT_MU24H - 0%\n",
            "TOT_BICI_MU24H - 0%\n",
            "TOT_CICLO_MU24H - 0%\n",
            "TOT_MOTO_MU24H - 0%\n",
            "TOT_TUR_MU24H - 0%\n",
            "TOT_FURG_MU24H - 0%\n",
            "TOT_CAM_MENOS3500_MU24H - 0%\n",
            "TOT_CAM_MAS3500_MU24H - 0%\n",
            "TOT_BUS_MU24H - 0%\n",
            "TOT_VMP_MU24H - 0%\n",
            "TOT_OTRO_MU24H - 0%\n",
            "TOT_SINESPECIF_MU24H - 0%\n",
            "TOT_PEAT_MU30DF - 0%\n",
            "TOT_BICI_MU30DF - 0%\n",
            "TOT_CICLO_MU30DF - 0%\n",
            "TOT_MOTO_MU30DF - 0%\n",
            "TOT_TUR_MU30DF - 0%\n",
            "TOT_FURG_MU30DF - 0%\n",
            "TOT_CAM_MENOS3500_MU30DF - 0%\n",
            "TOT_CAM_MAS3500_MU30DF - 0%\n",
            "TOT_BUS_MU30DF - 0%\n",
            "TOT_VMP_MU30DF - 0%\n",
            "TOT_OTRO_MU30DF - 0%\n",
            "TOT_SINESPECIF_MU30DF - 0%\n",
            "NUDO - 0%\n",
            "NUDO_INFO - 58%\n",
            "CARRETERA_CRUCE - 98%\n",
            "PRIORI_NORMA - 0%\n",
            "PRIORI_AGENTE - 0%\n",
            "PRIORI_SEMAFORO - 0%\n",
            "PRIORI_VERT_STOP - 0%\n",
            "PRIORI_VERT_CEDA - 0%\n",
            "PRIORI_HORIZ_STOP - 0%\n",
            "PRIORI_HORIZ_CEDA - 0%\n",
            "PRIORI_MARCAS - 0%\n",
            "PRIORI_PEA_NO_ELEV - 0%\n",
            "PRIORI_PEA_ELEV - 0%\n",
            "PRIORI_MARCA_CICLOS - 0%\n",
            "PRIORI_CIRCUNSTANCIAL - 0%\n",
            "PRIORI_OTRA - 0%\n",
            "CONDICION_NIVEL_CIRCULA - 0%\n",
            "CONDICION_FIRME - 0%\n",
            "CONDICION_ILUMINACION - 0%\n",
            "CONDICION_METEO - 0%\n",
            "CONDICION_NIEBLA - 90%\n",
            "CONDICION_VIENTO - 100%\n",
            "VISIB_RESTRINGIDA_POR - 0%\n",
            "ACERA - 0%\n",
            "TRAZADO_PLANTA - 0%\n",
            "Geo Point - 0%\n",
            "CCAA - 0%\n",
            "Cod_CCAA - 0%\n",
            "Provincia - 0%\n",
            "Texto - 0%\n",
            "Codigo - 0%\n",
            "Código Municipio - 0%\n",
            "Municipio - 0%\n"
          ]
        }
      ]
    },
    {
      "cell_type": "markdown",
      "source": [
        "Eliminar algunas variables que tiene gran cantidad de valores faltantes y que no aportan información util"
      ],
      "metadata": {
        "id": "TIutNtdJSBnQ"
      }
    },
    {
      "cell_type": "code",
      "source": [
        "df_cod['CONDICION_VIENTO'].unique()"
      ],
      "metadata": {
        "colab": {
          "base_uri": "https://localhost:8080/"
        },
        "id": "tTz-aVz_wAb6",
        "outputId": "2cb7d609-d3e3-4146-d639-b30bd640f001"
      },
      "execution_count": null,
      "outputs": [
        {
          "output_type": "execute_result",
          "data": {
            "text/plain": [
              "array([nan,  1.])"
            ]
          },
          "metadata": {},
          "execution_count": 17
        }
      ]
    },
    {
      "cell_type": "code",
      "source": [
        "df_cod[\"CONDICION_VIENTO\"] = df_cod['CONDICION_VIENTO'].fillna('NaN')\n",
        "df_cod.groupby('CONDICION_VIENTO').size().fillna('NaN')"
      ],
      "metadata": {
        "colab": {
          "base_uri": "https://localhost:8080/"
        },
        "id": "UfuB3qpSwYP7",
        "outputId": "654303ff-d0b0-4c21-bf9b-e03f68ba1913"
      },
      "execution_count": null,
      "outputs": [
        {
          "output_type": "execute_result",
          "data": {
            "text/plain": [
              "CONDICION_VIENTO\n",
              "1.0      277\n",
              "NaN    63107\n",
              "dtype: int64"
            ]
          },
          "metadata": {},
          "execution_count": 18
        }
      ]
    },
    {
      "cell_type": "code",
      "source": [
        "cols_to_drop = ['CONDICION_VIENTO']\n",
        "df_cod = df_cod.drop(cols_to_drop, axis=1)\n",
        "print(df_cod.shape)"
      ],
      "metadata": {
        "colab": {
          "base_uri": "https://localhost:8080/"
        },
        "id": "XBEBxLOCboMs",
        "outputId": "597394fd-967d-449c-f008-3d184ea6b3f5"
      },
      "execution_count": null,
      "outputs": [
        {
          "output_type": "stream",
          "name": "stdout",
          "text": [
            "(63384, 82)\n"
          ]
        }
      ]
    },
    {
      "cell_type": "code",
      "source": [
        "df_cod[\"CONDICION_NIEBLA\"] = df_cod['CONDICION_NIEBLA'].fillna('NaN')\n",
        "df_cod.groupby('CONDICION_NIEBLA').size().fillna('NaN')"
      ],
      "metadata": {
        "colab": {
          "base_uri": "https://localhost:8080/"
        },
        "id": "w77X77q02558",
        "outputId": "8271cd05-8afd-47e4-dfa8-726f5148caab"
      },
      "execution_count": null,
      "outputs": [
        {
          "output_type": "execute_result",
          "data": {
            "text/plain": [
              "CONDICION_NIEBLA\n",
              "1.0     6009\n",
              "2.0       80\n",
              "NaN    57295\n",
              "dtype: int64"
            ]
          },
          "metadata": {},
          "execution_count": 20
        }
      ]
    },
    {
      "cell_type": "code",
      "source": [
        "cols_to_drop = ['CONDICION_NIEBLA']\n",
        "df_cod = df_cod.drop(cols_to_drop, axis=1)\n",
        "print(df_cod.shape)"
      ],
      "metadata": {
        "id": "dfEO55fFb5Ls",
        "colab": {
          "base_uri": "https://localhost:8080/"
        },
        "outputId": "d34a1694-a640-4e88-b417-840ea904cf1b"
      },
      "execution_count": null,
      "outputs": [
        {
          "output_type": "stream",
          "name": "stdout",
          "text": [
            "(63384, 81)\n"
          ]
        }
      ]
    },
    {
      "cell_type": "code",
      "source": [
        "df_cod[\"NUDO_INFO\"] = df_cod['NUDO_INFO'].fillna('NaN')\n",
        "df_cod.groupby('NUDO_INFO').size().fillna('NaN')"
      ],
      "metadata": {
        "colab": {
          "base_uri": "https://localhost:8080/"
        },
        "id": "BjqC2LXm3BoE",
        "outputId": "d71ee485-f66d-4c81-ce56-ecd8b8fbdac5"
      },
      "execution_count": null,
      "outputs": [
        {
          "output_type": "execute_result",
          "data": {
            "text/plain": [
              "NUDO_INFO\n",
              "1.0      11008\n",
              "2.0       7972\n",
              "3.0         88\n",
              "4.0       5861\n",
              "5.0        758\n",
              "6.0         16\n",
              "7.0         46\n",
              "8.0          1\n",
              "9.0          3\n",
              "10.0       335\n",
              "11.0       172\n",
              "12.0       346\n",
              "999.0      316\n",
              "NaN      36462\n",
              "dtype: int64"
            ]
          },
          "metadata": {},
          "execution_count": 22
        }
      ]
    },
    {
      "cell_type": "code",
      "source": [
        "cols_to_drop = ['NUDO_INFO']\n",
        "df_cod = df_cod.drop(cols_to_drop, axis=1)\n",
        "print(df_cod.shape)"
      ],
      "metadata": {
        "colab": {
          "base_uri": "https://localhost:8080/"
        },
        "id": "FNc-LnbxcDEV",
        "outputId": "592b82b1-53ed-4826-9555-6b476613d9dd"
      },
      "execution_count": null,
      "outputs": [
        {
          "output_type": "stream",
          "name": "stdout",
          "text": [
            "(63384, 80)\n"
          ]
        }
      ]
    },
    {
      "cell_type": "code",
      "source": [
        "cols_to_drop = ['CARRETERA_CRUCE']\n",
        "df_cod = df_cod.drop(cols_to_drop, axis=1)\n",
        "print(df_cod.shape)"
      ],
      "metadata": {
        "id": "vtX71ruovo-E",
        "colab": {
          "base_uri": "https://localhost:8080/"
        },
        "outputId": "77d1e271-d91e-4100-e65c-3c1e0eada565"
      },
      "execution_count": null,
      "outputs": [
        {
          "output_type": "stream",
          "name": "stdout",
          "text": [
            "(63384, 79)\n"
          ]
        }
      ]
    },
    {
      "cell_type": "code",
      "source": [
        "cols_to_drop = ['ISLA']\n",
        "df_cod = df_cod.drop(cols_to_drop, axis=1)\n",
        "print(df_cod.shape)"
      ],
      "metadata": {
        "id": "9unPiifEv34U",
        "colab": {
          "base_uri": "https://localhost:8080/"
        },
        "outputId": "41442414-0876-40ed-ecd3-af40191983a0"
      },
      "execution_count": null,
      "outputs": [
        {
          "output_type": "stream",
          "name": "stdout",
          "text": [
            "(63384, 78)\n"
          ]
        }
      ]
    },
    {
      "cell_type": "code",
      "source": [
        "cols_to_drop = ['KM']\n",
        "df_cod = df_cod.drop(cols_to_drop, axis=1)\n",
        "print(df_cod.shape)"
      ],
      "metadata": {
        "colab": {
          "base_uri": "https://localhost:8080/"
        },
        "id": "NiZEhVMhd0ZJ",
        "outputId": "bf5eed36-09f5-4b3c-bce8-14bd0e1922d2"
      },
      "execution_count": null,
      "outputs": [
        {
          "output_type": "stream",
          "name": "stdout",
          "text": [
            "(63384, 77)\n"
          ]
        }
      ]
    },
    {
      "cell_type": "markdown",
      "source": [
        "Rellenar valores al azar a los variables que contienen porcentaje muy bajo de valores faltantes"
      ],
      "metadata": {
        "id": "jlhReh2qSHCH"
      }
    },
    {
      "cell_type": "code",
      "source": [
        "df_cod.fillna(method='ffill', inplace=True)\n",
        "pd.isnull(df_cod).any()"
      ],
      "metadata": {
        "colab": {
          "base_uri": "https://localhost:8080/"
        },
        "id": "JjJe9xkScKy0",
        "outputId": "003603eb-65b7-44d5-ed70-bd748ffef0b3"
      },
      "execution_count": null,
      "outputs": [
        {
          "output_type": "execute_result",
          "data": {
            "text/plain": [
              "SECUENCIAL          False\n",
              "ID_ACCIDENTE        False\n",
              "ANYO                False\n",
              "MES                 False\n",
              "DIA_SEMANA          False\n",
              "                    ...  \n",
              "Provincia           False\n",
              "Texto               False\n",
              "Codigo              False\n",
              "Código Municipio    False\n",
              "Municipio           False\n",
              "Length: 77, dtype: bool"
            ]
          },
          "metadata": {},
          "execution_count": 27
        }
      ]
    },
    {
      "cell_type": "code",
      "source": [
        "msno.matrix(df_cod)"
      ],
      "metadata": {
        "colab": {
          "base_uri": "https://localhost:8080/",
          "height": 593
        },
        "id": "WIyKJYo-dU17",
        "outputId": "e1a86d5c-5e21-43fe-debe-c3504aa69981"
      },
      "execution_count": null,
      "outputs": [
        {
          "output_type": "execute_result",
          "data": {
            "text/plain": [
              "<matplotlib.axes._subplots.AxesSubplot at 0x7f2bca807a90>"
            ]
          },
          "metadata": {},
          "execution_count": 28
        },
        {
          "output_type": "display_data",
          "data": {
            "text/plain": [
              "<Figure size 1800x720 with 2 Axes>"
            ],
            "image/png": "[encoded data removed]"
          },
          "metadata": {}
        }
      ]
    },
    {
      "cell_type": "markdown",
      "source": [
        "Como se puede observar que ya no existen valores nulos en el conjunto de datos"
      ],
      "metadata": {
        "id": "99-GsidoSgY2"
      }
    },
    {
      "cell_type": "markdown",
      "source": [
        "Posteriormente analizar algunas variables que contengan valores outliers"
      ],
      "metadata": {
        "id": "fCfbwLoxSlVS"
      }
    },
    {
      "cell_type": "code",
      "source": [
        "from google.colab.data_table import DataTable\n",
        "DataTable.max_columns = 72\n",
        "df_cod.describe()"
      ],
      "metadata": {
        "colab": {
          "base_uri": "https://localhost:8080/",
          "height": 411
        },
        "id": "xK6nICp9MLhk",
        "outputId": "a092ae36-9413-4694-c176-b3f3efc3da42"
      },
      "execution_count": null,
      "outputs": [
        {
          "output_type": "execute_result",
          "data": {
            "text/plain": [
              "         SECUENCIAL  ID_ACCIDENTE     ANYO           MES    DIA_SEMANA  \\\n",
              "count  63384.000000  6.338400e+04  63384.0  63384.000000  63384.000000   \n",
              "mean   36493.451455  2.020275e+14   2020.0      6.690947      3.828711   \n",
              "std    21010.028895  2.413603e+10      0.0      3.623456      1.899911   \n",
              "min        3.000000  2.020010e+14   2020.0      1.000000      1.000000   \n",
              "25%    17740.750000  2.020090e+14   2020.0      3.000000      2.000000   \n",
              "50%    37574.500000  2.020281e+14   2020.0      7.000000      4.000000   \n",
              "75%    54253.250000  2.020350e+14   2020.0     10.000000      5.000000   \n",
              "max    72959.000000  2.021520e+14   2020.0     12.000000      7.000000   \n",
              "\n",
              "               HORA  COD_PROVINCIA  COD_MUNICIPIO          ZONA  \\\n",
              "count  63384.000000   63384.000000   63384.000000  63384.000000   \n",
              "mean      14.073899      23.682759   23768.551922      2.411918   \n",
              "std        5.302332      14.012778   14026.960155      0.906480   \n",
              "min        0.000000       1.000000    1002.000000      1.000000   \n",
              "25%       10.000000       8.000000    8191.000000      1.000000   \n",
              "50%       14.000000      28.000000   28079.000000      3.000000   \n",
              "75%       18.000000      35.000000   35009.000000      3.000000   \n",
              "max       23.000000      52.000000   52001.000000      4.000000   \n",
              "\n",
              "       ZONA_AGRUPADA  ...  CONDICION_NIVEL_CIRCULA  CONDICION_FIRME  \\\n",
              "count   63384.000000  ...             63384.000000     63384.000000   \n",
              "mean        1.711299  ...               109.950145         1.480610   \n",
              "std         0.453162  ...               308.489802         8.033517   \n",
              "min         1.000000  ...                 1.000000         1.000000   \n",
              "25%         1.000000  ...                 1.000000         1.000000   \n",
              "50%         2.000000  ...                 2.000000         1.000000   \n",
              "75%         2.000000  ...                 6.000000         1.000000   \n",
              "max         2.000000  ...               999.000000       999.000000   \n",
              "\n",
              "       CONDICION_ILUMINACION  CONDICION_METEO  VISIB_RESTRINGIDA_POR  \\\n",
              "count           63384.000000     63384.000000           63384.000000   \n",
              "mean                2.861842         2.252761               7.374416   \n",
              "std                30.445218        30.440907              31.480644   \n",
              "min                 1.000000         1.000000               1.000000   \n",
              "25%                 1.000000         1.000000               1.000000   \n",
              "50%                 1.000000         1.000000               1.000000   \n",
              "75%                 3.000000         1.000000              18.000000   \n",
              "max               999.000000       999.000000             999.000000   \n",
              "\n",
              "              ACERA  TRAZADO_PLANTA      Cod_CCAA        Codigo  \\\n",
              "count  63384.000000    63384.000000  63384.000000  63384.000000   \n",
              "mean     901.973763      697.771646      8.323205     23.682759   \n",
              "std      293.806792      457.051033      4.742833     14.012778   \n",
              "min        1.000000        1.000000      1.000000      1.000000   \n",
              "25%      998.000000        4.000000      4.000000      8.000000   \n",
              "50%      998.000000      998.000000      9.000000     28.000000   \n",
              "75%      998.000000      998.000000     13.000000     35.000000   \n",
              "max      999.000000      998.000000     19.000000     52.000000   \n",
              "\n",
              "       Código Municipio  \n",
              "count      63384.000000  \n",
              "mean       23768.551922  \n",
              "std        14026.960155  \n",
              "min         1002.000000  \n",
              "25%         8191.000000  \n",
              "50%        28079.000000  \n",
              "75%        35009.000000  \n",
              "max        52001.000000  \n",
              "\n",
              "[8 rows x 71 columns]"
            ],
            "text/html": [
              "\n",
              "  <div id=\"df-46771edc-7887-4610-9c74-3edfc9d0f01e\">\n",
              "    <div class=\"colab-df-container\">\n",
              "      <div>\n",
              "<style scoped>\n",
              "    .dataframe tbody tr th:only-of-type {\n",
              "        vertical-align: middle;\n",
              "    }\n",
              "\n",
              "    .dataframe tbody tr th {\n",
              "        vertical-align: top;\n",
              "    }\n",
              "\n",
              "    .dataframe thead th {\n",
              "        text-align: right;\n",
              "    }\n",
              "</style>\n",
              "<table border=\"1\" class=\"dataframe\">\n",
              "  <thead>\n",
              "    <tr style=\"text-align: right;\">\n",
              "      <th></th>\n",
              "      <th>SECUENCIAL</th>\n",
              "      <th>ID_ACCIDENTE</th>\n",
              "      <th>ANYO</th>\n",
              "      <th>MES</th>\n",
              "      <th>DIA_SEMANA</th>\n",
              "      <th>HORA</th>\n",
              "      <th>COD_PROVINCIA</th>\n",
              "      <th>COD_MUNICIPIO</th>\n",
              "      <th>ZONA</th>\n",
              "      <th>ZONA_AGRUPADA</th>\n",
              "      <th>...</th>\n",
              "      <th>CONDICION_NIVEL_CIRCULA</th>\n",
              "      <th>CONDICION_FIRME</th>\n",
              "      <th>CONDICION_ILUMINACION</th>\n",
              "      <th>CONDICION_METEO</th>\n",
              "      <th>VISIB_RESTRINGIDA_POR</th>\n",
              "      <th>ACERA</th>\n",
              "      <th>TRAZADO_PLANTA</th>\n",
              "      <th>Cod_CCAA</th>\n",
              "      <th>Codigo</th>\n",
              "      <th>Código Municipio</th>\n",
              "    </tr>\n",
              "  </thead>\n",
              "  <tbody>\n",
              "    <tr>\n",
              "      <th>count</th>\n",
              "      <td>63384.000000</td>\n",
              "      <td>6.338400e+04</td>\n",
              "      <td>63384.0</td>\n",
              "      <td>63384.000000</td>\n",
              "      <td>63384.000000</td>\n",
              "      <td>63384.000000</td>\n",
              "      <td>63384.000000</td>\n",
              "      <td>63384.000000</td>\n",
              "      <td>63384.000000</td>\n",
              "      <td>63384.000000</td>\n",
              "      <td>...</td>\n",
              "      <td>63384.000000</td>\n",
              "      <td>63384.000000</td>\n",
              "      <td>63384.000000</td>\n",
              "      <td>63384.000000</td>\n",
              "      <td>63384.000000</td>\n",
              "      <td>63384.000000</td>\n",
              "      <td>63384.000000</td>\n",
              "      <td>63384.000000</td>\n",
              "      <td>63384.000000</td>\n",
              "      <td>63384.000000</td>\n",
              "    </tr>\n",
              "    <tr>\n",
              "      <th>mean</th>\n",
              "      <td>36493.451455</td>\n",
              "      <td>2.020275e+14</td>\n",
              "      <td>2020.0</td>\n",
              "      <td>6.690947</td>\n",
              "      <td>3.828711</td>\n",
              "      <td>14.073899</td>\n",
              "      <td>23.682759</td>\n",
              "      <td>23768.551922</td>\n",
              "      <td>2.411918</td>\n",
              "      <td>1.711299</td>\n",
              "      <td>...</td>\n",
              "      <td>109.950145</td>\n",
              "      <td>1.480610</td>\n",
              "      <td>2.861842</td>\n",
              "      <td>2.252761</td>\n",
              "      <td>7.374416</td>\n",
              "      <td>901.973763</td>\n",
              "      <td>697.771646</td>\n",
              "      <td>8.323205</td>\n",
              "      <td>23.682759</td>\n",
              "      <td>23768.551922</td>\n",
              "    </tr>\n",
              "    <tr>\n",
              "      <th>std</th>\n",
              "      <td>21010.028895</td>\n",
              "      <td>2.413603e+10</td>\n",
              "      <td>0.0</td>\n",
              "      <td>3.623456</td>\n",
              "      <td>1.899911</td>\n",
              "      <td>5.302332</td>\n",
              "      <td>14.012778</td>\n",
              "      <td>14026.960155</td>\n",
              "      <td>0.906480</td>\n",
              "      <td>0.453162</td>\n",
              "      <td>...</td>\n",
              "      <td>308.489802</td>\n",
              "      <td>8.033517</td>\n",
              "      <td>30.445218</td>\n",
              "      <td>30.440907</td>\n",
              "      <td>31.480644</td>\n",
              "      <td>293.806792</td>\n",
              "      <td>457.051033</td>\n",
              "      <td>4.742833</td>\n",
              "      <td>14.012778</td>\n",
              "      <td>14026.960155</td>\n",
              "    </tr>\n",
              "    <tr>\n",
              "      <th>min</th>\n",
              "      <td>3.000000</td>\n",
              "      <td>2.020010e+14</td>\n",
              "      <td>2020.0</td>\n",
              "      <td>1.000000</td>\n",
              "      <td>1.000000</td>\n",
              "      <td>0.000000</td>\n",
              "      <td>1.000000</td>\n",
              "      <td>1002.000000</td>\n",
              "      <td>1.000000</td>\n",
              "      <td>1.000000</td>\n",
              "      <td>...</td>\n",
              "      <td>1.000000</td>\n",
              "      <td>1.000000</td>\n",
              "      <td>1.000000</td>\n",
              "      <td>1.000000</td>\n",
              "      <td>1.000000</td>\n",
              "      <td>1.000000</td>\n",
              "      <td>1.000000</td>\n",
              "      <td>1.000000</td>\n",
              "      <td>1.000000</td>\n",
              "      <td>1002.000000</td>\n",
              "    </tr>\n",
              "    <tr>\n",
              "      <th>25%</th>\n",
              "      <td>17740.750000</td>\n",
              "      <td>2.020090e+14</td>\n",
              "      <td>2020.0</td>\n",
              "      <td>3.000000</td>\n",
              "      <td>2.000000</td>\n",
              "      <td>10.000000</td>\n",
              "      <td>8.000000</td>\n",
              "      <td>8191.000000</td>\n",
              "      <td>1.000000</td>\n",
              "      <td>1.000000</td>\n",
              "      <td>...</td>\n",
              "      <td>1.000000</td>\n",
              "      <td>1.000000</td>\n",
              "      <td>1.000000</td>\n",
              "      <td>1.000000</td>\n",
              "      <td>1.000000</td>\n",
              "      <td>998.000000</td>\n",
              "      <td>4.000000</td>\n",
              "      <td>4.000000</td>\n",
              "      <td>8.000000</td>\n",
              "      <td>8191.000000</td>\n",
              "    </tr>\n",
              "    <tr>\n",
              "      <th>50%</th>\n",
              "      <td>37574.500000</td>\n",
              "      <td>2.020281e+14</td>\n",
              "      <td>2020.0</td>\n",
              "      <td>7.000000</td>\n",
              "      <td>4.000000</td>\n",
              "      <td>14.000000</td>\n",
              "      <td>28.000000</td>\n",
              "      <td>28079.000000</td>\n",
              "      <td>3.000000</td>\n",
              "      <td>2.000000</td>\n",
              "      <td>...</td>\n",
              "      <td>2.000000</td>\n",
              "      <td>1.000000</td>\n",
              "      <td>1.000000</td>\n",
              "      <td>1.000000</td>\n",
              "      <td>1.000000</td>\n",
              "      <td>998.000000</td>\n",
              "      <td>998.000000</td>\n",
              "      <td>9.000000</td>\n",
              "      <td>28.000000</td>\n",
              "      <td>28079.000000</td>\n",
              "    </tr>\n",
              "    <tr>\n",
              "      <th>75%</th>\n",
              "      <td>54253.250000</td>\n",
              "      <td>2.020350e+14</td>\n",
              "      <td>2020.0</td>\n",
              "      <td>10.000000</td>\n",
              "      <td>5.000000</td>\n",
              "      <td>18.000000</td>\n",
              "      <td>35.000000</td>\n",
              "      <td>35009.000000</td>\n",
              "      <td>3.000000</td>\n",
              "      <td>2.000000</td>\n",
              "      <td>...</td>\n",
              "      <td>6.000000</td>\n",
              "      <td>1.000000</td>\n",
              "      <td>3.000000</td>\n",
              "      <td>1.000000</td>\n",
              "      <td>18.000000</td>\n",
              "      <td>998.000000</td>\n",
              "      <td>998.000000</td>\n",
              "      <td>13.000000</td>\n",
              "      <td>35.000000</td>\n",
              "      <td>35009.000000</td>\n",
              "    </tr>\n",
              "    <tr>\n",
              "      <th>max</th>\n",
              "      <td>72959.000000</td>\n",
              "      <td>2.021520e+14</td>\n",
              "      <td>2020.0</td>\n",
              "      <td>12.000000</td>\n",
              "      <td>7.000000</td>\n",
              "      <td>23.000000</td>\n",
              "      <td>52.000000</td>\n",
              "      <td>52001.000000</td>\n",
              "      <td>4.000000</td>\n",
              "      <td>2.000000</td>\n",
              "      <td>...</td>\n",
              "      <td>999.000000</td>\n",
              "      <td>999.000000</td>\n",
              "      <td>999.000000</td>\n",
              "      <td>999.000000</td>\n",
              "      <td>999.000000</td>\n",
              "      <td>999.000000</td>\n",
              "      <td>998.000000</td>\n",
              "      <td>19.000000</td>\n",
              "      <td>52.000000</td>\n",
              "      <td>52001.000000</td>\n",
              "    </tr>\n",
              "  </tbody>\n",
              "</table>\n",
              "<p>8 rows × 71 columns</p>\n",
              "</div>\n",
              "      <button class=\"colab-df-convert\" onclick=\"convertToInteractive('df-46771edc-7887-4610-9c74-3edfc9d0f01e')\"\n",
              "              title=\"Convert this dataframe to an interactive table.\"\n",
              "              style=\"display:none;\">\n",
              "        \n",
              "  <svg xmlns=\"http://www.w3.org/2000/svg\" height=\"24px\"viewBox=\"0 0 24 24\"\n",
              "       width=\"24px\">\n",
              "    <path d=\"M0 0h24v24H0V0z\" fill=\"none\"/>\n",
              "    <path d=\"M18.56 5.44l.94 2.06.94-2.06 2.06-.94-2.06-.94-.94-2.06-.94 2.06-2.06.94zm-11 1L8.5 8.5l.94-2.06 2.06-.94-2.06-.94L8.5 2.5l-.94 2.06-2.06.94zm10 10l.94 2.06.94-2.06 2.06-.94-2.06-.94-.94-2.06-.94 2.06-2.06.94z\"/><path d=\"M17.41 7.96l-1.37-1.37c-.4-.4-.92-.59-1.43-.59-.52 0-1.04.2-1.43.59L10.3 9.45l-7.72 7.72c-.78.78-.78 2.05 0 2.83L4 21.41c.39.39.9.59 1.41.59.51 0 1.02-.2 1.41-.59l7.78-7.78 2.81-2.81c.8-.78.8-2.07 0-2.86zM5.41 20L4 18.59l7.72-7.72 1.47 1.35L5.41 20z\"/>\n",
              "  </svg>\n",
              "      </button>\n",
              "      \n",
              "  <style>\n",
              "    .colab-df-container {\n",
              "      display:flex;\n",
              "      flex-wrap:wrap;\n",
              "      gap: 12px;\n",
              "    }\n",
              "\n",
              "    .colab-df-convert {\n",
              "      background-color: #E8F0FE;\n",
              "      border: none;\n",
              "      border-radius: 50%;\n",
              "      cursor: pointer;\n",
              "      display: none;\n",
              "      fill: #1967D2;\n",
              "      height: 32px;\n",
              "      padding: 0 0 0 0;\n",
              "      width: 32px;\n",
              "    }\n",
              "\n",
              "    .colab-df-convert:hover {\n",
              "      background-color: #E2EBFA;\n",
              "      box-shadow: 0px 1px 2px rgba(60, 64, 67, 0.3), 0px 1px 3px 1px rgba(60, 64, 67, 0.15);\n",
              "      fill: #174EA6;\n",
              "    }\n",
              "\n",
              "    [theme=dark] .colab-df-convert {\n",
              "      background-color: #3B4455;\n",
              "      fill: #D2E3FC;\n",
              "    }\n",
              "\n",
              "    [theme=dark] .colab-df-convert:hover {\n",
              "      background-color: #434B5C;\n",
              "      box-shadow: 0px 1px 3px 1px rgba(0, 0, 0, 0.15);\n",
              "      filter: drop-shadow(0px 1px 2px rgba(0, 0, 0, 0.3));\n",
              "      fill: #FFFFFF;\n",
              "    }\n",
              "  </style>\n",
              "\n",
              "      <script>\n",
              "        const buttonEl =\n",
              "          document.querySelector('#df-46771edc-7887-4610-9c74-3edfc9d0f01e button.colab-df-convert');\n",
              "        buttonEl.style.display =\n",
              "          google.colab.kernel.accessAllowed ? 'block' : 'none';\n",
              "\n",
              "        async function convertToInteractive(key) {\n",
              "          const element = document.querySelector('#df-46771edc-7887-4610-9c74-3edfc9d0f01e');\n",
              "          const dataTable =\n",
              "            await google.colab.kernel.invokeFunction('convertToInteractive',\n",
              "                                                     [key], {});\n",
              "          if (!dataTable) return;\n",
              "\n",
              "          const docLinkHtml = 'Like what you see? Visit the ' +\n",
              "            '<a target=\"_blank\" href=https://colab.research.google.com/notebooks/data_table.ipynb>data table notebook</a>'\n",
              "            + ' to learn more about interactive tables.';\n",
              "          element.innerHTML = '';\n",
              "          dataTable['output_type'] = 'display_data';\n",
              "          await google.colab.output.renderOutput(dataTable, element);\n",
              "          const docLink = document.createElement('div');\n",
              "          docLink.innerHTML = docLinkHtml;\n",
              "          element.appendChild(docLink);\n",
              "        }\n",
              "      </script>\n",
              "    </div>\n",
              "  </div>\n",
              "  "
            ]
          },
          "metadata": {},
          "execution_count": 29
        }
      ]
    },
    {
      "cell_type": "markdown",
      "source": [
        "Estos son las variables que tienen valores outliers:  ACERA, CONDICION_METEO, CONDICION_ILUMINACION, CONDICION_FIRME,CONDICION_NIVEL_CIRCULA, KM, VISIB_RESTRINGIDA_POR, TRAZADO_PLANTA\n",
        "\n",
        "ELIMINACION: PRIORI_NORMA, PRIORI AGENTE, PRIORI_SEMAFORO, PRIORI_VERT_STOP, PRIORI_VERT_CEDA, DE TODAS LAS VARIANLES DE PRIORI"
      ],
      "metadata": {
        "id": "6MVQs-40Mkvr"
      }
    },
    {
      "cell_type": "markdown",
      "source": [
        "Eliminar las caracteristicas de algunas variables y eliminar instancia si tiene gran cantidad de valores anomalías "
      ],
      "metadata": {
        "id": "5n2BjAhfR4hl"
      }
    },
    {
      "cell_type": "code",
      "source": [
        "priori = ['PRIORI_NORMA','PRIORI_AGENTE', 'PRIORI_SEMAFORO','PRIORI_VERT_STOP', 'PRIORI_VERT_CEDA', 'PRIORI_HORIZ_STOP', 'PRIORI_HORIZ_CEDA', 'PRIORI_MARCAS', 'PRIORI_PEA_NO_ELEV', 'PRIORI_PEA_ELEV', \n",
        "          'PRIORI_MARCA_CICLOS', 'PRIORI_CIRCUNSTANCIAL', 'PRIORI_OTRA']"
      ],
      "metadata": {
        "id": "E_JjLLtmUKND"
      },
      "execution_count": null,
      "outputs": []
    },
    {
      "cell_type": "code",
      "source": [
        "df_cod.drop(priori, axis = 1, inplace = True)\n",
        "print(df_cod.shape)"
      ],
      "metadata": {
        "id": "gvbeDGWnTzJb",
        "colab": {
          "base_uri": "https://localhost:8080/"
        },
        "outputId": "b1d32852-15aa-456a-d2a3-37dfc8de888f"
      },
      "execution_count": null,
      "outputs": [
        {
          "output_type": "stream",
          "name": "stdout",
          "text": [
            "(63384, 64)\n"
          ]
        }
      ]
    },
    {
      "cell_type": "code",
      "source": [
        "ind_missing = df_cod[df_cod['CONDICION_NIVEL_CIRCULA'] == 999.0].index \n",
        "df_cod = df_cod.drop(ind_missing, axis=0)\n",
        "print(df_cod.shape)"
      ],
      "metadata": {
        "id": "RyrAuH8rwf_j",
        "colab": {
          "base_uri": "https://localhost:8080/"
        },
        "outputId": "fa303628-ba67-48ac-a040-3b53b3ad7d69"
      },
      "execution_count": null,
      "outputs": [
        {
          "output_type": "stream",
          "name": "stdout",
          "text": [
            "(56573, 64)\n"
          ]
        }
      ]
    },
    {
      "cell_type": "code",
      "source": [
        "ind_missing = df_cod[df_cod['CONDICION_FIRME'] == 999.0].index \n",
        "df_cod = df_cod.drop(ind_missing, axis=0)\n",
        "print(df_cod.shape)"
      ],
      "metadata": {
        "id": "lJhbFZy0wuXa",
        "colab": {
          "base_uri": "https://localhost:8080/"
        },
        "outputId": "ec13f603-5151-43db-c1f6-5955b1449861"
      },
      "execution_count": null,
      "outputs": [
        {
          "output_type": "stream",
          "name": "stdout",
          "text": [
            "(56572, 64)\n"
          ]
        }
      ]
    },
    {
      "cell_type": "code",
      "source": [
        "ind_missing = df_cod[df_cod['CONDICION_ILUMINACION'] == 999.0].index \n",
        "df_cod = df_cod.drop(ind_missing, axis=0)\n",
        "print(df_cod.shape)"
      ],
      "metadata": {
        "id": "ssWmXoeiwz4q",
        "colab": {
          "base_uri": "https://localhost:8080/"
        },
        "outputId": "e54e4513-cc16-4c3e-8f2b-e3316cf38295"
      },
      "execution_count": null,
      "outputs": [
        {
          "output_type": "stream",
          "name": "stdout",
          "text": [
            "(56572, 64)\n"
          ]
        }
      ]
    },
    {
      "cell_type": "code",
      "source": [
        "ind_missing = df_cod[df_cod['CONDICION_METEO'] == 999.0].index \n",
        "df_cod = df_cod.drop(ind_missing, axis=0)\n",
        "print(df_cod.shape)"
      ],
      "metadata": {
        "id": "ttpyzlGPw5ya",
        "colab": {
          "base_uri": "https://localhost:8080/"
        },
        "outputId": "420b20b6-ad38-485c-9312-d0b97a94d8c8"
      },
      "execution_count": null,
      "outputs": [
        {
          "output_type": "stream",
          "name": "stdout",
          "text": [
            "(56572, 64)\n"
          ]
        }
      ]
    },
    {
      "cell_type": "code",
      "source": [
        "ind_missing = df_cod[df_cod['VISIB_RESTRINGIDA_POR'] == 999.0].index \n",
        "df_cod = df_cod.drop(ind_missing, axis=0)\n",
        "print(df_cod.shape)"
      ],
      "metadata": {
        "id": "cbsJmKXbxCHq",
        "colab": {
          "base_uri": "https://localhost:8080/"
        },
        "outputId": "1c460bcf-8c79-443d-a620-f10d9202045c"
      },
      "execution_count": null,
      "outputs": [
        {
          "output_type": "stream",
          "name": "stdout",
          "text": [
            "(56572, 64)\n"
          ]
        }
      ]
    },
    {
      "cell_type": "code",
      "source": [
        "df_cod.groupby('ACERA').size()"
      ],
      "metadata": {
        "colab": {
          "base_uri": "https://localhost:8080/"
        },
        "id": "m1Kp9BJw4Dll",
        "outputId": "555a7dfb-3779-40d2-d618-3f71d23aeed5"
      },
      "execution_count": null,
      "outputs": [
        {
          "output_type": "execute_result",
          "data": {
            "text/plain": [
              "ACERA\n",
              "1        706\n",
              "2          6\n",
              "3        614\n",
              "4       3649\n",
              "998    49396\n",
              "999     2201\n",
              "dtype: int64"
            ]
          },
          "metadata": {},
          "execution_count": 37
        }
      ]
    },
    {
      "cell_type": "code",
      "source": [
        "df_cod.drop('ACERA', axis = 1, inplace = True)\n",
        "print(df_cod.shape)"
      ],
      "metadata": {
        "id": "MRJRRFyJxIya",
        "colab": {
          "base_uri": "https://localhost:8080/"
        },
        "outputId": "67a927f2-e4a0-4a40-bf77-eae06690bb3b"
      },
      "execution_count": null,
      "outputs": [
        {
          "output_type": "stream",
          "name": "stdout",
          "text": [
            "(56572, 63)\n"
          ]
        }
      ]
    },
    {
      "cell_type": "code",
      "source": [
        "df_cod.groupby('TRAZADO_PLANTA').size()"
      ],
      "metadata": {
        "colab": {
          "base_uri": "https://localhost:8080/"
        },
        "id": "ASEnW6In4Mtc",
        "outputId": "fc21883b-a310-4302-96bf-c64ca42df81f"
      },
      "execution_count": null,
      "outputs": [
        {
          "output_type": "execute_result",
          "data": {
            "text/plain": [
              "TRAZADO_PLANTA\n",
              "1       9508\n",
              "2       3375\n",
              "3       1765\n",
              "4       3951\n",
              "998    37973\n",
              "dtype: int64"
            ]
          },
          "metadata": {},
          "execution_count": 39
        }
      ]
    },
    {
      "cell_type": "code",
      "source": [
        "df_cod.drop('TRAZADO_PLANTA', axis = 1, inplace = True)\n",
        "print(df_cod.shape)"
      ],
      "metadata": {
        "id": "85jnyLzixMwy",
        "colab": {
          "base_uri": "https://localhost:8080/"
        },
        "outputId": "bf3a89ad-f3e5-4cf9-cee1-370b7a9b21ba"
      },
      "execution_count": null,
      "outputs": [
        {
          "output_type": "stream",
          "name": "stdout",
          "text": [
            "(56572, 62)\n"
          ]
        }
      ]
    },
    {
      "cell_type": "markdown",
      "source": [
        "### ETAPA 4: MINERIA DE DATOS"
      ],
      "metadata": {
        "id": "_Q6wc7bK-TP4"
      }
    },
    {
      "cell_type": "markdown",
      "source": [
        "# Distribución de Número total de cada variable:\n",
        "\n",
        "\n",
        "*   TOTAL_MU24H: Especifica el número total de fallecidos registrados en el accidente, computados a 24 horas. Tipo numérico. \n",
        "*   TOTAL_HG24H: Especifica el número total de heridos hospitalizados registrados en el accidente, computados a 24 horas. Tipo numérico.\n",
        "*   TOTAL_HL24H: Especifica el número total de heridos no hospitalizados registrados en el accidente, computados a 24 horas. Tipo numérico. \n",
        "*   TOTAL_HL24H: Especifica el número total de heridos no hospitalizados registrados en el accidente, computados a 24 horas. Tipo numérico. \n",
        "*   TOTAL_VICTIMAS_24H: Especifica el número total de víctimas (fallecidos+ heridos hospitalizados+ heridos. no hospitalizados) registrados en el accidente, computados a 24 horas. Tipo numérico. \n",
        "\n",
        "\n",
        "\n"
      ],
      "metadata": {
        "id": "6x4GOb7-cA5s"
      }
    },
    {
      "cell_type": "code",
      "source": [
        "#Distribución \n",
        "Var=['TOTAL_MU30DF','TOTAL_MU24H','TOTAL_HG24H','TOTAL_HL24H','TOTAL_VICTIMAS_24H']\n",
        "df_cod[Var].hist(bins=50 ,figsize=(20,15))\n",
        "plt.show()"
      ],
      "metadata": {
        "colab": {
          "base_uri": "https://localhost:8080/",
          "height": 883
        },
        "id": "AONV5P3Ua93X",
        "outputId": "0a18d916-0ce3-415a-d420-db37409a7cfe"
      },
      "execution_count": null,
      "outputs": [
        {
          "output_type": "display_data",
          "data": {
            "text/plain": [
              "<Figure size 1440x1080 with 6 Axes>"
            ],
            "image/png": "[encoded data removed]"
          },
          "metadata": {}
        }
      ]
    },
    {
      "cell_type": "markdown",
      "source": [
        "Alguna distribucion presenta tendencia."
      ],
      "metadata": {
        "id": "hilNDgDp_aRz"
      }
    },
    {
      "cell_type": "code",
      "source": [
        "#Distribución \n",
        "plt.figure(figsize=(12,6))\n",
        "sns.countplot(data = df_cod, x = \"TOTAL_VEHICULOS\")\n",
        "df_cod['TOTAL_VEHICULOS'].value_counts(0).sort_index"
      ],
      "metadata": {
        "colab": {
          "base_uri": "https://localhost:8080/",
          "height": 654
        },
        "id": "EdyExuRFdSZ0",
        "outputId": "fce321e3-6422-4f6d-d8e5-c957610a32ac"
      },
      "execution_count": null,
      "outputs": [
        {
          "output_type": "execute_result",
          "data": {
            "text/plain": [
              "<bound method Series.sort_index of 2     31747\n",
              "1     20239\n",
              "3      3486\n",
              "4       767\n",
              "5       202\n",
              "6        72\n",
              "7        28\n",
              "8        16\n",
              "9         5\n",
              "10        4\n",
              "11        3\n",
              "12        1\n",
              "16        1\n",
              "13        1\n",
              "Name: TOTAL_VEHICULOS, dtype: int64>"
            ]
          },
          "metadata": {},
          "execution_count": 42
        },
        {
          "output_type": "display_data",
          "data": {
            "text/plain": [
              "<Figure size 864x432 with 1 Axes>"
            ],
            "image/png": "[encoded data removed]"
          },
          "metadata": {}
        }
      ]
    },
    {
      "cell_type": "markdown",
      "source": [
        "TOTAL_VEHICULOS: Especifica el número total de vehículos implicados registrados en el accidente. Tipo numérico. \n",
        "\n",
        "En este caso presenta dos vehiculos involucrados que está en tendencia de acuerdo de la distribucción generada. "
      ],
      "metadata": {
        "id": "qEVWiEDo_ju5"
      }
    },
    {
      "cell_type": "code",
      "source": [
        "sns.factorplot('TITULARIDAD_VIA',data=df_cod,hue='ZONA_AGRUPADA',kind=\"count\")\n",
        "df_cod[['ZONA_AGRUPADA', 'TITULARIDAD_VIA']].groupby(['ZONA_AGRUPADA'], as_index=False).agg(['count','sum','mean'])"
      ],
      "metadata": {
        "colab": {
          "base_uri": "https://localhost:8080/",
          "height": 616
        },
        "id": "6eDc0_P_vsn-",
        "outputId": "439d7dfb-eae9-40e0-a049-95c8c563f785"
      },
      "execution_count": null,
      "outputs": [
        {
          "output_type": "stream",
          "name": "stderr",
          "text": [
            "/usr/local/lib/python3.7/dist-packages/seaborn/categorical.py:3717: UserWarning: The `factorplot` function has been renamed to `catplot`. The original name will be removed in a future release. Please update your code. Note that the default `kind` in `factorplot` (`'point'`) has changed `'strip'` in `catplot`.\n",
            "  warnings.warn(msg)\n",
            "/usr/local/lib/python3.7/dist-packages/seaborn/_decorators.py:43: FutureWarning: Pass the following variable as a keyword arg: x. From version 0.12, the only valid positional argument will be `data`, and passing other arguments without an explicit keyword will result in an error or misinterpretation.\n",
            "  FutureWarning\n"
          ]
        },
        {
          "output_type": "execute_result",
          "data": {
            "text/plain": [
              "              TITULARIDAD_VIA                  \n",
              "                        count     sum      mean\n",
              "ZONA_AGRUPADA                                  \n",
              "1                       17829   41592  2.332829\n",
              "2                       38743  153387  3.959089"
            ],
            "text/html": [
              "\n",
              "  <div id=\"df-761599bd-a866-460e-8bc8-eb4bfc2012d2\">\n",
              "    <div class=\"colab-df-container\">\n",
              "      <div>\n",
              "<style scoped>\n",
              "    .dataframe tbody tr th:only-of-type {\n",
              "        vertical-align: middle;\n",
              "    }\n",
              "\n",
              "    .dataframe tbody tr th {\n",
              "        vertical-align: top;\n",
              "    }\n",
              "\n",
              "    .dataframe thead tr th {\n",
              "        text-align: left;\n",
              "    }\n",
              "\n",
              "    .dataframe thead tr:last-of-type th {\n",
              "        text-align: right;\n",
              "    }\n",
              "</style>\n",
              "<table border=\"1\" class=\"dataframe\">\n",
              "  <thead>\n",
              "    <tr>\n",
              "      <th></th>\n",
              "      <th colspan=\"3\" halign=\"left\">TITULARIDAD_VIA</th>\n",
              "    </tr>\n",
              "    <tr>\n",
              "      <th></th>\n",
              "      <th>count</th>\n",
              "      <th>sum</th>\n",
              "      <th>mean</th>\n",
              "    </tr>\n",
              "    <tr>\n",
              "      <th>ZONA_AGRUPADA</th>\n",
              "      <th></th>\n",
              "      <th></th>\n",
              "      <th></th>\n",
              "    </tr>\n",
              "  </thead>\n",
              "  <tbody>\n",
              "    <tr>\n",
              "      <th>1</th>\n",
              "      <td>17829</td>\n",
              "      <td>41592</td>\n",
              "      <td>2.332829</td>\n",
              "    </tr>\n",
              "    <tr>\n",
              "      <th>2</th>\n",
              "      <td>38743</td>\n",
              "      <td>153387</td>\n",
              "      <td>3.959089</td>\n",
              "    </tr>\n",
              "  </tbody>\n",
              "</table>\n",
              "</div>\n",
              "      <button class=\"colab-df-convert\" onclick=\"convertToInteractive('df-761599bd-a866-460e-8bc8-eb4bfc2012d2')\"\n",
              "              title=\"Convert this dataframe to an interactive table.\"\n",
              "              style=\"display:none;\">\n",
              "        \n",
              "  <svg xmlns=\"http://www.w3.org/2000/svg\" height=\"24px\"viewBox=\"0 0 24 24\"\n",
              "       width=\"24px\">\n",
              "    <path d=\"M0 0h24v24H0V0z\" fill=\"none\"/>\n",
              "    <path d=\"M18.56 5.44l.94 2.06.94-2.06 2.06-.94-2.06-.94-.94-2.06-.94 2.06-2.06.94zm-11 1L8.5 8.5l.94-2.06 2.06-.94-2.06-.94L8.5 2.5l-.94 2.06-2.06.94zm10 10l.94 2.06.94-2.06 2.06-.94-2.06-.94-.94-2.06-.94 2.06-2.06.94z\"/><path d=\"M17.41 7.96l-1.37-1.37c-.4-.4-.92-.59-1.43-.59-.52 0-1.04.2-1.43.59L10.3 9.45l-7.72 7.72c-.78.78-.78 2.05 0 2.83L4 21.41c.39.39.9.59 1.41.59.51 0 1.02-.2 1.41-.59l7.78-7.78 2.81-2.81c.8-.78.8-2.07 0-2.86zM5.41 20L4 18.59l7.72-7.72 1.47 1.35L5.41 20z\"/>\n",
              "  </svg>\n",
              "      </button>\n",
              "      \n",
              "  <style>\n",
              "    .colab-df-container {\n",
              "      display:flex;\n",
              "      flex-wrap:wrap;\n",
              "      gap: 12px;\n",
              "    }\n",
              "\n",
              "    .colab-df-convert {\n",
              "      background-color: #E8F0FE;\n",
              "      border: none;\n",
              "      border-radius: 50%;\n",
              "      cursor: pointer;\n",
              "      display: none;\n",
              "      fill: #1967D2;\n",
              "      height: 32px;\n",
              "      padding: 0 0 0 0;\n",
              "      width: 32px;\n",
              "    }\n",
              "\n",
              "    .colab-df-convert:hover {\n",
              "      background-color: #E2EBFA;\n",
              "      box-shadow: 0px 1px 2px rgba(60, 64, 67, 0.3), 0px 1px 3px 1px rgba(60, 64, 67, 0.15);\n",
              "      fill: #174EA6;\n",
              "    }\n",
              "\n",
              "    [theme=dark] .colab-df-convert {\n",
              "      background-color: #3B4455;\n",
              "      fill: #D2E3FC;\n",
              "    }\n",
              "\n",
              "    [theme=dark] .colab-df-convert:hover {\n",
              "      background-color: #434B5C;\n",
              "      box-shadow: 0px 1px 3px 1px rgba(0, 0, 0, 0.15);\n",
              "      filter: drop-shadow(0px 1px 2px rgba(0, 0, 0, 0.3));\n",
              "      fill: #FFFFFF;\n",
              "    }\n",
              "  </style>\n",
              "\n",
              "      <script>\n",
              "        const buttonEl =\n",
              "          document.querySelector('#df-761599bd-a866-460e-8bc8-eb4bfc2012d2 button.colab-df-convert');\n",
              "        buttonEl.style.display =\n",
              "          google.colab.kernel.accessAllowed ? 'block' : 'none';\n",
              "\n",
              "        async function convertToInteractive(key) {\n",
              "          const element = document.querySelector('#df-761599bd-a866-460e-8bc8-eb4bfc2012d2');\n",
              "          const dataTable =\n",
              "            await google.colab.kernel.invokeFunction('convertToInteractive',\n",
              "                                                     [key], {});\n",
              "          if (!dataTable) return;\n",
              "\n",
              "          const docLinkHtml = 'Like what you see? Visit the ' +\n",
              "            '<a target=\"_blank\" href=https://colab.research.google.com/notebooks/data_table.ipynb>data table notebook</a>'\n",
              "            + ' to learn more about interactive tables.';\n",
              "          element.innerHTML = '';\n",
              "          dataTable['output_type'] = 'display_data';\n",
              "          await google.colab.output.renderOutput(dataTable, element);\n",
              "          const docLink = document.createElement('div');\n",
              "          docLink.innerHTML = docLinkHtml;\n",
              "          element.appendChild(docLink);\n",
              "        }\n",
              "      </script>\n",
              "    </div>\n",
              "  </div>\n",
              "  "
            ]
          },
          "metadata": {},
          "execution_count": 43
        },
        {
          "output_type": "display_data",
          "data": {
            "text/plain": [
              "<Figure size 475.425x360 with 1 Axes>"
            ],
            "image/png": "[encoded data removed]"
          },
          "metadata": {}
        }
      ]
    },
    {
      "cell_type": "markdown",
      "source": [
        "\n",
        "*   ZONA_AGRUPADA: Especifica el número de Zona en la que ocurrió el accidente. Tipo numérico. \n",
        " (Agregación de la Zona en 2 valores: vías interurbanas y vías urbanas)\n",
        "*   TITULARIDAD_VIA: Especifica el número de Administración titular de la vía en la que ocurrió el accidente. Tipo numérico. \n",
        "(Agregación de titularidad de vía en 5 Valores: Estatal, Autonómica, Provincial cabil-do/Consell, Otra y Municipal)\n",
        "\n",
        "En la zona agrupada (Vias urbanas) hay una tendencia en municipal.\n",
        "\n",
        "\n",
        "\n"
      ],
      "metadata": {
        "id": "jp21CM8l_2Bh"
      }
    },
    {
      "cell_type": "code",
      "source": [
        "\n",
        "sns.factorplot('SENTIDO_1F',data=df_cod,hue='ZONA_AGRUPADA',kind=\"count\")\n",
        "df_cod[['ZONA_AGRUPADA', 'SENTIDO_1F']].groupby(['ZONA_AGRUPADA'], as_index=False).agg(['count','sum','mean'])"
      ],
      "metadata": {
        "colab": {
          "base_uri": "https://localhost:8080/",
          "height": 616
        },
        "id": "bxpWnN7dxxlU",
        "outputId": "61c13fe8-66e6-487a-f731-9bebd9c483c6"
      },
      "execution_count": null,
      "outputs": [
        {
          "output_type": "stream",
          "name": "stderr",
          "text": [
            "/usr/local/lib/python3.7/dist-packages/seaborn/categorical.py:3717: UserWarning: The `factorplot` function has been renamed to `catplot`. The original name will be removed in a future release. Please update your code. Note that the default `kind` in `factorplot` (`'point'`) has changed `'strip'` in `catplot`.\n",
            "  warnings.warn(msg)\n",
            "/usr/local/lib/python3.7/dist-packages/seaborn/_decorators.py:43: FutureWarning: Pass the following variable as a keyword arg: x. From version 0.12, the only valid positional argument will be `data`, and passing other arguments without an explicit keyword will result in an error or misinterpretation.\n",
            "  FutureWarning\n"
          ]
        },
        {
          "output_type": "execute_result",
          "data": {
            "text/plain": [
              "              SENTIDO_1F                  \n",
              "                   count     sum      mean\n",
              "ZONA_AGRUPADA                             \n",
              "1                  17829   36445  2.044142\n",
              "2                  38743  154327  3.983352"
            ],
            "text/html": [
              "\n",
              "  <div id=\"df-cbb94ff5-6bc1-44bb-b313-dedd58eafb10\">\n",
              "    <div class=\"colab-df-container\">\n",
              "      <div>\n",
              "<style scoped>\n",
              "    .dataframe tbody tr th:only-of-type {\n",
              "        vertical-align: middle;\n",
              "    }\n",
              "\n",
              "    .dataframe tbody tr th {\n",
              "        vertical-align: top;\n",
              "    }\n",
              "\n",
              "    .dataframe thead tr th {\n",
              "        text-align: left;\n",
              "    }\n",
              "\n",
              "    .dataframe thead tr:last-of-type th {\n",
              "        text-align: right;\n",
              "    }\n",
              "</style>\n",
              "<table border=\"1\" class=\"dataframe\">\n",
              "  <thead>\n",
              "    <tr>\n",
              "      <th></th>\n",
              "      <th colspan=\"3\" halign=\"left\">SENTIDO_1F</th>\n",
              "    </tr>\n",
              "    <tr>\n",
              "      <th></th>\n",
              "      <th>count</th>\n",
              "      <th>sum</th>\n",
              "      <th>mean</th>\n",
              "    </tr>\n",
              "    <tr>\n",
              "      <th>ZONA_AGRUPADA</th>\n",
              "      <th></th>\n",
              "      <th></th>\n",
              "      <th></th>\n",
              "    </tr>\n",
              "  </thead>\n",
              "  <tbody>\n",
              "    <tr>\n",
              "      <th>1</th>\n",
              "      <td>17829</td>\n",
              "      <td>36445</td>\n",
              "      <td>2.044142</td>\n",
              "    </tr>\n",
              "    <tr>\n",
              "      <th>2</th>\n",
              "      <td>38743</td>\n",
              "      <td>154327</td>\n",
              "      <td>3.983352</td>\n",
              "    </tr>\n",
              "  </tbody>\n",
              "</table>\n",
              "</div>\n",
              "      <button class=\"colab-df-convert\" onclick=\"convertToInteractive('df-cbb94ff5-6bc1-44bb-b313-dedd58eafb10')\"\n",
              "              title=\"Convert this dataframe to an interactive table.\"\n",
              "              style=\"display:none;\">\n",
              "        \n",
              "  <svg xmlns=\"http://www.w3.org/2000/svg\" height=\"24px\"viewBox=\"0 0 24 24\"\n",
              "       width=\"24px\">\n",
              "    <path d=\"M0 0h24v24H0V0z\" fill=\"none\"/>\n",
              "    <path d=\"M18.56 5.44l.94 2.06.94-2.06 2.06-.94-2.06-.94-.94-2.06-.94 2.06-2.06.94zm-11 1L8.5 8.5l.94-2.06 2.06-.94-2.06-.94L8.5 2.5l-.94 2.06-2.06.94zm10 10l.94 2.06.94-2.06 2.06-.94-2.06-.94-.94-2.06-.94 2.06-2.06.94z\"/><path d=\"M17.41 7.96l-1.37-1.37c-.4-.4-.92-.59-1.43-.59-.52 0-1.04.2-1.43.59L10.3 9.45l-7.72 7.72c-.78.78-.78 2.05 0 2.83L4 21.41c.39.39.9.59 1.41.59.51 0 1.02-.2 1.41-.59l7.78-7.78 2.81-2.81c.8-.78.8-2.07 0-2.86zM5.41 20L4 18.59l7.72-7.72 1.47 1.35L5.41 20z\"/>\n",
              "  </svg>\n",
              "      </button>\n",
              "      \n",
              "  <style>\n",
              "    .colab-df-container {\n",
              "      display:flex;\n",
              "      flex-wrap:wrap;\n",
              "      gap: 12px;\n",
              "    }\n",
              "\n",
              "    .colab-df-convert {\n",
              "      background-color: #E8F0FE;\n",
              "      border: none;\n",
              "      border-radius: 50%;\n",
              "      cursor: pointer;\n",
              "      display: none;\n",
              "      fill: #1967D2;\n",
              "      height: 32px;\n",
              "      padding: 0 0 0 0;\n",
              "      width: 32px;\n",
              "    }\n",
              "\n",
              "    .colab-df-convert:hover {\n",
              "      background-color: #E2EBFA;\n",
              "      box-shadow: 0px 1px 2px rgba(60, 64, 67, 0.3), 0px 1px 3px 1px rgba(60, 64, 67, 0.15);\n",
              "      fill: #174EA6;\n",
              "    }\n",
              "\n",
              "    [theme=dark] .colab-df-convert {\n",
              "      background-color: #3B4455;\n",
              "      fill: #D2E3FC;\n",
              "    }\n",
              "\n",
              "    [theme=dark] .colab-df-convert:hover {\n",
              "      background-color: #434B5C;\n",
              "      box-shadow: 0px 1px 3px 1px rgba(0, 0, 0, 0.15);\n",
              "      filter: drop-shadow(0px 1px 2px rgba(0, 0, 0, 0.3));\n",
              "      fill: #FFFFFF;\n",
              "    }\n",
              "  </style>\n",
              "\n",
              "      <script>\n",
              "        const buttonEl =\n",
              "          document.querySelector('#df-cbb94ff5-6bc1-44bb-b313-dedd58eafb10 button.colab-df-convert');\n",
              "        buttonEl.style.display =\n",
              "          google.colab.kernel.accessAllowed ? 'block' : 'none';\n",
              "\n",
              "        async function convertToInteractive(key) {\n",
              "          const element = document.querySelector('#df-cbb94ff5-6bc1-44bb-b313-dedd58eafb10');\n",
              "          const dataTable =\n",
              "            await google.colab.kernel.invokeFunction('convertToInteractive',\n",
              "                                                     [key], {});\n",
              "          if (!dataTable) return;\n",
              "\n",
              "          const docLinkHtml = 'Like what you see? Visit the ' +\n",
              "            '<a target=\"_blank\" href=https://colab.research.google.com/notebooks/data_table.ipynb>data table notebook</a>'\n",
              "            + ' to learn more about interactive tables.';\n",
              "          element.innerHTML = '';\n",
              "          dataTable['output_type'] = 'display_data';\n",
              "          await google.colab.output.renderOutput(dataTable, element);\n",
              "          const docLink = document.createElement('div');\n",
              "          docLink.innerHTML = docLinkHtml;\n",
              "          element.appendChild(docLink);\n",
              "        }\n",
              "      </script>\n",
              "    </div>\n",
              "  </div>\n",
              "  "
            ]
          },
          "metadata": {},
          "execution_count": 44
        },
        {
          "output_type": "display_data",
          "data": {
            "text/plain": [
              "<Figure size 475.425x360 with 1 Axes>"
            ],
            "image/png": "[encoded data removed]"
          },
          "metadata": {}
        }
      ]
    },
    {
      "cell_type": "markdown",
      "source": [
        "*   ZONA_AGRUPADA: Especifica el número de Zona en la que ocurrió el accidente. Tipo numérico. \n",
        " (Agregación de la Zona en 2 valores: vías interurbanas y vías urbanas)\n",
        "*   SENTIDO_1F: Especifica el número de sentido de la vía donde ocurrió el accidente. Tipo numérico. \n",
        "(Agregación de Sentido 1F en 4 Valores: Ascendente, Descendente, Ambos, se desconoce)\n",
        "\n",
        "\n",
        "TENDENCIA- En la zona agrupada (Vias urbanadas) que desconoce el sentido 1F\n",
        "\n",
        "\n"
      ],
      "metadata": {
        "id": "YfFAdztlBbCp"
      }
    },
    {
      "cell_type": "code",
      "source": [
        "sns.factorplot('MES',data=df_cod,kind=\"count\", aspect=8)"
      ],
      "metadata": {
        "colab": {
          "base_uri": "https://localhost:8080/",
          "height": 302
        },
        "id": "89DnU3iGx5ZL",
        "outputId": "3e973703-4912-4148-e814-9b7701a0b6c5"
      },
      "execution_count": null,
      "outputs": [
        {
          "output_type": "stream",
          "name": "stderr",
          "text": [
            "/usr/local/lib/python3.7/dist-packages/seaborn/categorical.py:3717: UserWarning: The `factorplot` function has been renamed to `catplot`. The original name will be removed in a future release. Please update your code. Note that the default `kind` in `factorplot` (`'point'`) has changed `'strip'` in `catplot`.\n",
            "  warnings.warn(msg)\n",
            "/usr/local/lib/python3.7/dist-packages/seaborn/_decorators.py:43: FutureWarning: Pass the following variable as a keyword arg: x. From version 0.12, the only valid positional argument will be `data`, and passing other arguments without an explicit keyword will result in an error or misinterpretation.\n",
            "  FutureWarning\n"
          ]
        },
        {
          "output_type": "execute_result",
          "data": {
            "text/plain": [
              "<seaborn.axisgrid.FacetGrid at 0x7f2bca98e490>"
            ]
          },
          "metadata": {},
          "execution_count": 45
        },
        {
          "output_type": "display_data",
          "data": {
            "text/plain": [
              "<Figure size 2880x360 with 1 Axes>"
            ],
            "image/png": "[encoded data removed]"
          },
          "metadata": {}
        }
      ]
    },
    {
      "cell_type": "markdown",
      "source": [
        "MES: Especifica el mes en el que ocurrió el accidente. "
      ],
      "metadata": {
        "id": "8TCV_VeCCysI"
      }
    },
    {
      "cell_type": "code",
      "source": [
        "sns.factorplot('HORA',data=df_cod,kind=\"count\", aspect=8)"
      ],
      "metadata": {
        "colab": {
          "base_uri": "https://localhost:8080/",
          "height": 302
        },
        "id": "Q0yBLSzzzWcD",
        "outputId": "e054538c-0586-4ecd-f468-2716edcd7bf5"
      },
      "execution_count": null,
      "outputs": [
        {
          "output_type": "stream",
          "name": "stderr",
          "text": [
            "/usr/local/lib/python3.7/dist-packages/seaborn/categorical.py:3717: UserWarning: The `factorplot` function has been renamed to `catplot`. The original name will be removed in a future release. Please update your code. Note that the default `kind` in `factorplot` (`'point'`) has changed `'strip'` in `catplot`.\n",
            "  warnings.warn(msg)\n",
            "/usr/local/lib/python3.7/dist-packages/seaborn/_decorators.py:43: FutureWarning: Pass the following variable as a keyword arg: x. From version 0.12, the only valid positional argument will be `data`, and passing other arguments without an explicit keyword will result in an error or misinterpretation.\n",
            "  FutureWarning\n"
          ]
        },
        {
          "output_type": "execute_result",
          "data": {
            "text/plain": [
              "<seaborn.axisgrid.FacetGrid at 0x7f2bca935250>"
            ]
          },
          "metadata": {},
          "execution_count": 46
        },
        {
          "output_type": "display_data",
          "data": {
            "text/plain": [
              "<Figure size 2880x360 with 1 Axes>"
            ],
            "image/png": "[encoded data removed]"
          },
          "metadata": {}
        }
      ]
    },
    {
      "cell_type": "markdown",
      "source": [
        "HORA: Especifica la hora en la que ocurrió el accidente\n",
        "\n",
        "Aproximadamente a las 2 pm ocurre mayor cantidad de accidente"
      ],
      "metadata": {
        "id": "ayG1oytcC1fN"
      }
    },
    {
      "cell_type": "code",
      "source": [
        ""
      ],
      "metadata": {
        "id": "18k48mJWDxrf"
      },
      "execution_count": null,
      "outputs": []
    },
    {
      "cell_type": "markdown",
      "source": [
        "### ETAPA 3: TRANSFORMACION\n",
        "\n",
        "\n",
        "\n"
      ],
      "metadata": {
        "id": "dNJrJJApXPOv"
      }
    },
    {
      "cell_type": "markdown",
      "source": [
        "Esta etapa se realizará en Power BI."
      ],
      "metadata": {
        "id": "7Wbwv42U-YAc"
      }
    },
    {
      "cell_type": "code",
      "source": [
        "df_cod['ZONA_AGRUPADA'] = df_cod['ZONA_AGRUPADA'].map( {1: 'vías interurbanas', \n",
        "                                       2: 'vías urbanas',\n",
        "                                        '':0} ).astype(str)"
      ],
      "metadata": {
        "id": "LW17eypU-lFs"
      },
      "execution_count": null,
      "outputs": []
    },
    {
      "cell_type": "code",
      "source": [
        "df_cod['ZONA'] = df_cod['ZONA'].map( {1: 'carretera', \n",
        "                                       2: 'travesía',\n",
        "                                      3: 'autopista',\n",
        "                                      4: 'calle',\n",
        "                                        '':0} ).astype(str)"
      ],
      "metadata": {
        "id": "-4_iCn6QAcfT"
      },
      "execution_count": null,
      "outputs": []
    },
    {
      "cell_type": "code",
      "source": [
        "df_cod['SENTIDO_1F'] = df_cod['SENTIDO_1F'].map( {1: 'Ascendente', \n",
        "                                       2: 'Descendente',\n",
        "                                      3: 'Ambos',\n",
        "                                      4: 'Desconocido',\n",
        "                                        '':0} ).astype(str)"
      ],
      "metadata": {
        "id": "4pCiRcM8A3lj"
      },
      "execution_count": null,
      "outputs": []
    },
    {
      "cell_type": "code",
      "source": [
        "\n",
        "df_cod['TITULARIDAD_VIA'] = df_cod['TITULARIDAD_VIA'].map( {1: 'Estatal', \n",
        "                                       2: 'Autonómica',\n",
        "                                      3: 'Provincial cabildo/Consell',\n",
        "                                      4: 'Otra',\n",
        "                                      5: 'Municipal',\n",
        "                                        '':0} ).astype(str)"
      ],
      "metadata": {
        "id": "_7PuQgdLBHS7"
      },
      "execution_count": null,
      "outputs": []
    },
    {
      "cell_type": "markdown",
      "source": [
        "Descargar el conjunto de datos ya procesados para aplicar en otras herramientas"
      ],
      "metadata": {
        "id": "J0EeXTkmXXPr"
      }
    },
    {
      "cell_type": "code",
      "source": [
        "#from google.colab import files\n",
        "\n",
        "#with open('df.csv', 'w') as f:\n",
        " # df_cod.to_csv(f,  index = False)\n",
        "  \n",
        "#files.download('df.csv')"
      ],
      "metadata": {
        "id": "HP37EiITdaab"
      },
      "execution_count": null,
      "outputs": []
    },
    {
      "cell_type": "code",
      "source": [
        "df_cod.to_excel('df2.xlsx')"
      ],
      "metadata": {
        "id": "PVvUeXIigJil"
      },
      "execution_count": null,
      "outputs": []
    },
    {
      "cell_type": "code",
      "source": [
        "\n",
        "\n",
        "df_cod['TOTAL_MU30DF'].sum()"
      ],
      "metadata": {
        "colab": {
          "base_uri": "https://localhost:8080/"
        },
        "id": "AI1UEEVMYUNZ",
        "outputId": "b5b57c8d-957f-40b2-a7f3-73065f403603"
      },
      "execution_count": null,
      "outputs": [
        {
          "output_type": "execute_result",
          "data": {
            "text/plain": [
              "850"
            ]
          },
          "metadata": {},
          "execution_count": 53
        }
      ]
    },
    {
      "cell_type": "code",
      "source": [
        "df_cod['TOTAL_VICTIMAS_30DF'].sum()"
      ],
      "metadata": {
        "colab": {
          "base_uri": "https://localhost:8080/"
        },
        "id": "jnAIg9c0YtpW",
        "outputId": "93b3f79c-ebb7-4ad3-e48d-d2cd9d9e1d5e"
      },
      "execution_count": null,
      "outputs": [
        {
          "output_type": "execute_result",
          "data": {
            "text/plain": [
              "74151"
            ]
          },
          "metadata": {},
          "execution_count": 56
        }
      ]
    }
  ]
}